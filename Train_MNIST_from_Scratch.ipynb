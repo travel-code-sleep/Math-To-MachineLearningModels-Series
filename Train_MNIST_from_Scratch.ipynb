{
 "cells": [
  {
   "cell_type": "code",
   "execution_count": 1,
   "id": "774732f8-0cd7-454c-8ce1-2aad5059ae83",
   "metadata": {},
   "outputs": [],
   "source": [
    "%reload_ext autoreload\n",
    "%autoreload 2\n",
    "%matplotlib inline \n",
    "%config Completer.use_jedi = False"
   ]
  },
  {
   "cell_type": "markdown",
   "id": "c40b686e-d398-4381-a831-6ced0e074471",
   "metadata": {
    "tags": []
   },
   "source": [
    "## Imports"
   ]
  },
  {
   "cell_type": "code",
   "execution_count": 2,
   "id": "b48a16f8-8db7-4848-ade7-d074633ac624",
   "metadata": {},
   "outputs": [
    {
     "name": "stderr",
     "output_type": "stream",
     "text": [
      "D:\\ProgramData\\Anaconda3\\envs\\fastai\\lib\\site-packages\\fastbook\\__init__.py:18: UserWarning: Missing `graphviz` - please run `conda install fastbook`\n",
      "  except ModuleNotFoundError: warn(\"Missing `graphviz` - please run `conda install fastbook`\")\n"
     ]
    }
   ],
   "source": [
    "from fastai.vision.all import *\n",
    "import torch\n",
    "from pathlib import Path\n",
    "import gc\n",
    "from PIL import Image\n",
    "from fastbook import plot_function\n",
    "from tqdm import tqdm\n",
    "from tqdm.notebook import tqdm\n",
    "import pickle "
   ]
  },
  {
   "cell_type": "code",
   "execution_count": 3,
   "id": "639cf6d6-9651-4a31-99a1-eb94990f91d2",
   "metadata": {},
   "outputs": [],
   "source": [
    "from typing import Tuple"
   ]
  },
  {
   "cell_type": "markdown",
   "id": "dbb82667-9409-432b-a3d8-f26ebbbb18e7",
   "metadata": {
    "tags": [],
    "toc-hr-collapsed": true
   },
   "source": [
    "## Get Data"
   ]
  },
  {
   "cell_type": "code",
   "execution_count": 4,
   "id": "54b0d022-db19-4fbc-b3ef-db0570cb3fed",
   "metadata": {},
   "outputs": [],
   "source": [
    "path = untar_data(URLs.MNIST, dest=Path.cwd())"
   ]
  },
  {
   "cell_type": "code",
   "execution_count": 5,
   "id": "820bae94-a47c-4763-9274-c5d88863945c",
   "metadata": {},
   "outputs": [
    {
     "name": "stdout",
     "output_type": "stream",
     "text": [
      "[Path('D:/amit/DL_Books/deep_learning_for_coders_with_fastAI/practice_workspace/mnist_png/testing'), Path('D:/amit/DL_Books/deep_learning_for_coders_with_fastAI/practice_workspace/mnist_png/training')]\n"
     ]
    }
   ],
   "source": [
    "print(path.ls())"
   ]
  },
  {
   "cell_type": "code",
   "execution_count": 6,
   "id": "dc53a0d1-d542-457a-b0e2-52b6b2ac0c60",
   "metadata": {},
   "outputs": [
    {
     "data": {
      "text/plain": [
       "(#10) [Path('D:/amit/DL_Books/deep_learning_for_coders_with_fastAI/practice_workspace/mnist_png/training/0'),Path('D:/amit/DL_Books/deep_learning_for_coders_with_fastAI/practice_workspace/mnist_png/training/1'),Path('D:/amit/DL_Books/deep_learning_for_coders_with_fastAI/practice_workspace/mnist_png/training/2'),Path('D:/amit/DL_Books/deep_learning_for_coders_with_fastAI/practice_workspace/mnist_png/training/3'),Path('D:/amit/DL_Books/deep_learning_for_coders_with_fastAI/practice_workspace/mnist_png/training/4'),Path('D:/amit/DL_Books/deep_learning_for_coders_with_fastAI/practice_workspace/mnist_png/training/5'),Path('D:/amit/DL_Books/deep_learning_for_coders_with_fastAI/practice_workspace/mnist_png/training/6'),Path('D:/amit/DL_Books/deep_learning_for_coders_with_fastAI/practice_workspace/mnist_png/training/7'),Path('D:/amit/DL_Books/deep_learning_for_coders_with_fastAI/practice_workspace/mnist_png/training/8'),Path('D:/amit/DL_Books/deep_learning_for_coders_with_fastAI/practice_workspace/mnist_png/training/9')]"
      ]
     },
     "execution_count": 6,
     "metadata": {},
     "output_type": "execute_result"
    }
   ],
   "source": [
    "(path/'training').ls()"
   ]
  },
  {
   "cell_type": "markdown",
   "id": "3deae62e-8106-41d4-9c00-0f7361518344",
   "metadata": {
    "tags": [],
    "toc-hr-collapsed": true
   },
   "source": [
    "## Make Dataset"
   ]
  },
  {
   "cell_type": "code",
   "execution_count": 7,
   "id": "76a32a0f-5745-4230-ba1b-c4849ad3e85e",
   "metadata": {},
   "outputs": [],
   "source": [
    "digits_and_labels_train = [(tensor(Image.open(o)), o.parent.name) for p in (path/'training').ls() for o in p.ls()]"
   ]
  },
  {
   "cell_type": "code",
   "execution_count": 8,
   "id": "1f08fb16-c10d-42bd-a458-23c439fb83d9",
   "metadata": {
    "collapsed": true,
    "jupyter": {
     "outputs_hidden": true
    },
    "tags": []
   },
   "outputs": [
    {
     "data": {
      "text/html": [
       "<style  type=\"text/css\" >\n",
       "#T_8e728_row0_col0,#T_8e728_row0_col1,#T_8e728_row0_col2,#T_8e728_row0_col3,#T_8e728_row0_col4,#T_8e728_row0_col5,#T_8e728_row0_col6,#T_8e728_row0_col7,#T_8e728_row0_col8,#T_8e728_row0_col9,#T_8e728_row0_col10,#T_8e728_row0_col11,#T_8e728_row0_col12,#T_8e728_row0_col13,#T_8e728_row0_col14,#T_8e728_row0_col15,#T_8e728_row0_col16,#T_8e728_row0_col17,#T_8e728_row0_col18,#T_8e728_row0_col19,#T_8e728_row0_col20,#T_8e728_row0_col21,#T_8e728_row0_col22,#T_8e728_row0_col23,#T_8e728_row0_col24,#T_8e728_row0_col25,#T_8e728_row0_col26,#T_8e728_row0_col27,#T_8e728_row1_col0,#T_8e728_row1_col1,#T_8e728_row1_col2,#T_8e728_row1_col3,#T_8e728_row1_col4,#T_8e728_row1_col5,#T_8e728_row1_col6,#T_8e728_row1_col7,#T_8e728_row1_col8,#T_8e728_row1_col9,#T_8e728_row1_col10,#T_8e728_row1_col11,#T_8e728_row1_col12,#T_8e728_row1_col13,#T_8e728_row1_col14,#T_8e728_row1_col15,#T_8e728_row1_col16,#T_8e728_row1_col17,#T_8e728_row1_col18,#T_8e728_row1_col19,#T_8e728_row1_col20,#T_8e728_row1_col21,#T_8e728_row1_col22,#T_8e728_row1_col23,#T_8e728_row1_col24,#T_8e728_row1_col25,#T_8e728_row1_col26,#T_8e728_row1_col27,#T_8e728_row2_col0,#T_8e728_row2_col1,#T_8e728_row2_col2,#T_8e728_row2_col3,#T_8e728_row2_col4,#T_8e728_row2_col5,#T_8e728_row2_col6,#T_8e728_row2_col7,#T_8e728_row2_col8,#T_8e728_row2_col9,#T_8e728_row2_col10,#T_8e728_row2_col11,#T_8e728_row2_col12,#T_8e728_row2_col13,#T_8e728_row2_col14,#T_8e728_row2_col15,#T_8e728_row2_col16,#T_8e728_row2_col17,#T_8e728_row2_col18,#T_8e728_row2_col19,#T_8e728_row2_col20,#T_8e728_row2_col21,#T_8e728_row2_col22,#T_8e728_row2_col23,#T_8e728_row2_col24,#T_8e728_row2_col25,#T_8e728_row2_col26,#T_8e728_row2_col27,#T_8e728_row3_col0,#T_8e728_row3_col1,#T_8e728_row3_col2,#T_8e728_row3_col3,#T_8e728_row3_col4,#T_8e728_row3_col5,#T_8e728_row3_col6,#T_8e728_row3_col7,#T_8e728_row3_col8,#T_8e728_row3_col9,#T_8e728_row3_col10,#T_8e728_row3_col11,#T_8e728_row3_col12,#T_8e728_row3_col13,#T_8e728_row3_col14,#T_8e728_row3_col15,#T_8e728_row3_col16,#T_8e728_row3_col17,#T_8e728_row3_col18,#T_8e728_row3_col19,#T_8e728_row3_col20,#T_8e728_row3_col21,#T_8e728_row3_col22,#T_8e728_row3_col23,#T_8e728_row3_col24,#T_8e728_row3_col25,#T_8e728_row3_col26,#T_8e728_row3_col27,#T_8e728_row4_col0,#T_8e728_row4_col1,#T_8e728_row4_col2,#T_8e728_row4_col3,#T_8e728_row4_col4,#T_8e728_row4_col5,#T_8e728_row4_col6,#T_8e728_row4_col7,#T_8e728_row4_col8,#T_8e728_row4_col9,#T_8e728_row4_col10,#T_8e728_row4_col11,#T_8e728_row4_col12,#T_8e728_row4_col13,#T_8e728_row4_col14,#T_8e728_row4_col20,#T_8e728_row4_col21,#T_8e728_row4_col22,#T_8e728_row4_col23,#T_8e728_row4_col24,#T_8e728_row4_col25,#T_8e728_row4_col26,#T_8e728_row4_col27,#T_8e728_row5_col0,#T_8e728_row5_col1,#T_8e728_row5_col2,#T_8e728_row5_col3,#T_8e728_row5_col4,#T_8e728_row5_col5,#T_8e728_row5_col6,#T_8e728_row5_col7,#T_8e728_row5_col8,#T_8e728_row5_col9,#T_8e728_row5_col10,#T_8e728_row5_col11,#T_8e728_row5_col12,#T_8e728_row5_col13,#T_8e728_row5_col20,#T_8e728_row5_col21,#T_8e728_row5_col22,#T_8e728_row5_col23,#T_8e728_row5_col24,#T_8e728_row5_col25,#T_8e728_row5_col26,#T_8e728_row5_col27,#T_8e728_row6_col0,#T_8e728_row6_col1,#T_8e728_row6_col2,#T_8e728_row6_col3,#T_8e728_row6_col4,#T_8e728_row6_col5,#T_8e728_row6_col6,#T_8e728_row6_col7,#T_8e728_row6_col8,#T_8e728_row6_col9,#T_8e728_row6_col10,#T_8e728_row6_col11,#T_8e728_row6_col12,#T_8e728_row6_col22,#T_8e728_row6_col23,#T_8e728_row6_col24,#T_8e728_row6_col25,#T_8e728_row6_col26,#T_8e728_row6_col27,#T_8e728_row7_col0,#T_8e728_row7_col1,#T_8e728_row7_col2,#T_8e728_row7_col3,#T_8e728_row7_col4,#T_8e728_row7_col5,#T_8e728_row7_col6,#T_8e728_row7_col7,#T_8e728_row7_col8,#T_8e728_row7_col9,#T_8e728_row7_col10,#T_8e728_row7_col22,#T_8e728_row7_col23,#T_8e728_row7_col24,#T_8e728_row7_col25,#T_8e728_row7_col26,#T_8e728_row7_col27,#T_8e728_row8_col0,#T_8e728_row8_col1,#T_8e728_row8_col2,#T_8e728_row8_col3,#T_8e728_row8_col4,#T_8e728_row8_col5,#T_8e728_row8_col6,#T_8e728_row8_col7,#T_8e728_row8_col8,#T_8e728_row8_col9,#T_8e728_row8_col10,#T_8e728_row8_col22,#T_8e728_row8_col23,#T_8e728_row8_col24,#T_8e728_row8_col25,#T_8e728_row8_col26,#T_8e728_row8_col27,#T_8e728_row9_col0,#T_8e728_row9_col1,#T_8e728_row9_col2,#T_8e728_row9_col3,#T_8e728_row9_col4,#T_8e728_row9_col5,#T_8e728_row9_col6,#T_8e728_row9_col7,#T_8e728_row9_col8,#T_8e728_row9_col9,#T_8e728_row9_col22,#T_8e728_row9_col23,#T_8e728_row9_col24,#T_8e728_row9_col25,#T_8e728_row9_col26,#T_8e728_row9_col27,#T_8e728_row10_col0,#T_8e728_row10_col1,#T_8e728_row10_col2,#T_8e728_row10_col3,#T_8e728_row10_col4,#T_8e728_row10_col5,#T_8e728_row10_col6,#T_8e728_row10_col7,#T_8e728_row10_col8,#T_8e728_row10_col18,#T_8e728_row10_col19,#T_8e728_row10_col23,#T_8e728_row10_col24,#T_8e728_row10_col25,#T_8e728_row10_col26,#T_8e728_row10_col27,#T_8e728_row11_col0,#T_8e728_row11_col1,#T_8e728_row11_col2,#T_8e728_row11_col3,#T_8e728_row11_col4,#T_8e728_row11_col5,#T_8e728_row11_col6,#T_8e728_row11_col7,#T_8e728_row11_col14,#T_8e728_row11_col15,#T_8e728_row11_col16,#T_8e728_row11_col17,#T_8e728_row11_col18,#T_8e728_row11_col19,#T_8e728_row11_col23,#T_8e728_row11_col24,#T_8e728_row11_col25,#T_8e728_row11_col26,#T_8e728_row11_col27,#T_8e728_row12_col0,#T_8e728_row12_col1,#T_8e728_row12_col2,#T_8e728_row12_col3,#T_8e728_row12_col4,#T_8e728_row12_col5,#T_8e728_row12_col6,#T_8e728_row12_col14,#T_8e728_row12_col15,#T_8e728_row12_col16,#T_8e728_row12_col17,#T_8e728_row12_col18,#T_8e728_row12_col19,#T_8e728_row12_col23,#T_8e728_row12_col24,#T_8e728_row12_col25,#T_8e728_row12_col26,#T_8e728_row12_col27,#T_8e728_row13_col0,#T_8e728_row13_col1,#T_8e728_row13_col2,#T_8e728_row13_col3,#T_8e728_row13_col4,#T_8e728_row13_col5,#T_8e728_row13_col6,#T_8e728_row13_col11,#T_8e728_row13_col12,#T_8e728_row13_col13,#T_8e728_row13_col14,#T_8e728_row13_col15,#T_8e728_row13_col16,#T_8e728_row13_col17,#T_8e728_row13_col18,#T_8e728_row13_col19,#T_8e728_row13_col23,#T_8e728_row13_col24,#T_8e728_row13_col25,#T_8e728_row13_col26,#T_8e728_row13_col27,#T_8e728_row14_col0,#T_8e728_row14_col1,#T_8e728_row14_col2,#T_8e728_row14_col3,#T_8e728_row14_col4,#T_8e728_row14_col5,#T_8e728_row14_col6,#T_8e728_row14_col10,#T_8e728_row14_col11,#T_8e728_row14_col12,#T_8e728_row14_col13,#T_8e728_row14_col14,#T_8e728_row14_col15,#T_8e728_row14_col16,#T_8e728_row14_col17,#T_8e728_row14_col18,#T_8e728_row14_col19,#T_8e728_row14_col23,#T_8e728_row14_col24,#T_8e728_row14_col25,#T_8e728_row14_col26,#T_8e728_row14_col27,#T_8e728_row15_col0,#T_8e728_row15_col1,#T_8e728_row15_col2,#T_8e728_row15_col3,#T_8e728_row15_col4,#T_8e728_row15_col5,#T_8e728_row15_col10,#T_8e728_row15_col11,#T_8e728_row15_col12,#T_8e728_row15_col13,#T_8e728_row15_col14,#T_8e728_row15_col15,#T_8e728_row15_col16,#T_8e728_row15_col17,#T_8e728_row15_col18,#T_8e728_row15_col19,#T_8e728_row15_col23,#T_8e728_row15_col24,#T_8e728_row15_col25,#T_8e728_row15_col26,#T_8e728_row15_col27,#T_8e728_row16_col0,#T_8e728_row16_col1,#T_8e728_row16_col2,#T_8e728_row16_col3,#T_8e728_row16_col4,#T_8e728_row16_col5,#T_8e728_row16_col10,#T_8e728_row16_col11,#T_8e728_row16_col12,#T_8e728_row16_col13,#T_8e728_row16_col14,#T_8e728_row16_col15,#T_8e728_row16_col16,#T_8e728_row16_col17,#T_8e728_row16_col23,#T_8e728_row16_col24,#T_8e728_row16_col25,#T_8e728_row16_col26,#T_8e728_row16_col27,#T_8e728_row17_col0,#T_8e728_row17_col1,#T_8e728_row17_col2,#T_8e728_row17_col3,#T_8e728_row17_col4,#T_8e728_row17_col5,#T_8e728_row17_col9,#T_8e728_row17_col10,#T_8e728_row17_col11,#T_8e728_row17_col12,#T_8e728_row17_col13,#T_8e728_row17_col14,#T_8e728_row17_col15,#T_8e728_row17_col16,#T_8e728_row17_col22,#T_8e728_row17_col23,#T_8e728_row17_col24,#T_8e728_row17_col25,#T_8e728_row17_col26,#T_8e728_row17_col27,#T_8e728_row18_col0,#T_8e728_row18_col1,#T_8e728_row18_col2,#T_8e728_row18_col3,#T_8e728_row18_col4,#T_8e728_row18_col5,#T_8e728_row18_col9,#T_8e728_row18_col10,#T_8e728_row18_col11,#T_8e728_row18_col12,#T_8e728_row18_col13,#T_8e728_row18_col14,#T_8e728_row18_col15,#T_8e728_row18_col20,#T_8e728_row18_col21,#T_8e728_row18_col22,#T_8e728_row18_col23,#T_8e728_row18_col24,#T_8e728_row18_col25,#T_8e728_row18_col26,#T_8e728_row18_col27,#T_8e728_row19_col0,#T_8e728_row19_col1,#T_8e728_row19_col2,#T_8e728_row19_col3,#T_8e728_row19_col4,#T_8e728_row19_col5,#T_8e728_row19_col9,#T_8e728_row19_col10,#T_8e728_row19_col11,#T_8e728_row19_col12,#T_8e728_row19_col13,#T_8e728_row19_col14,#T_8e728_row19_col19,#T_8e728_row19_col20,#T_8e728_row19_col21,#T_8e728_row19_col22,#T_8e728_row19_col23,#T_8e728_row19_col24,#T_8e728_row19_col25,#T_8e728_row19_col26,#T_8e728_row19_col27,#T_8e728_row20_col0,#T_8e728_row20_col1,#T_8e728_row20_col2,#T_8e728_row20_col3,#T_8e728_row20_col4,#T_8e728_row20_col5,#T_8e728_row20_col19,#T_8e728_row20_col20,#T_8e728_row20_col21,#T_8e728_row20_col22,#T_8e728_row20_col23,#T_8e728_row20_col24,#T_8e728_row20_col25,#T_8e728_row20_col26,#T_8e728_row20_col27,#T_8e728_row21_col0,#T_8e728_row21_col1,#T_8e728_row21_col2,#T_8e728_row21_col3,#T_8e728_row21_col4,#T_8e728_row21_col5,#T_8e728_row21_col17,#T_8e728_row21_col18,#T_8e728_row21_col19,#T_8e728_row21_col20,#T_8e728_row21_col21,#T_8e728_row21_col22,#T_8e728_row21_col23,#T_8e728_row21_col24,#T_8e728_row21_col25,#T_8e728_row21_col26,#T_8e728_row21_col27,#T_8e728_row22_col0,#T_8e728_row22_col1,#T_8e728_row22_col2,#T_8e728_row22_col3,#T_8e728_row22_col4,#T_8e728_row22_col5,#T_8e728_row22_col15,#T_8e728_row22_col16,#T_8e728_row22_col17,#T_8e728_row22_col18,#T_8e728_row22_col19,#T_8e728_row22_col20,#T_8e728_row22_col21,#T_8e728_row22_col22,#T_8e728_row22_col23,#T_8e728_row22_col24,#T_8e728_row22_col25,#T_8e728_row22_col26,#T_8e728_row22_col27,#T_8e728_row23_col0,#T_8e728_row23_col1,#T_8e728_row23_col2,#T_8e728_row23_col3,#T_8e728_row23_col4,#T_8e728_row23_col5,#T_8e728_row23_col6,#T_8e728_row23_col14,#T_8e728_row23_col15,#T_8e728_row23_col16,#T_8e728_row23_col17,#T_8e728_row23_col18,#T_8e728_row23_col19,#T_8e728_row23_col20,#T_8e728_row23_col21,#T_8e728_row23_col22,#T_8e728_row23_col23,#T_8e728_row23_col24,#T_8e728_row23_col25,#T_8e728_row23_col26,#T_8e728_row23_col27,#T_8e728_row24_col0,#T_8e728_row24_col1,#T_8e728_row24_col2,#T_8e728_row24_col3,#T_8e728_row24_col4,#T_8e728_row24_col5,#T_8e728_row24_col6,#T_8e728_row24_col7,#T_8e728_row24_col8,#T_8e728_row24_col9,#T_8e728_row24_col10,#T_8e728_row24_col11,#T_8e728_row24_col12,#T_8e728_row24_col13,#T_8e728_row24_col14,#T_8e728_row24_col15,#T_8e728_row24_col16,#T_8e728_row24_col17,#T_8e728_row24_col18,#T_8e728_row24_col19,#T_8e728_row24_col20,#T_8e728_row24_col21,#T_8e728_row24_col22,#T_8e728_row24_col23,#T_8e728_row24_col24,#T_8e728_row24_col25,#T_8e728_row24_col26,#T_8e728_row24_col27,#T_8e728_row25_col0,#T_8e728_row25_col1,#T_8e728_row25_col2,#T_8e728_row25_col3,#T_8e728_row25_col4,#T_8e728_row25_col5,#T_8e728_row25_col6,#T_8e728_row25_col7,#T_8e728_row25_col8,#T_8e728_row25_col9,#T_8e728_row25_col10,#T_8e728_row25_col11,#T_8e728_row25_col12,#T_8e728_row25_col13,#T_8e728_row25_col14,#T_8e728_row25_col15,#T_8e728_row25_col16,#T_8e728_row25_col17,#T_8e728_row25_col18,#T_8e728_row25_col19,#T_8e728_row25_col20,#T_8e728_row25_col21,#T_8e728_row25_col22,#T_8e728_row25_col23,#T_8e728_row25_col24,#T_8e728_row25_col25,#T_8e728_row25_col26,#T_8e728_row25_col27,#T_8e728_row26_col0,#T_8e728_row26_col1,#T_8e728_row26_col2,#T_8e728_row26_col3,#T_8e728_row26_col4,#T_8e728_row26_col5,#T_8e728_row26_col6,#T_8e728_row26_col7,#T_8e728_row26_col8,#T_8e728_row26_col9,#T_8e728_row26_col10,#T_8e728_row26_col11,#T_8e728_row26_col12,#T_8e728_row26_col13,#T_8e728_row26_col14,#T_8e728_row26_col15,#T_8e728_row26_col16,#T_8e728_row26_col17,#T_8e728_row26_col18,#T_8e728_row26_col19,#T_8e728_row26_col20,#T_8e728_row26_col21,#T_8e728_row26_col22,#T_8e728_row26_col23,#T_8e728_row26_col24,#T_8e728_row26_col25,#T_8e728_row26_col26,#T_8e728_row26_col27,#T_8e728_row27_col0,#T_8e728_row27_col1,#T_8e728_row27_col2,#T_8e728_row27_col3,#T_8e728_row27_col4,#T_8e728_row27_col5,#T_8e728_row27_col6,#T_8e728_row27_col7,#T_8e728_row27_col8,#T_8e728_row27_col9,#T_8e728_row27_col10,#T_8e728_row27_col11,#T_8e728_row27_col12,#T_8e728_row27_col13,#T_8e728_row27_col14,#T_8e728_row27_col15,#T_8e728_row27_col16,#T_8e728_row27_col17,#T_8e728_row27_col18,#T_8e728_row27_col19,#T_8e728_row27_col20,#T_8e728_row27_col21,#T_8e728_row27_col22,#T_8e728_row27_col23,#T_8e728_row27_col24,#T_8e728_row27_col25,#T_8e728_row27_col26,#T_8e728_row27_col27{\n",
       "            font-size:  9pt;\n",
       "            background-color:  #ffffff;\n",
       "            color:  #000000;\n",
       "        }#T_8e728_row4_col15,#T_8e728_row9_col10{\n",
       "            font-size:  9pt;\n",
       "            background-color:  #e2e2e2;\n",
       "            color:  #000000;\n",
       "        }#T_8e728_row4_col16{\n",
       "            font-size:  9pt;\n",
       "            background-color:  #727272;\n",
       "            color:  #000000;\n",
       "        }#T_8e728_row4_col17,#T_8e728_row5_col18,#T_8e728_row6_col15,#T_8e728_row6_col19,#T_8e728_row7_col14,#T_8e728_row7_col15,#T_8e728_row7_col19,#T_8e728_row8_col14,#T_8e728_row8_col15,#T_8e728_row9_col12,#T_8e728_row9_col13,#T_8e728_row9_col16,#T_8e728_row9_col20,#T_8e728_row10_col11,#T_8e728_row11_col10,#T_8e728_row12_col9,#T_8e728_row13_col9,#T_8e728_row14_col8,#T_8e728_row14_col20,#T_8e728_row14_col21,#T_8e728_row14_col22,#T_8e728_row17_col19,#T_8e728_row18_col18,#T_8e728_row19_col6,#T_8e728_row19_col7,#T_8e728_row19_col17,#T_8e728_row20_col15,#T_8e728_row21_col9,#T_8e728_row21_col14,#T_8e728_row22_col9,#T_8e728_row22_col10,#T_8e728_row22_col11,#T_8e728_row23_col9,#T_8e728_row23_col10,#T_8e728_row23_col11{\n",
       "            font-size:  9pt;\n",
       "            background-color:  #000000;\n",
       "            color:  #f1f1f1;\n",
       "        }#T_8e728_row4_col18{\n",
       "            font-size:  9pt;\n",
       "            background-color:  #717171;\n",
       "            color:  #000000;\n",
       "        }#T_8e728_row4_col19{\n",
       "            font-size:  9pt;\n",
       "            background-color:  #e3e3e3;\n",
       "            color:  #000000;\n",
       "        }#T_8e728_row5_col14,#T_8e728_row10_col9,#T_8e728_row18_col16,#T_8e728_row20_col10{\n",
       "            font-size:  9pt;\n",
       "            background-color:  #e4e4e4;\n",
       "            color:  #000000;\n",
       "        }#T_8e728_row5_col15,#T_8e728_row5_col19,#T_8e728_row10_col10,#T_8e728_row19_col16{\n",
       "            font-size:  9pt;\n",
       "            background-color:  #111111;\n",
       "            color:  #f1f1f1;\n",
       "        }#T_8e728_row5_col16,#T_8e728_row5_col17,#T_8e728_row6_col16,#T_8e728_row7_col16,#T_8e728_row8_col12,#T_8e728_row8_col13,#T_8e728_row8_col16,#T_8e728_row8_col17,#T_8e728_row10_col12,#T_8e728_row11_col21,#T_8e728_row12_col21,#T_8e728_row12_col22,#T_8e728_row13_col8,#T_8e728_row13_col21,#T_8e728_row13_col22,#T_8e728_row15_col8,#T_8e728_row15_col21,#T_8e728_row16_col7,#T_8e728_row17_col7,#T_8e728_row18_col7,#T_8e728_row20_col7,#T_8e728_row21_col7,#T_8e728_row21_col8,#T_8e728_row21_col12,#T_8e728_row21_col13,#T_8e728_row22_col8,#T_8e728_row22_col12{\n",
       "            font-size:  9pt;\n",
       "            background-color:  #010101;\n",
       "            color:  #f1f1f1;\n",
       "        }#T_8e728_row6_col13{\n",
       "            font-size:  9pt;\n",
       "            background-color:  #e0e0e0;\n",
       "            color:  #000000;\n",
       "        }#T_8e728_row6_col14,#T_8e728_row9_col17{\n",
       "            font-size:  9pt;\n",
       "            background-color:  #1d1d1d;\n",
       "            color:  #f1f1f1;\n",
       "        }#T_8e728_row6_col17,#T_8e728_row9_col11{\n",
       "            font-size:  9pt;\n",
       "            background-color:  #101010;\n",
       "            color:  #f1f1f1;\n",
       "        }#T_8e728_row6_col18,#T_8e728_row11_col11{\n",
       "            font-size:  9pt;\n",
       "            background-color:  #161616;\n",
       "            color:  #f1f1f1;\n",
       "        }#T_8e728_row6_col20,#T_8e728_row13_col7{\n",
       "            font-size:  9pt;\n",
       "            background-color:  #dedede;\n",
       "            color:  #000000;\n",
       "        }#T_8e728_row6_col21,#T_8e728_row12_col7,#T_8e728_row16_col18,#T_8e728_row17_col17{\n",
       "            font-size:  9pt;\n",
       "            background-color:  #fcfcfc;\n",
       "            color:  #000000;\n",
       "        }#T_8e728_row7_col11{\n",
       "            font-size:  9pt;\n",
       "            background-color:  #fafafa;\n",
       "            color:  #000000;\n",
       "        }#T_8e728_row7_col12{\n",
       "            font-size:  9pt;\n",
       "            background-color:  #dcdcdc;\n",
       "            color:  #000000;\n",
       "        }#T_8e728_row7_col13,#T_8e728_row15_col6{\n",
       "            font-size:  9pt;\n",
       "            background-color:  #222222;\n",
       "            color:  #f1f1f1;\n",
       "        }#T_8e728_row7_col17{\n",
       "            font-size:  9pt;\n",
       "            background-color:  #404040;\n",
       "            color:  #f1f1f1;\n",
       "        }#T_8e728_row7_col18{\n",
       "            font-size:  9pt;\n",
       "            background-color:  #c6c6c6;\n",
       "            color:  #000000;\n",
       "        }#T_8e728_row7_col20,#T_8e728_row8_col20,#T_8e728_row10_col20,#T_8e728_row11_col20,#T_8e728_row12_col20,#T_8e728_row13_col20,#T_8e728_row15_col20,#T_8e728_row16_col6,#T_8e728_row16_col20,#T_8e728_row17_col6,#T_8e728_row18_col6,#T_8e728_row20_col6,#T_8e728_row21_col6{\n",
       "            font-size:  9pt;\n",
       "            background-color:  #020202;\n",
       "            color:  #f1f1f1;\n",
       "        }#T_8e728_row7_col21{\n",
       "            font-size:  9pt;\n",
       "            background-color:  #9c9c9c;\n",
       "            color:  #000000;\n",
       "        }#T_8e728_row8_col11{\n",
       "            font-size:  9pt;\n",
       "            background-color:  #6d6d6d;\n",
       "            color:  #000000;\n",
       "        }#T_8e728_row8_col18{\n",
       "            font-size:  9pt;\n",
       "            background-color:  #bbbbbb;\n",
       "            color:  #000000;\n",
       "        }#T_8e728_row8_col19{\n",
       "            font-size:  9pt;\n",
       "            background-color:  #515151;\n",
       "            color:  #f1f1f1;\n",
       "        }#T_8e728_row8_col21,#T_8e728_row20_col17{\n",
       "            font-size:  9pt;\n",
       "            background-color:  #6a6a6a;\n",
       "            color:  #000000;\n",
       "        }#T_8e728_row9_col14,#T_8e728_row14_col9,#T_8e728_row15_col22{\n",
       "            font-size:  9pt;\n",
       "            background-color:  #505050;\n",
       "            color:  #f1f1f1;\n",
       "        }#T_8e728_row9_col15,#T_8e728_row19_col15{\n",
       "            font-size:  9pt;\n",
       "            background-color:  #a5a5a5;\n",
       "            color:  #000000;\n",
       "        }#T_8e728_row9_col18{\n",
       "            font-size:  9pt;\n",
       "            background-color:  #e5e5e5;\n",
       "            color:  #000000;\n",
       "        }#T_8e728_row9_col19{\n",
       "            font-size:  9pt;\n",
       "            background-color:  #cbcbcb;\n",
       "            color:  #000000;\n",
       "        }#T_8e728_row9_col21{\n",
       "            font-size:  9pt;\n",
       "            background-color:  #696969;\n",
       "            color:  #000000;\n",
       "        }#T_8e728_row10_col13{\n",
       "            font-size:  9pt;\n",
       "            background-color:  #5d5d5d;\n",
       "            color:  #f1f1f1;\n",
       "        }#T_8e728_row10_col14{\n",
       "            font-size:  9pt;\n",
       "            background-color:  #f9f9f9;\n",
       "            color:  #000000;\n",
       "        }#T_8e728_row10_col15{\n",
       "            font-size:  9pt;\n",
       "            background-color:  #cfcfcf;\n",
       "            color:  #000000;\n",
       "        }#T_8e728_row10_col16{\n",
       "            font-size:  9pt;\n",
       "            background-color:  #9d9d9d;\n",
       "            color:  #000000;\n",
       "        }#T_8e728_row10_col17{\n",
       "            font-size:  9pt;\n",
       "            background-color:  #f5f5f5;\n",
       "            color:  #000000;\n",
       "        }#T_8e728_row10_col21{\n",
       "            font-size:  9pt;\n",
       "            background-color:  #0c0c0c;\n",
       "            color:  #f1f1f1;\n",
       "        }#T_8e728_row10_col22{\n",
       "            font-size:  9pt;\n",
       "            background-color:  #d8d8d8;\n",
       "            color:  #000000;\n",
       "        }#T_8e728_row11_col8,#T_8e728_row23_col13{\n",
       "            font-size:  9pt;\n",
       "            background-color:  #ececec;\n",
       "            color:  #000000;\n",
       "        }#T_8e728_row11_col9{\n",
       "            font-size:  9pt;\n",
       "            background-color:  #6b6b6b;\n",
       "            color:  #000000;\n",
       "        }#T_8e728_row11_col12{\n",
       "            font-size:  9pt;\n",
       "            background-color:  #383838;\n",
       "            color:  #f1f1f1;\n",
       "        }#T_8e728_row11_col13{\n",
       "            font-size:  9pt;\n",
       "            background-color:  #c7c7c7;\n",
       "            color:  #000000;\n",
       "        }#T_8e728_row11_col22{\n",
       "            font-size:  9pt;\n",
       "            background-color:  #303030;\n",
       "            color:  #f1f1f1;\n",
       "        }#T_8e728_row12_col8,#T_8e728_row20_col13{\n",
       "            font-size:  9pt;\n",
       "            background-color:  #5e5e5e;\n",
       "            color:  #f1f1f1;\n",
       "        }#T_8e728_row12_col10{\n",
       "            font-size:  9pt;\n",
       "            background-color:  #0f0f0f;\n",
       "            color:  #f1f1f1;\n",
       "        }#T_8e728_row12_col11{\n",
       "            font-size:  9pt;\n",
       "            background-color:  #d2d2d2;\n",
       "            color:  #000000;\n",
       "        }#T_8e728_row12_col12{\n",
       "            font-size:  9pt;\n",
       "            background-color:  #f6f6f6;\n",
       "            color:  #000000;\n",
       "        }#T_8e728_row12_col13{\n",
       "            font-size:  9pt;\n",
       "            background-color:  #f2f2f2;\n",
       "            color:  #000000;\n",
       "        }#T_8e728_row13_col10{\n",
       "            font-size:  9pt;\n",
       "            background-color:  #dadada;\n",
       "            color:  #000000;\n",
       "        }#T_8e728_row14_col7{\n",
       "            font-size:  9pt;\n",
       "            background-color:  #464646;\n",
       "            color:  #f1f1f1;\n",
       "        }#T_8e728_row15_col7{\n",
       "            font-size:  9pt;\n",
       "            background-color:  #080808;\n",
       "            color:  #f1f1f1;\n",
       "        }#T_8e728_row15_col9{\n",
       "            font-size:  9pt;\n",
       "            background-color:  #a8a8a8;\n",
       "            color:  #000000;\n",
       "        }#T_8e728_row16_col8{\n",
       "            font-size:  9pt;\n",
       "            background-color:  #1b1b1b;\n",
       "            color:  #f1f1f1;\n",
       "        }#T_8e728_row16_col9,#T_8e728_row23_col7{\n",
       "            font-size:  9pt;\n",
       "            background-color:  #f3f3f3;\n",
       "            color:  #000000;\n",
       "        }#T_8e728_row16_col19{\n",
       "            font-size:  9pt;\n",
       "            background-color:  #8c8c8c;\n",
       "            color:  #000000;\n",
       "        }#T_8e728_row16_col21{\n",
       "            font-size:  9pt;\n",
       "            background-color:  #555555;\n",
       "            color:  #f1f1f1;\n",
       "        }#T_8e728_row16_col22{\n",
       "            font-size:  9pt;\n",
       "            background-color:  #f8f8f8;\n",
       "            color:  #000000;\n",
       "        }#T_8e728_row17_col8,#T_8e728_row17_col20,#T_8e728_row20_col16{\n",
       "            font-size:  9pt;\n",
       "            background-color:  #232323;\n",
       "            color:  #f1f1f1;\n",
       "        }#T_8e728_row17_col18{\n",
       "            font-size:  9pt;\n",
       "            background-color:  #909090;\n",
       "            color:  #000000;\n",
       "        }#T_8e728_row17_col21{\n",
       "            font-size:  9pt;\n",
       "            background-color:  #d3d3d3;\n",
       "            color:  #000000;\n",
       "        }#T_8e728_row18_col8{\n",
       "            font-size:  9pt;\n",
       "            background-color:  #828282;\n",
       "            color:  #000000;\n",
       "        }#T_8e728_row18_col17{\n",
       "            font-size:  9pt;\n",
       "            background-color:  #6c6c6c;\n",
       "            color:  #000000;\n",
       "        }#T_8e728_row18_col19{\n",
       "            font-size:  9pt;\n",
       "            background-color:  #636363;\n",
       "            color:  #f1f1f1;\n",
       "        }#T_8e728_row19_col8{\n",
       "            font-size:  9pt;\n",
       "            background-color:  #212121;\n",
       "            color:  #f1f1f1;\n",
       "        }#T_8e728_row19_col18{\n",
       "            font-size:  9pt;\n",
       "            background-color:  #6e6e6e;\n",
       "            color:  #000000;\n",
       "        }#T_8e728_row20_col8{\n",
       "            font-size:  9pt;\n",
       "            background-color:  #050505;\n",
       "            color:  #f1f1f1;\n",
       "        }#T_8e728_row20_col9{\n",
       "            font-size:  9pt;\n",
       "            background-color:  #7f7f7f;\n",
       "            color:  #000000;\n",
       "        }#T_8e728_row20_col11{\n",
       "            font-size:  9pt;\n",
       "            background-color:  #f1f1f1;\n",
       "            color:  #000000;\n",
       "        }#T_8e728_row20_col12{\n",
       "            font-size:  9pt;\n",
       "            background-color:  #c5c5c5;\n",
       "            color:  #000000;\n",
       "        }#T_8e728_row20_col14{\n",
       "            font-size:  9pt;\n",
       "            background-color:  #1f1f1f;\n",
       "            color:  #f1f1f1;\n",
       "        }#T_8e728_row20_col18{\n",
       "            font-size:  9pt;\n",
       "            background-color:  #dfdfdf;\n",
       "            color:  #000000;\n",
       "        }#T_8e728_row21_col10{\n",
       "            font-size:  9pt;\n",
       "            background-color:  #1c1c1c;\n",
       "            color:  #f1f1f1;\n",
       "        }#T_8e728_row21_col11{\n",
       "            font-size:  9pt;\n",
       "            background-color:  #2c2c2c;\n",
       "            color:  #f1f1f1;\n",
       "        }#T_8e728_row21_col15{\n",
       "            font-size:  9pt;\n",
       "            background-color:  #484848;\n",
       "            color:  #f1f1f1;\n",
       "        }#T_8e728_row21_col16{\n",
       "            font-size:  9pt;\n",
       "            background-color:  #929292;\n",
       "            color:  #000000;\n",
       "        }#T_8e728_row22_col6{\n",
       "            font-size:  9pt;\n",
       "            background-color:  #c8c8c8;\n",
       "            color:  #000000;\n",
       "        }#T_8e728_row22_col7{\n",
       "            font-size:  9pt;\n",
       "            background-color:  #444444;\n",
       "            color:  #f1f1f1;\n",
       "        }#T_8e728_row22_col13{\n",
       "            font-size:  9pt;\n",
       "            background-color:  #171717;\n",
       "            color:  #f1f1f1;\n",
       "        }#T_8e728_row22_col14{\n",
       "            font-size:  9pt;\n",
       "            background-color:  #818181;\n",
       "            color:  #000000;\n",
       "        }#T_8e728_row23_col8{\n",
       "            font-size:  9pt;\n",
       "            background-color:  #949494;\n",
       "            color:  #000000;\n",
       "        }#T_8e728_row23_col12{\n",
       "            font-size:  9pt;\n",
       "            background-color:  #868686;\n",
       "            color:  #000000;\n",
       "        }</style><table id=\"T_8e728_\" ><thead>    <tr>        <th class=\"blank level0\" ></th>        <th class=\"col_heading level0 col0\" >0</th>        <th class=\"col_heading level0 col1\" >1</th>        <th class=\"col_heading level0 col2\" >2</th>        <th class=\"col_heading level0 col3\" >3</th>        <th class=\"col_heading level0 col4\" >4</th>        <th class=\"col_heading level0 col5\" >5</th>        <th class=\"col_heading level0 col6\" >6</th>        <th class=\"col_heading level0 col7\" >7</th>        <th class=\"col_heading level0 col8\" >8</th>        <th class=\"col_heading level0 col9\" >9</th>        <th class=\"col_heading level0 col10\" >10</th>        <th class=\"col_heading level0 col11\" >11</th>        <th class=\"col_heading level0 col12\" >12</th>        <th class=\"col_heading level0 col13\" >13</th>        <th class=\"col_heading level0 col14\" >14</th>        <th class=\"col_heading level0 col15\" >15</th>        <th class=\"col_heading level0 col16\" >16</th>        <th class=\"col_heading level0 col17\" >17</th>        <th class=\"col_heading level0 col18\" >18</th>        <th class=\"col_heading level0 col19\" >19</th>        <th class=\"col_heading level0 col20\" >20</th>        <th class=\"col_heading level0 col21\" >21</th>        <th class=\"col_heading level0 col22\" >22</th>        <th class=\"col_heading level0 col23\" >23</th>        <th class=\"col_heading level0 col24\" >24</th>        <th class=\"col_heading level0 col25\" >25</th>        <th class=\"col_heading level0 col26\" >26</th>        <th class=\"col_heading level0 col27\" >27</th>    </tr></thead><tbody>\n",
       "                <tr>\n",
       "                        <th id=\"T_8e728_level0_row0\" class=\"row_heading level0 row0\" >0</th>\n",
       "                        <td id=\"T_8e728_row0_col0\" class=\"data row0 col0\" >0</td>\n",
       "                        <td id=\"T_8e728_row0_col1\" class=\"data row0 col1\" >0</td>\n",
       "                        <td id=\"T_8e728_row0_col2\" class=\"data row0 col2\" >0</td>\n",
       "                        <td id=\"T_8e728_row0_col3\" class=\"data row0 col3\" >0</td>\n",
       "                        <td id=\"T_8e728_row0_col4\" class=\"data row0 col4\" >0</td>\n",
       "                        <td id=\"T_8e728_row0_col5\" class=\"data row0 col5\" >0</td>\n",
       "                        <td id=\"T_8e728_row0_col6\" class=\"data row0 col6\" >0</td>\n",
       "                        <td id=\"T_8e728_row0_col7\" class=\"data row0 col7\" >0</td>\n",
       "                        <td id=\"T_8e728_row0_col8\" class=\"data row0 col8\" >0</td>\n",
       "                        <td id=\"T_8e728_row0_col9\" class=\"data row0 col9\" >0</td>\n",
       "                        <td id=\"T_8e728_row0_col10\" class=\"data row0 col10\" >0</td>\n",
       "                        <td id=\"T_8e728_row0_col11\" class=\"data row0 col11\" >0</td>\n",
       "                        <td id=\"T_8e728_row0_col12\" class=\"data row0 col12\" >0</td>\n",
       "                        <td id=\"T_8e728_row0_col13\" class=\"data row0 col13\" >0</td>\n",
       "                        <td id=\"T_8e728_row0_col14\" class=\"data row0 col14\" >0</td>\n",
       "                        <td id=\"T_8e728_row0_col15\" class=\"data row0 col15\" >0</td>\n",
       "                        <td id=\"T_8e728_row0_col16\" class=\"data row0 col16\" >0</td>\n",
       "                        <td id=\"T_8e728_row0_col17\" class=\"data row0 col17\" >0</td>\n",
       "                        <td id=\"T_8e728_row0_col18\" class=\"data row0 col18\" >0</td>\n",
       "                        <td id=\"T_8e728_row0_col19\" class=\"data row0 col19\" >0</td>\n",
       "                        <td id=\"T_8e728_row0_col20\" class=\"data row0 col20\" >0</td>\n",
       "                        <td id=\"T_8e728_row0_col21\" class=\"data row0 col21\" >0</td>\n",
       "                        <td id=\"T_8e728_row0_col22\" class=\"data row0 col22\" >0</td>\n",
       "                        <td id=\"T_8e728_row0_col23\" class=\"data row0 col23\" >0</td>\n",
       "                        <td id=\"T_8e728_row0_col24\" class=\"data row0 col24\" >0</td>\n",
       "                        <td id=\"T_8e728_row0_col25\" class=\"data row0 col25\" >0</td>\n",
       "                        <td id=\"T_8e728_row0_col26\" class=\"data row0 col26\" >0</td>\n",
       "                        <td id=\"T_8e728_row0_col27\" class=\"data row0 col27\" >0</td>\n",
       "            </tr>\n",
       "            <tr>\n",
       "                        <th id=\"T_8e728_level0_row1\" class=\"row_heading level0 row1\" >1</th>\n",
       "                        <td id=\"T_8e728_row1_col0\" class=\"data row1 col0\" >0</td>\n",
       "                        <td id=\"T_8e728_row1_col1\" class=\"data row1 col1\" >0</td>\n",
       "                        <td id=\"T_8e728_row1_col2\" class=\"data row1 col2\" >0</td>\n",
       "                        <td id=\"T_8e728_row1_col3\" class=\"data row1 col3\" >0</td>\n",
       "                        <td id=\"T_8e728_row1_col4\" class=\"data row1 col4\" >0</td>\n",
       "                        <td id=\"T_8e728_row1_col5\" class=\"data row1 col5\" >0</td>\n",
       "                        <td id=\"T_8e728_row1_col6\" class=\"data row1 col6\" >0</td>\n",
       "                        <td id=\"T_8e728_row1_col7\" class=\"data row1 col7\" >0</td>\n",
       "                        <td id=\"T_8e728_row1_col8\" class=\"data row1 col8\" >0</td>\n",
       "                        <td id=\"T_8e728_row1_col9\" class=\"data row1 col9\" >0</td>\n",
       "                        <td id=\"T_8e728_row1_col10\" class=\"data row1 col10\" >0</td>\n",
       "                        <td id=\"T_8e728_row1_col11\" class=\"data row1 col11\" >0</td>\n",
       "                        <td id=\"T_8e728_row1_col12\" class=\"data row1 col12\" >0</td>\n",
       "                        <td id=\"T_8e728_row1_col13\" class=\"data row1 col13\" >0</td>\n",
       "                        <td id=\"T_8e728_row1_col14\" class=\"data row1 col14\" >0</td>\n",
       "                        <td id=\"T_8e728_row1_col15\" class=\"data row1 col15\" >0</td>\n",
       "                        <td id=\"T_8e728_row1_col16\" class=\"data row1 col16\" >0</td>\n",
       "                        <td id=\"T_8e728_row1_col17\" class=\"data row1 col17\" >0</td>\n",
       "                        <td id=\"T_8e728_row1_col18\" class=\"data row1 col18\" >0</td>\n",
       "                        <td id=\"T_8e728_row1_col19\" class=\"data row1 col19\" >0</td>\n",
       "                        <td id=\"T_8e728_row1_col20\" class=\"data row1 col20\" >0</td>\n",
       "                        <td id=\"T_8e728_row1_col21\" class=\"data row1 col21\" >0</td>\n",
       "                        <td id=\"T_8e728_row1_col22\" class=\"data row1 col22\" >0</td>\n",
       "                        <td id=\"T_8e728_row1_col23\" class=\"data row1 col23\" >0</td>\n",
       "                        <td id=\"T_8e728_row1_col24\" class=\"data row1 col24\" >0</td>\n",
       "                        <td id=\"T_8e728_row1_col25\" class=\"data row1 col25\" >0</td>\n",
       "                        <td id=\"T_8e728_row1_col26\" class=\"data row1 col26\" >0</td>\n",
       "                        <td id=\"T_8e728_row1_col27\" class=\"data row1 col27\" >0</td>\n",
       "            </tr>\n",
       "            <tr>\n",
       "                        <th id=\"T_8e728_level0_row2\" class=\"row_heading level0 row2\" >2</th>\n",
       "                        <td id=\"T_8e728_row2_col0\" class=\"data row2 col0\" >0</td>\n",
       "                        <td id=\"T_8e728_row2_col1\" class=\"data row2 col1\" >0</td>\n",
       "                        <td id=\"T_8e728_row2_col2\" class=\"data row2 col2\" >0</td>\n",
       "                        <td id=\"T_8e728_row2_col3\" class=\"data row2 col3\" >0</td>\n",
       "                        <td id=\"T_8e728_row2_col4\" class=\"data row2 col4\" >0</td>\n",
       "                        <td id=\"T_8e728_row2_col5\" class=\"data row2 col5\" >0</td>\n",
       "                        <td id=\"T_8e728_row2_col6\" class=\"data row2 col6\" >0</td>\n",
       "                        <td id=\"T_8e728_row2_col7\" class=\"data row2 col7\" >0</td>\n",
       "                        <td id=\"T_8e728_row2_col8\" class=\"data row2 col8\" >0</td>\n",
       "                        <td id=\"T_8e728_row2_col9\" class=\"data row2 col9\" >0</td>\n",
       "                        <td id=\"T_8e728_row2_col10\" class=\"data row2 col10\" >0</td>\n",
       "                        <td id=\"T_8e728_row2_col11\" class=\"data row2 col11\" >0</td>\n",
       "                        <td id=\"T_8e728_row2_col12\" class=\"data row2 col12\" >0</td>\n",
       "                        <td id=\"T_8e728_row2_col13\" class=\"data row2 col13\" >0</td>\n",
       "                        <td id=\"T_8e728_row2_col14\" class=\"data row2 col14\" >0</td>\n",
       "                        <td id=\"T_8e728_row2_col15\" class=\"data row2 col15\" >0</td>\n",
       "                        <td id=\"T_8e728_row2_col16\" class=\"data row2 col16\" >0</td>\n",
       "                        <td id=\"T_8e728_row2_col17\" class=\"data row2 col17\" >0</td>\n",
       "                        <td id=\"T_8e728_row2_col18\" class=\"data row2 col18\" >0</td>\n",
       "                        <td id=\"T_8e728_row2_col19\" class=\"data row2 col19\" >0</td>\n",
       "                        <td id=\"T_8e728_row2_col20\" class=\"data row2 col20\" >0</td>\n",
       "                        <td id=\"T_8e728_row2_col21\" class=\"data row2 col21\" >0</td>\n",
       "                        <td id=\"T_8e728_row2_col22\" class=\"data row2 col22\" >0</td>\n",
       "                        <td id=\"T_8e728_row2_col23\" class=\"data row2 col23\" >0</td>\n",
       "                        <td id=\"T_8e728_row2_col24\" class=\"data row2 col24\" >0</td>\n",
       "                        <td id=\"T_8e728_row2_col25\" class=\"data row2 col25\" >0</td>\n",
       "                        <td id=\"T_8e728_row2_col26\" class=\"data row2 col26\" >0</td>\n",
       "                        <td id=\"T_8e728_row2_col27\" class=\"data row2 col27\" >0</td>\n",
       "            </tr>\n",
       "            <tr>\n",
       "                        <th id=\"T_8e728_level0_row3\" class=\"row_heading level0 row3\" >3</th>\n",
       "                        <td id=\"T_8e728_row3_col0\" class=\"data row3 col0\" >0</td>\n",
       "                        <td id=\"T_8e728_row3_col1\" class=\"data row3 col1\" >0</td>\n",
       "                        <td id=\"T_8e728_row3_col2\" class=\"data row3 col2\" >0</td>\n",
       "                        <td id=\"T_8e728_row3_col3\" class=\"data row3 col3\" >0</td>\n",
       "                        <td id=\"T_8e728_row3_col4\" class=\"data row3 col4\" >0</td>\n",
       "                        <td id=\"T_8e728_row3_col5\" class=\"data row3 col5\" >0</td>\n",
       "                        <td id=\"T_8e728_row3_col6\" class=\"data row3 col6\" >0</td>\n",
       "                        <td id=\"T_8e728_row3_col7\" class=\"data row3 col7\" >0</td>\n",
       "                        <td id=\"T_8e728_row3_col8\" class=\"data row3 col8\" >0</td>\n",
       "                        <td id=\"T_8e728_row3_col9\" class=\"data row3 col9\" >0</td>\n",
       "                        <td id=\"T_8e728_row3_col10\" class=\"data row3 col10\" >0</td>\n",
       "                        <td id=\"T_8e728_row3_col11\" class=\"data row3 col11\" >0</td>\n",
       "                        <td id=\"T_8e728_row3_col12\" class=\"data row3 col12\" >0</td>\n",
       "                        <td id=\"T_8e728_row3_col13\" class=\"data row3 col13\" >0</td>\n",
       "                        <td id=\"T_8e728_row3_col14\" class=\"data row3 col14\" >0</td>\n",
       "                        <td id=\"T_8e728_row3_col15\" class=\"data row3 col15\" >0</td>\n",
       "                        <td id=\"T_8e728_row3_col16\" class=\"data row3 col16\" >0</td>\n",
       "                        <td id=\"T_8e728_row3_col17\" class=\"data row3 col17\" >0</td>\n",
       "                        <td id=\"T_8e728_row3_col18\" class=\"data row3 col18\" >0</td>\n",
       "                        <td id=\"T_8e728_row3_col19\" class=\"data row3 col19\" >0</td>\n",
       "                        <td id=\"T_8e728_row3_col20\" class=\"data row3 col20\" >0</td>\n",
       "                        <td id=\"T_8e728_row3_col21\" class=\"data row3 col21\" >0</td>\n",
       "                        <td id=\"T_8e728_row3_col22\" class=\"data row3 col22\" >0</td>\n",
       "                        <td id=\"T_8e728_row3_col23\" class=\"data row3 col23\" >0</td>\n",
       "                        <td id=\"T_8e728_row3_col24\" class=\"data row3 col24\" >0</td>\n",
       "                        <td id=\"T_8e728_row3_col25\" class=\"data row3 col25\" >0</td>\n",
       "                        <td id=\"T_8e728_row3_col26\" class=\"data row3 col26\" >0</td>\n",
       "                        <td id=\"T_8e728_row3_col27\" class=\"data row3 col27\" >0</td>\n",
       "            </tr>\n",
       "            <tr>\n",
       "                        <th id=\"T_8e728_level0_row4\" class=\"row_heading level0 row4\" >4</th>\n",
       "                        <td id=\"T_8e728_row4_col0\" class=\"data row4 col0\" >0</td>\n",
       "                        <td id=\"T_8e728_row4_col1\" class=\"data row4 col1\" >0</td>\n",
       "                        <td id=\"T_8e728_row4_col2\" class=\"data row4 col2\" >0</td>\n",
       "                        <td id=\"T_8e728_row4_col3\" class=\"data row4 col3\" >0</td>\n",
       "                        <td id=\"T_8e728_row4_col4\" class=\"data row4 col4\" >0</td>\n",
       "                        <td id=\"T_8e728_row4_col5\" class=\"data row4 col5\" >0</td>\n",
       "                        <td id=\"T_8e728_row4_col6\" class=\"data row4 col6\" >0</td>\n",
       "                        <td id=\"T_8e728_row4_col7\" class=\"data row4 col7\" >0</td>\n",
       "                        <td id=\"T_8e728_row4_col8\" class=\"data row4 col8\" >0</td>\n",
       "                        <td id=\"T_8e728_row4_col9\" class=\"data row4 col9\" >0</td>\n",
       "                        <td id=\"T_8e728_row4_col10\" class=\"data row4 col10\" >0</td>\n",
       "                        <td id=\"T_8e728_row4_col11\" class=\"data row4 col11\" >0</td>\n",
       "                        <td id=\"T_8e728_row4_col12\" class=\"data row4 col12\" >0</td>\n",
       "                        <td id=\"T_8e728_row4_col13\" class=\"data row4 col13\" >0</td>\n",
       "                        <td id=\"T_8e728_row4_col14\" class=\"data row4 col14\" >0</td>\n",
       "                        <td id=\"T_8e728_row4_col15\" class=\"data row4 col15\" >51</td>\n",
       "                        <td id=\"T_8e728_row4_col16\" class=\"data row4 col16\" >159</td>\n",
       "                        <td id=\"T_8e728_row4_col17\" class=\"data row4 col17\" >253</td>\n",
       "                        <td id=\"T_8e728_row4_col18\" class=\"data row4 col18\" >159</td>\n",
       "                        <td id=\"T_8e728_row4_col19\" class=\"data row4 col19\" >50</td>\n",
       "                        <td id=\"T_8e728_row4_col20\" class=\"data row4 col20\" >0</td>\n",
       "                        <td id=\"T_8e728_row4_col21\" class=\"data row4 col21\" >0</td>\n",
       "                        <td id=\"T_8e728_row4_col22\" class=\"data row4 col22\" >0</td>\n",
       "                        <td id=\"T_8e728_row4_col23\" class=\"data row4 col23\" >0</td>\n",
       "                        <td id=\"T_8e728_row4_col24\" class=\"data row4 col24\" >0</td>\n",
       "                        <td id=\"T_8e728_row4_col25\" class=\"data row4 col25\" >0</td>\n",
       "                        <td id=\"T_8e728_row4_col26\" class=\"data row4 col26\" >0</td>\n",
       "                        <td id=\"T_8e728_row4_col27\" class=\"data row4 col27\" >0</td>\n",
       "            </tr>\n",
       "            <tr>\n",
       "                        <th id=\"T_8e728_level0_row5\" class=\"row_heading level0 row5\" >5</th>\n",
       "                        <td id=\"T_8e728_row5_col0\" class=\"data row5 col0\" >0</td>\n",
       "                        <td id=\"T_8e728_row5_col1\" class=\"data row5 col1\" >0</td>\n",
       "                        <td id=\"T_8e728_row5_col2\" class=\"data row5 col2\" >0</td>\n",
       "                        <td id=\"T_8e728_row5_col3\" class=\"data row5 col3\" >0</td>\n",
       "                        <td id=\"T_8e728_row5_col4\" class=\"data row5 col4\" >0</td>\n",
       "                        <td id=\"T_8e728_row5_col5\" class=\"data row5 col5\" >0</td>\n",
       "                        <td id=\"T_8e728_row5_col6\" class=\"data row5 col6\" >0</td>\n",
       "                        <td id=\"T_8e728_row5_col7\" class=\"data row5 col7\" >0</td>\n",
       "                        <td id=\"T_8e728_row5_col8\" class=\"data row5 col8\" >0</td>\n",
       "                        <td id=\"T_8e728_row5_col9\" class=\"data row5 col9\" >0</td>\n",
       "                        <td id=\"T_8e728_row5_col10\" class=\"data row5 col10\" >0</td>\n",
       "                        <td id=\"T_8e728_row5_col11\" class=\"data row5 col11\" >0</td>\n",
       "                        <td id=\"T_8e728_row5_col12\" class=\"data row5 col12\" >0</td>\n",
       "                        <td id=\"T_8e728_row5_col13\" class=\"data row5 col13\" >0</td>\n",
       "                        <td id=\"T_8e728_row5_col14\" class=\"data row5 col14\" >48</td>\n",
       "                        <td id=\"T_8e728_row5_col15\" class=\"data row5 col15\" >238</td>\n",
       "                        <td id=\"T_8e728_row5_col16\" class=\"data row5 col16\" >252</td>\n",
       "                        <td id=\"T_8e728_row5_col17\" class=\"data row5 col17\" >252</td>\n",
       "                        <td id=\"T_8e728_row5_col18\" class=\"data row5 col18\" >252</td>\n",
       "                        <td id=\"T_8e728_row5_col19\" class=\"data row5 col19\" >237</td>\n",
       "                        <td id=\"T_8e728_row5_col20\" class=\"data row5 col20\" >0</td>\n",
       "                        <td id=\"T_8e728_row5_col21\" class=\"data row5 col21\" >0</td>\n",
       "                        <td id=\"T_8e728_row5_col22\" class=\"data row5 col22\" >0</td>\n",
       "                        <td id=\"T_8e728_row5_col23\" class=\"data row5 col23\" >0</td>\n",
       "                        <td id=\"T_8e728_row5_col24\" class=\"data row5 col24\" >0</td>\n",
       "                        <td id=\"T_8e728_row5_col25\" class=\"data row5 col25\" >0</td>\n",
       "                        <td id=\"T_8e728_row5_col26\" class=\"data row5 col26\" >0</td>\n",
       "                        <td id=\"T_8e728_row5_col27\" class=\"data row5 col27\" >0</td>\n",
       "            </tr>\n",
       "            <tr>\n",
       "                        <th id=\"T_8e728_level0_row6\" class=\"row_heading level0 row6\" >6</th>\n",
       "                        <td id=\"T_8e728_row6_col0\" class=\"data row6 col0\" >0</td>\n",
       "                        <td id=\"T_8e728_row6_col1\" class=\"data row6 col1\" >0</td>\n",
       "                        <td id=\"T_8e728_row6_col2\" class=\"data row6 col2\" >0</td>\n",
       "                        <td id=\"T_8e728_row6_col3\" class=\"data row6 col3\" >0</td>\n",
       "                        <td id=\"T_8e728_row6_col4\" class=\"data row6 col4\" >0</td>\n",
       "                        <td id=\"T_8e728_row6_col5\" class=\"data row6 col5\" >0</td>\n",
       "                        <td id=\"T_8e728_row6_col6\" class=\"data row6 col6\" >0</td>\n",
       "                        <td id=\"T_8e728_row6_col7\" class=\"data row6 col7\" >0</td>\n",
       "                        <td id=\"T_8e728_row6_col8\" class=\"data row6 col8\" >0</td>\n",
       "                        <td id=\"T_8e728_row6_col9\" class=\"data row6 col9\" >0</td>\n",
       "                        <td id=\"T_8e728_row6_col10\" class=\"data row6 col10\" >0</td>\n",
       "                        <td id=\"T_8e728_row6_col11\" class=\"data row6 col11\" >0</td>\n",
       "                        <td id=\"T_8e728_row6_col12\" class=\"data row6 col12\" >0</td>\n",
       "                        <td id=\"T_8e728_row6_col13\" class=\"data row6 col13\" >54</td>\n",
       "                        <td id=\"T_8e728_row6_col14\" class=\"data row6 col14\" >227</td>\n",
       "                        <td id=\"T_8e728_row6_col15\" class=\"data row6 col15\" >253</td>\n",
       "                        <td id=\"T_8e728_row6_col16\" class=\"data row6 col16\" >252</td>\n",
       "                        <td id=\"T_8e728_row6_col17\" class=\"data row6 col17\" >239</td>\n",
       "                        <td id=\"T_8e728_row6_col18\" class=\"data row6 col18\" >233</td>\n",
       "                        <td id=\"T_8e728_row6_col19\" class=\"data row6 col19\" >252</td>\n",
       "                        <td id=\"T_8e728_row6_col20\" class=\"data row6 col20\" >57</td>\n",
       "                        <td id=\"T_8e728_row6_col21\" class=\"data row6 col21\" >6</td>\n",
       "                        <td id=\"T_8e728_row6_col22\" class=\"data row6 col22\" >0</td>\n",
       "                        <td id=\"T_8e728_row6_col23\" class=\"data row6 col23\" >0</td>\n",
       "                        <td id=\"T_8e728_row6_col24\" class=\"data row6 col24\" >0</td>\n",
       "                        <td id=\"T_8e728_row6_col25\" class=\"data row6 col25\" >0</td>\n",
       "                        <td id=\"T_8e728_row6_col26\" class=\"data row6 col26\" >0</td>\n",
       "                        <td id=\"T_8e728_row6_col27\" class=\"data row6 col27\" >0</td>\n",
       "            </tr>\n",
       "            <tr>\n",
       "                        <th id=\"T_8e728_level0_row7\" class=\"row_heading level0 row7\" >7</th>\n",
       "                        <td id=\"T_8e728_row7_col0\" class=\"data row7 col0\" >0</td>\n",
       "                        <td id=\"T_8e728_row7_col1\" class=\"data row7 col1\" >0</td>\n",
       "                        <td id=\"T_8e728_row7_col2\" class=\"data row7 col2\" >0</td>\n",
       "                        <td id=\"T_8e728_row7_col3\" class=\"data row7 col3\" >0</td>\n",
       "                        <td id=\"T_8e728_row7_col4\" class=\"data row7 col4\" >0</td>\n",
       "                        <td id=\"T_8e728_row7_col5\" class=\"data row7 col5\" >0</td>\n",
       "                        <td id=\"T_8e728_row7_col6\" class=\"data row7 col6\" >0</td>\n",
       "                        <td id=\"T_8e728_row7_col7\" class=\"data row7 col7\" >0</td>\n",
       "                        <td id=\"T_8e728_row7_col8\" class=\"data row7 col8\" >0</td>\n",
       "                        <td id=\"T_8e728_row7_col9\" class=\"data row7 col9\" >0</td>\n",
       "                        <td id=\"T_8e728_row7_col10\" class=\"data row7 col10\" >0</td>\n",
       "                        <td id=\"T_8e728_row7_col11\" class=\"data row7 col11\" >10</td>\n",
       "                        <td id=\"T_8e728_row7_col12\" class=\"data row7 col12\" >60</td>\n",
       "                        <td id=\"T_8e728_row7_col13\" class=\"data row7 col13\" >224</td>\n",
       "                        <td id=\"T_8e728_row7_col14\" class=\"data row7 col14\" >252</td>\n",
       "                        <td id=\"T_8e728_row7_col15\" class=\"data row7 col15\" >253</td>\n",
       "                        <td id=\"T_8e728_row7_col16\" class=\"data row7 col16\" >252</td>\n",
       "                        <td id=\"T_8e728_row7_col17\" class=\"data row7 col17\" >202</td>\n",
       "                        <td id=\"T_8e728_row7_col18\" class=\"data row7 col18\" >84</td>\n",
       "                        <td id=\"T_8e728_row7_col19\" class=\"data row7 col19\" >252</td>\n",
       "                        <td id=\"T_8e728_row7_col20\" class=\"data row7 col20\" >253</td>\n",
       "                        <td id=\"T_8e728_row7_col21\" class=\"data row7 col21\" >122</td>\n",
       "                        <td id=\"T_8e728_row7_col22\" class=\"data row7 col22\" >0</td>\n",
       "                        <td id=\"T_8e728_row7_col23\" class=\"data row7 col23\" >0</td>\n",
       "                        <td id=\"T_8e728_row7_col24\" class=\"data row7 col24\" >0</td>\n",
       "                        <td id=\"T_8e728_row7_col25\" class=\"data row7 col25\" >0</td>\n",
       "                        <td id=\"T_8e728_row7_col26\" class=\"data row7 col26\" >0</td>\n",
       "                        <td id=\"T_8e728_row7_col27\" class=\"data row7 col27\" >0</td>\n",
       "            </tr>\n",
       "            <tr>\n",
       "                        <th id=\"T_8e728_level0_row8\" class=\"row_heading level0 row8\" >8</th>\n",
       "                        <td id=\"T_8e728_row8_col0\" class=\"data row8 col0\" >0</td>\n",
       "                        <td id=\"T_8e728_row8_col1\" class=\"data row8 col1\" >0</td>\n",
       "                        <td id=\"T_8e728_row8_col2\" class=\"data row8 col2\" >0</td>\n",
       "                        <td id=\"T_8e728_row8_col3\" class=\"data row8 col3\" >0</td>\n",
       "                        <td id=\"T_8e728_row8_col4\" class=\"data row8 col4\" >0</td>\n",
       "                        <td id=\"T_8e728_row8_col5\" class=\"data row8 col5\" >0</td>\n",
       "                        <td id=\"T_8e728_row8_col6\" class=\"data row8 col6\" >0</td>\n",
       "                        <td id=\"T_8e728_row8_col7\" class=\"data row8 col7\" >0</td>\n",
       "                        <td id=\"T_8e728_row8_col8\" class=\"data row8 col8\" >0</td>\n",
       "                        <td id=\"T_8e728_row8_col9\" class=\"data row8 col9\" >0</td>\n",
       "                        <td id=\"T_8e728_row8_col10\" class=\"data row8 col10\" >0</td>\n",
       "                        <td id=\"T_8e728_row8_col11\" class=\"data row8 col11\" >163</td>\n",
       "                        <td id=\"T_8e728_row8_col12\" class=\"data row8 col12\" >252</td>\n",
       "                        <td id=\"T_8e728_row8_col13\" class=\"data row8 col13\" >252</td>\n",
       "                        <td id=\"T_8e728_row8_col14\" class=\"data row8 col14\" >252</td>\n",
       "                        <td id=\"T_8e728_row8_col15\" class=\"data row8 col15\" >253</td>\n",
       "                        <td id=\"T_8e728_row8_col16\" class=\"data row8 col16\" >252</td>\n",
       "                        <td id=\"T_8e728_row8_col17\" class=\"data row8 col17\" >252</td>\n",
       "                        <td id=\"T_8e728_row8_col18\" class=\"data row8 col18\" >96</td>\n",
       "                        <td id=\"T_8e728_row8_col19\" class=\"data row8 col19\" >189</td>\n",
       "                        <td id=\"T_8e728_row8_col20\" class=\"data row8 col20\" >253</td>\n",
       "                        <td id=\"T_8e728_row8_col21\" class=\"data row8 col21\" >167</td>\n",
       "                        <td id=\"T_8e728_row8_col22\" class=\"data row8 col22\" >0</td>\n",
       "                        <td id=\"T_8e728_row8_col23\" class=\"data row8 col23\" >0</td>\n",
       "                        <td id=\"T_8e728_row8_col24\" class=\"data row8 col24\" >0</td>\n",
       "                        <td id=\"T_8e728_row8_col25\" class=\"data row8 col25\" >0</td>\n",
       "                        <td id=\"T_8e728_row8_col26\" class=\"data row8 col26\" >0</td>\n",
       "                        <td id=\"T_8e728_row8_col27\" class=\"data row8 col27\" >0</td>\n",
       "            </tr>\n",
       "            <tr>\n",
       "                        <th id=\"T_8e728_level0_row9\" class=\"row_heading level0 row9\" >9</th>\n",
       "                        <td id=\"T_8e728_row9_col0\" class=\"data row9 col0\" >0</td>\n",
       "                        <td id=\"T_8e728_row9_col1\" class=\"data row9 col1\" >0</td>\n",
       "                        <td id=\"T_8e728_row9_col2\" class=\"data row9 col2\" >0</td>\n",
       "                        <td id=\"T_8e728_row9_col3\" class=\"data row9 col3\" >0</td>\n",
       "                        <td id=\"T_8e728_row9_col4\" class=\"data row9 col4\" >0</td>\n",
       "                        <td id=\"T_8e728_row9_col5\" class=\"data row9 col5\" >0</td>\n",
       "                        <td id=\"T_8e728_row9_col6\" class=\"data row9 col6\" >0</td>\n",
       "                        <td id=\"T_8e728_row9_col7\" class=\"data row9 col7\" >0</td>\n",
       "                        <td id=\"T_8e728_row9_col8\" class=\"data row9 col8\" >0</td>\n",
       "                        <td id=\"T_8e728_row9_col9\" class=\"data row9 col9\" >0</td>\n",
       "                        <td id=\"T_8e728_row9_col10\" class=\"data row9 col10\" >51</td>\n",
       "                        <td id=\"T_8e728_row9_col11\" class=\"data row9 col11\" >238</td>\n",
       "                        <td id=\"T_8e728_row9_col12\" class=\"data row9 col12\" >253</td>\n",
       "                        <td id=\"T_8e728_row9_col13\" class=\"data row9 col13\" >253</td>\n",
       "                        <td id=\"T_8e728_row9_col14\" class=\"data row9 col14\" >190</td>\n",
       "                        <td id=\"T_8e728_row9_col15\" class=\"data row9 col15\" >114</td>\n",
       "                        <td id=\"T_8e728_row9_col16\" class=\"data row9 col16\" >253</td>\n",
       "                        <td id=\"T_8e728_row9_col17\" class=\"data row9 col17\" >228</td>\n",
       "                        <td id=\"T_8e728_row9_col18\" class=\"data row9 col18\" >47</td>\n",
       "                        <td id=\"T_8e728_row9_col19\" class=\"data row9 col19\" >79</td>\n",
       "                        <td id=\"T_8e728_row9_col20\" class=\"data row9 col20\" >255</td>\n",
       "                        <td id=\"T_8e728_row9_col21\" class=\"data row9 col21\" >168</td>\n",
       "                        <td id=\"T_8e728_row9_col22\" class=\"data row9 col22\" >0</td>\n",
       "                        <td id=\"T_8e728_row9_col23\" class=\"data row9 col23\" >0</td>\n",
       "                        <td id=\"T_8e728_row9_col24\" class=\"data row9 col24\" >0</td>\n",
       "                        <td id=\"T_8e728_row9_col25\" class=\"data row9 col25\" >0</td>\n",
       "                        <td id=\"T_8e728_row9_col26\" class=\"data row9 col26\" >0</td>\n",
       "                        <td id=\"T_8e728_row9_col27\" class=\"data row9 col27\" >0</td>\n",
       "            </tr>\n",
       "            <tr>\n",
       "                        <th id=\"T_8e728_level0_row10\" class=\"row_heading level0 row10\" >10</th>\n",
       "                        <td id=\"T_8e728_row10_col0\" class=\"data row10 col0\" >0</td>\n",
       "                        <td id=\"T_8e728_row10_col1\" class=\"data row10 col1\" >0</td>\n",
       "                        <td id=\"T_8e728_row10_col2\" class=\"data row10 col2\" >0</td>\n",
       "                        <td id=\"T_8e728_row10_col3\" class=\"data row10 col3\" >0</td>\n",
       "                        <td id=\"T_8e728_row10_col4\" class=\"data row10 col4\" >0</td>\n",
       "                        <td id=\"T_8e728_row10_col5\" class=\"data row10 col5\" >0</td>\n",
       "                        <td id=\"T_8e728_row10_col6\" class=\"data row10 col6\" >0</td>\n",
       "                        <td id=\"T_8e728_row10_col7\" class=\"data row10 col7\" >0</td>\n",
       "                        <td id=\"T_8e728_row10_col8\" class=\"data row10 col8\" >0</td>\n",
       "                        <td id=\"T_8e728_row10_col9\" class=\"data row10 col9\" >48</td>\n",
       "                        <td id=\"T_8e728_row10_col10\" class=\"data row10 col10\" >238</td>\n",
       "                        <td id=\"T_8e728_row10_col11\" class=\"data row10 col11\" >252</td>\n",
       "                        <td id=\"T_8e728_row10_col12\" class=\"data row10 col12\" >252</td>\n",
       "                        <td id=\"T_8e728_row10_col13\" class=\"data row10 col13\" >179</td>\n",
       "                        <td id=\"T_8e728_row10_col14\" class=\"data row10 col14\" >12</td>\n",
       "                        <td id=\"T_8e728_row10_col15\" class=\"data row10 col15\" >75</td>\n",
       "                        <td id=\"T_8e728_row10_col16\" class=\"data row10 col16\" >121</td>\n",
       "                        <td id=\"T_8e728_row10_col17\" class=\"data row10 col17\" >21</td>\n",
       "                        <td id=\"T_8e728_row10_col18\" class=\"data row10 col18\" >0</td>\n",
       "                        <td id=\"T_8e728_row10_col19\" class=\"data row10 col19\" >0</td>\n",
       "                        <td id=\"T_8e728_row10_col20\" class=\"data row10 col20\" >253</td>\n",
       "                        <td id=\"T_8e728_row10_col21\" class=\"data row10 col21\" >243</td>\n",
       "                        <td id=\"T_8e728_row10_col22\" class=\"data row10 col22\" >50</td>\n",
       "                        <td id=\"T_8e728_row10_col23\" class=\"data row10 col23\" >0</td>\n",
       "                        <td id=\"T_8e728_row10_col24\" class=\"data row10 col24\" >0</td>\n",
       "                        <td id=\"T_8e728_row10_col25\" class=\"data row10 col25\" >0</td>\n",
       "                        <td id=\"T_8e728_row10_col26\" class=\"data row10 col26\" >0</td>\n",
       "                        <td id=\"T_8e728_row10_col27\" class=\"data row10 col27\" >0</td>\n",
       "            </tr>\n",
       "            <tr>\n",
       "                        <th id=\"T_8e728_level0_row11\" class=\"row_heading level0 row11\" >11</th>\n",
       "                        <td id=\"T_8e728_row11_col0\" class=\"data row11 col0\" >0</td>\n",
       "                        <td id=\"T_8e728_row11_col1\" class=\"data row11 col1\" >0</td>\n",
       "                        <td id=\"T_8e728_row11_col2\" class=\"data row11 col2\" >0</td>\n",
       "                        <td id=\"T_8e728_row11_col3\" class=\"data row11 col3\" >0</td>\n",
       "                        <td id=\"T_8e728_row11_col4\" class=\"data row11 col4\" >0</td>\n",
       "                        <td id=\"T_8e728_row11_col5\" class=\"data row11 col5\" >0</td>\n",
       "                        <td id=\"T_8e728_row11_col6\" class=\"data row11 col6\" >0</td>\n",
       "                        <td id=\"T_8e728_row11_col7\" class=\"data row11 col7\" >0</td>\n",
       "                        <td id=\"T_8e728_row11_col8\" class=\"data row11 col8\" >38</td>\n",
       "                        <td id=\"T_8e728_row11_col9\" class=\"data row11 col9\" >165</td>\n",
       "                        <td id=\"T_8e728_row11_col10\" class=\"data row11 col10\" >253</td>\n",
       "                        <td id=\"T_8e728_row11_col11\" class=\"data row11 col11\" >233</td>\n",
       "                        <td id=\"T_8e728_row11_col12\" class=\"data row11 col12\" >208</td>\n",
       "                        <td id=\"T_8e728_row11_col13\" class=\"data row11 col13\" >84</td>\n",
       "                        <td id=\"T_8e728_row11_col14\" class=\"data row11 col14\" >0</td>\n",
       "                        <td id=\"T_8e728_row11_col15\" class=\"data row11 col15\" >0</td>\n",
       "                        <td id=\"T_8e728_row11_col16\" class=\"data row11 col16\" >0</td>\n",
       "                        <td id=\"T_8e728_row11_col17\" class=\"data row11 col17\" >0</td>\n",
       "                        <td id=\"T_8e728_row11_col18\" class=\"data row11 col18\" >0</td>\n",
       "                        <td id=\"T_8e728_row11_col19\" class=\"data row11 col19\" >0</td>\n",
       "                        <td id=\"T_8e728_row11_col20\" class=\"data row11 col20\" >253</td>\n",
       "                        <td id=\"T_8e728_row11_col21\" class=\"data row11 col21\" >252</td>\n",
       "                        <td id=\"T_8e728_row11_col22\" class=\"data row11 col22\" >165</td>\n",
       "                        <td id=\"T_8e728_row11_col23\" class=\"data row11 col23\" >0</td>\n",
       "                        <td id=\"T_8e728_row11_col24\" class=\"data row11 col24\" >0</td>\n",
       "                        <td id=\"T_8e728_row11_col25\" class=\"data row11 col25\" >0</td>\n",
       "                        <td id=\"T_8e728_row11_col26\" class=\"data row11 col26\" >0</td>\n",
       "                        <td id=\"T_8e728_row11_col27\" class=\"data row11 col27\" >0</td>\n",
       "            </tr>\n",
       "            <tr>\n",
       "                        <th id=\"T_8e728_level0_row12\" class=\"row_heading level0 row12\" >12</th>\n",
       "                        <td id=\"T_8e728_row12_col0\" class=\"data row12 col0\" >0</td>\n",
       "                        <td id=\"T_8e728_row12_col1\" class=\"data row12 col1\" >0</td>\n",
       "                        <td id=\"T_8e728_row12_col2\" class=\"data row12 col2\" >0</td>\n",
       "                        <td id=\"T_8e728_row12_col3\" class=\"data row12 col3\" >0</td>\n",
       "                        <td id=\"T_8e728_row12_col4\" class=\"data row12 col4\" >0</td>\n",
       "                        <td id=\"T_8e728_row12_col5\" class=\"data row12 col5\" >0</td>\n",
       "                        <td id=\"T_8e728_row12_col6\" class=\"data row12 col6\" >0</td>\n",
       "                        <td id=\"T_8e728_row12_col7\" class=\"data row12 col7\" >7</td>\n",
       "                        <td id=\"T_8e728_row12_col8\" class=\"data row12 col8\" >178</td>\n",
       "                        <td id=\"T_8e728_row12_col9\" class=\"data row12 col9\" >252</td>\n",
       "                        <td id=\"T_8e728_row12_col10\" class=\"data row12 col10\" >240</td>\n",
       "                        <td id=\"T_8e728_row12_col11\" class=\"data row12 col11\" >71</td>\n",
       "                        <td id=\"T_8e728_row12_col12\" class=\"data row12 col12\" >19</td>\n",
       "                        <td id=\"T_8e728_row12_col13\" class=\"data row12 col13\" >28</td>\n",
       "                        <td id=\"T_8e728_row12_col14\" class=\"data row12 col14\" >0</td>\n",
       "                        <td id=\"T_8e728_row12_col15\" class=\"data row12 col15\" >0</td>\n",
       "                        <td id=\"T_8e728_row12_col16\" class=\"data row12 col16\" >0</td>\n",
       "                        <td id=\"T_8e728_row12_col17\" class=\"data row12 col17\" >0</td>\n",
       "                        <td id=\"T_8e728_row12_col18\" class=\"data row12 col18\" >0</td>\n",
       "                        <td id=\"T_8e728_row12_col19\" class=\"data row12 col19\" >0</td>\n",
       "                        <td id=\"T_8e728_row12_col20\" class=\"data row12 col20\" >253</td>\n",
       "                        <td id=\"T_8e728_row12_col21\" class=\"data row12 col21\" >252</td>\n",
       "                        <td id=\"T_8e728_row12_col22\" class=\"data row12 col22\" >195</td>\n",
       "                        <td id=\"T_8e728_row12_col23\" class=\"data row12 col23\" >0</td>\n",
       "                        <td id=\"T_8e728_row12_col24\" class=\"data row12 col24\" >0</td>\n",
       "                        <td id=\"T_8e728_row12_col25\" class=\"data row12 col25\" >0</td>\n",
       "                        <td id=\"T_8e728_row12_col26\" class=\"data row12 col26\" >0</td>\n",
       "                        <td id=\"T_8e728_row12_col27\" class=\"data row12 col27\" >0</td>\n",
       "            </tr>\n",
       "            <tr>\n",
       "                        <th id=\"T_8e728_level0_row13\" class=\"row_heading level0 row13\" >13</th>\n",
       "                        <td id=\"T_8e728_row13_col0\" class=\"data row13 col0\" >0</td>\n",
       "                        <td id=\"T_8e728_row13_col1\" class=\"data row13 col1\" >0</td>\n",
       "                        <td id=\"T_8e728_row13_col2\" class=\"data row13 col2\" >0</td>\n",
       "                        <td id=\"T_8e728_row13_col3\" class=\"data row13 col3\" >0</td>\n",
       "                        <td id=\"T_8e728_row13_col4\" class=\"data row13 col4\" >0</td>\n",
       "                        <td id=\"T_8e728_row13_col5\" class=\"data row13 col5\" >0</td>\n",
       "                        <td id=\"T_8e728_row13_col6\" class=\"data row13 col6\" >0</td>\n",
       "                        <td id=\"T_8e728_row13_col7\" class=\"data row13 col7\" >57</td>\n",
       "                        <td id=\"T_8e728_row13_col8\" class=\"data row13 col8\" >252</td>\n",
       "                        <td id=\"T_8e728_row13_col9\" class=\"data row13 col9\" >252</td>\n",
       "                        <td id=\"T_8e728_row13_col10\" class=\"data row13 col10\" >63</td>\n",
       "                        <td id=\"T_8e728_row13_col11\" class=\"data row13 col11\" >0</td>\n",
       "                        <td id=\"T_8e728_row13_col12\" class=\"data row13 col12\" >0</td>\n",
       "                        <td id=\"T_8e728_row13_col13\" class=\"data row13 col13\" >0</td>\n",
       "                        <td id=\"T_8e728_row13_col14\" class=\"data row13 col14\" >0</td>\n",
       "                        <td id=\"T_8e728_row13_col15\" class=\"data row13 col15\" >0</td>\n",
       "                        <td id=\"T_8e728_row13_col16\" class=\"data row13 col16\" >0</td>\n",
       "                        <td id=\"T_8e728_row13_col17\" class=\"data row13 col17\" >0</td>\n",
       "                        <td id=\"T_8e728_row13_col18\" class=\"data row13 col18\" >0</td>\n",
       "                        <td id=\"T_8e728_row13_col19\" class=\"data row13 col19\" >0</td>\n",
       "                        <td id=\"T_8e728_row13_col20\" class=\"data row13 col20\" >253</td>\n",
       "                        <td id=\"T_8e728_row13_col21\" class=\"data row13 col21\" >252</td>\n",
       "                        <td id=\"T_8e728_row13_col22\" class=\"data row13 col22\" >195</td>\n",
       "                        <td id=\"T_8e728_row13_col23\" class=\"data row13 col23\" >0</td>\n",
       "                        <td id=\"T_8e728_row13_col24\" class=\"data row13 col24\" >0</td>\n",
       "                        <td id=\"T_8e728_row13_col25\" class=\"data row13 col25\" >0</td>\n",
       "                        <td id=\"T_8e728_row13_col26\" class=\"data row13 col26\" >0</td>\n",
       "                        <td id=\"T_8e728_row13_col27\" class=\"data row13 col27\" >0</td>\n",
       "            </tr>\n",
       "            <tr>\n",
       "                        <th id=\"T_8e728_level0_row14\" class=\"row_heading level0 row14\" >14</th>\n",
       "                        <td id=\"T_8e728_row14_col0\" class=\"data row14 col0\" >0</td>\n",
       "                        <td id=\"T_8e728_row14_col1\" class=\"data row14 col1\" >0</td>\n",
       "                        <td id=\"T_8e728_row14_col2\" class=\"data row14 col2\" >0</td>\n",
       "                        <td id=\"T_8e728_row14_col3\" class=\"data row14 col3\" >0</td>\n",
       "                        <td id=\"T_8e728_row14_col4\" class=\"data row14 col4\" >0</td>\n",
       "                        <td id=\"T_8e728_row14_col5\" class=\"data row14 col5\" >0</td>\n",
       "                        <td id=\"T_8e728_row14_col6\" class=\"data row14 col6\" >0</td>\n",
       "                        <td id=\"T_8e728_row14_col7\" class=\"data row14 col7\" >198</td>\n",
       "                        <td id=\"T_8e728_row14_col8\" class=\"data row14 col8\" >253</td>\n",
       "                        <td id=\"T_8e728_row14_col9\" class=\"data row14 col9\" >190</td>\n",
       "                        <td id=\"T_8e728_row14_col10\" class=\"data row14 col10\" >0</td>\n",
       "                        <td id=\"T_8e728_row14_col11\" class=\"data row14 col11\" >0</td>\n",
       "                        <td id=\"T_8e728_row14_col12\" class=\"data row14 col12\" >0</td>\n",
       "                        <td id=\"T_8e728_row14_col13\" class=\"data row14 col13\" >0</td>\n",
       "                        <td id=\"T_8e728_row14_col14\" class=\"data row14 col14\" >0</td>\n",
       "                        <td id=\"T_8e728_row14_col15\" class=\"data row14 col15\" >0</td>\n",
       "                        <td id=\"T_8e728_row14_col16\" class=\"data row14 col16\" >0</td>\n",
       "                        <td id=\"T_8e728_row14_col17\" class=\"data row14 col17\" >0</td>\n",
       "                        <td id=\"T_8e728_row14_col18\" class=\"data row14 col18\" >0</td>\n",
       "                        <td id=\"T_8e728_row14_col19\" class=\"data row14 col19\" >0</td>\n",
       "                        <td id=\"T_8e728_row14_col20\" class=\"data row14 col20\" >255</td>\n",
       "                        <td id=\"T_8e728_row14_col21\" class=\"data row14 col21\" >253</td>\n",
       "                        <td id=\"T_8e728_row14_col22\" class=\"data row14 col22\" >196</td>\n",
       "                        <td id=\"T_8e728_row14_col23\" class=\"data row14 col23\" >0</td>\n",
       "                        <td id=\"T_8e728_row14_col24\" class=\"data row14 col24\" >0</td>\n",
       "                        <td id=\"T_8e728_row14_col25\" class=\"data row14 col25\" >0</td>\n",
       "                        <td id=\"T_8e728_row14_col26\" class=\"data row14 col26\" >0</td>\n",
       "                        <td id=\"T_8e728_row14_col27\" class=\"data row14 col27\" >0</td>\n",
       "            </tr>\n",
       "            <tr>\n",
       "                        <th id=\"T_8e728_level0_row15\" class=\"row_heading level0 row15\" >15</th>\n",
       "                        <td id=\"T_8e728_row15_col0\" class=\"data row15 col0\" >0</td>\n",
       "                        <td id=\"T_8e728_row15_col1\" class=\"data row15 col1\" >0</td>\n",
       "                        <td id=\"T_8e728_row15_col2\" class=\"data row15 col2\" >0</td>\n",
       "                        <td id=\"T_8e728_row15_col3\" class=\"data row15 col3\" >0</td>\n",
       "                        <td id=\"T_8e728_row15_col4\" class=\"data row15 col4\" >0</td>\n",
       "                        <td id=\"T_8e728_row15_col5\" class=\"data row15 col5\" >0</td>\n",
       "                        <td id=\"T_8e728_row15_col6\" class=\"data row15 col6\" >76</td>\n",
       "                        <td id=\"T_8e728_row15_col7\" class=\"data row15 col7\" >246</td>\n",
       "                        <td id=\"T_8e728_row15_col8\" class=\"data row15 col8\" >252</td>\n",
       "                        <td id=\"T_8e728_row15_col9\" class=\"data row15 col9\" >112</td>\n",
       "                        <td id=\"T_8e728_row15_col10\" class=\"data row15 col10\" >0</td>\n",
       "                        <td id=\"T_8e728_row15_col11\" class=\"data row15 col11\" >0</td>\n",
       "                        <td id=\"T_8e728_row15_col12\" class=\"data row15 col12\" >0</td>\n",
       "                        <td id=\"T_8e728_row15_col13\" class=\"data row15 col13\" >0</td>\n",
       "                        <td id=\"T_8e728_row15_col14\" class=\"data row15 col14\" >0</td>\n",
       "                        <td id=\"T_8e728_row15_col15\" class=\"data row15 col15\" >0</td>\n",
       "                        <td id=\"T_8e728_row15_col16\" class=\"data row15 col16\" >0</td>\n",
       "                        <td id=\"T_8e728_row15_col17\" class=\"data row15 col17\" >0</td>\n",
       "                        <td id=\"T_8e728_row15_col18\" class=\"data row15 col18\" >0</td>\n",
       "                        <td id=\"T_8e728_row15_col19\" class=\"data row15 col19\" >0</td>\n",
       "                        <td id=\"T_8e728_row15_col20\" class=\"data row15 col20\" >253</td>\n",
       "                        <td id=\"T_8e728_row15_col21\" class=\"data row15 col21\" >252</td>\n",
       "                        <td id=\"T_8e728_row15_col22\" class=\"data row15 col22\" >148</td>\n",
       "                        <td id=\"T_8e728_row15_col23\" class=\"data row15 col23\" >0</td>\n",
       "                        <td id=\"T_8e728_row15_col24\" class=\"data row15 col24\" >0</td>\n",
       "                        <td id=\"T_8e728_row15_col25\" class=\"data row15 col25\" >0</td>\n",
       "                        <td id=\"T_8e728_row15_col26\" class=\"data row15 col26\" >0</td>\n",
       "                        <td id=\"T_8e728_row15_col27\" class=\"data row15 col27\" >0</td>\n",
       "            </tr>\n",
       "            <tr>\n",
       "                        <th id=\"T_8e728_level0_row16\" class=\"row_heading level0 row16\" >16</th>\n",
       "                        <td id=\"T_8e728_row16_col0\" class=\"data row16 col0\" >0</td>\n",
       "                        <td id=\"T_8e728_row16_col1\" class=\"data row16 col1\" >0</td>\n",
       "                        <td id=\"T_8e728_row16_col2\" class=\"data row16 col2\" >0</td>\n",
       "                        <td id=\"T_8e728_row16_col3\" class=\"data row16 col3\" >0</td>\n",
       "                        <td id=\"T_8e728_row16_col4\" class=\"data row16 col4\" >0</td>\n",
       "                        <td id=\"T_8e728_row16_col5\" class=\"data row16 col5\" >0</td>\n",
       "                        <td id=\"T_8e728_row16_col6\" class=\"data row16 col6\" >85</td>\n",
       "                        <td id=\"T_8e728_row16_col7\" class=\"data row16 col7\" >252</td>\n",
       "                        <td id=\"T_8e728_row16_col8\" class=\"data row16 col8\" >230</td>\n",
       "                        <td id=\"T_8e728_row16_col9\" class=\"data row16 col9\" >25</td>\n",
       "                        <td id=\"T_8e728_row16_col10\" class=\"data row16 col10\" >0</td>\n",
       "                        <td id=\"T_8e728_row16_col11\" class=\"data row16 col11\" >0</td>\n",
       "                        <td id=\"T_8e728_row16_col12\" class=\"data row16 col12\" >0</td>\n",
       "                        <td id=\"T_8e728_row16_col13\" class=\"data row16 col13\" >0</td>\n",
       "                        <td id=\"T_8e728_row16_col14\" class=\"data row16 col14\" >0</td>\n",
       "                        <td id=\"T_8e728_row16_col15\" class=\"data row16 col15\" >0</td>\n",
       "                        <td id=\"T_8e728_row16_col16\" class=\"data row16 col16\" >0</td>\n",
       "                        <td id=\"T_8e728_row16_col17\" class=\"data row16 col17\" >0</td>\n",
       "                        <td id=\"T_8e728_row16_col18\" class=\"data row16 col18\" >7</td>\n",
       "                        <td id=\"T_8e728_row16_col19\" class=\"data row16 col19\" >135</td>\n",
       "                        <td id=\"T_8e728_row16_col20\" class=\"data row16 col20\" >253</td>\n",
       "                        <td id=\"T_8e728_row16_col21\" class=\"data row16 col21\" >186</td>\n",
       "                        <td id=\"T_8e728_row16_col22\" class=\"data row16 col22\" >12</td>\n",
       "                        <td id=\"T_8e728_row16_col23\" class=\"data row16 col23\" >0</td>\n",
       "                        <td id=\"T_8e728_row16_col24\" class=\"data row16 col24\" >0</td>\n",
       "                        <td id=\"T_8e728_row16_col25\" class=\"data row16 col25\" >0</td>\n",
       "                        <td id=\"T_8e728_row16_col26\" class=\"data row16 col26\" >0</td>\n",
       "                        <td id=\"T_8e728_row16_col27\" class=\"data row16 col27\" >0</td>\n",
       "            </tr>\n",
       "            <tr>\n",
       "                        <th id=\"T_8e728_level0_row17\" class=\"row_heading level0 row17\" >17</th>\n",
       "                        <td id=\"T_8e728_row17_col0\" class=\"data row17 col0\" >0</td>\n",
       "                        <td id=\"T_8e728_row17_col1\" class=\"data row17 col1\" >0</td>\n",
       "                        <td id=\"T_8e728_row17_col2\" class=\"data row17 col2\" >0</td>\n",
       "                        <td id=\"T_8e728_row17_col3\" class=\"data row17 col3\" >0</td>\n",
       "                        <td id=\"T_8e728_row17_col4\" class=\"data row17 col4\" >0</td>\n",
       "                        <td id=\"T_8e728_row17_col5\" class=\"data row17 col5\" >0</td>\n",
       "                        <td id=\"T_8e728_row17_col6\" class=\"data row17 col6\" >85</td>\n",
       "                        <td id=\"T_8e728_row17_col7\" class=\"data row17 col7\" >252</td>\n",
       "                        <td id=\"T_8e728_row17_col8\" class=\"data row17 col8\" >223</td>\n",
       "                        <td id=\"T_8e728_row17_col9\" class=\"data row17 col9\" >0</td>\n",
       "                        <td id=\"T_8e728_row17_col10\" class=\"data row17 col10\" >0</td>\n",
       "                        <td id=\"T_8e728_row17_col11\" class=\"data row17 col11\" >0</td>\n",
       "                        <td id=\"T_8e728_row17_col12\" class=\"data row17 col12\" >0</td>\n",
       "                        <td id=\"T_8e728_row17_col13\" class=\"data row17 col13\" >0</td>\n",
       "                        <td id=\"T_8e728_row17_col14\" class=\"data row17 col14\" >0</td>\n",
       "                        <td id=\"T_8e728_row17_col15\" class=\"data row17 col15\" >0</td>\n",
       "                        <td id=\"T_8e728_row17_col16\" class=\"data row17 col16\" >0</td>\n",
       "                        <td id=\"T_8e728_row17_col17\" class=\"data row17 col17\" >7</td>\n",
       "                        <td id=\"T_8e728_row17_col18\" class=\"data row17 col18\" >131</td>\n",
       "                        <td id=\"T_8e728_row17_col19\" class=\"data row17 col19\" >252</td>\n",
       "                        <td id=\"T_8e728_row17_col20\" class=\"data row17 col20\" >225</td>\n",
       "                        <td id=\"T_8e728_row17_col21\" class=\"data row17 col21\" >71</td>\n",
       "                        <td id=\"T_8e728_row17_col22\" class=\"data row17 col22\" >0</td>\n",
       "                        <td id=\"T_8e728_row17_col23\" class=\"data row17 col23\" >0</td>\n",
       "                        <td id=\"T_8e728_row17_col24\" class=\"data row17 col24\" >0</td>\n",
       "                        <td id=\"T_8e728_row17_col25\" class=\"data row17 col25\" >0</td>\n",
       "                        <td id=\"T_8e728_row17_col26\" class=\"data row17 col26\" >0</td>\n",
       "                        <td id=\"T_8e728_row17_col27\" class=\"data row17 col27\" >0</td>\n",
       "            </tr>\n",
       "            <tr>\n",
       "                        <th id=\"T_8e728_level0_row18\" class=\"row_heading level0 row18\" >18</th>\n",
       "                        <td id=\"T_8e728_row18_col0\" class=\"data row18 col0\" >0</td>\n",
       "                        <td id=\"T_8e728_row18_col1\" class=\"data row18 col1\" >0</td>\n",
       "                        <td id=\"T_8e728_row18_col2\" class=\"data row18 col2\" >0</td>\n",
       "                        <td id=\"T_8e728_row18_col3\" class=\"data row18 col3\" >0</td>\n",
       "                        <td id=\"T_8e728_row18_col4\" class=\"data row18 col4\" >0</td>\n",
       "                        <td id=\"T_8e728_row18_col5\" class=\"data row18 col5\" >0</td>\n",
       "                        <td id=\"T_8e728_row18_col6\" class=\"data row18 col6\" >85</td>\n",
       "                        <td id=\"T_8e728_row18_col7\" class=\"data row18 col7\" >252</td>\n",
       "                        <td id=\"T_8e728_row18_col8\" class=\"data row18 col8\" >145</td>\n",
       "                        <td id=\"T_8e728_row18_col9\" class=\"data row18 col9\" >0</td>\n",
       "                        <td id=\"T_8e728_row18_col10\" class=\"data row18 col10\" >0</td>\n",
       "                        <td id=\"T_8e728_row18_col11\" class=\"data row18 col11\" >0</td>\n",
       "                        <td id=\"T_8e728_row18_col12\" class=\"data row18 col12\" >0</td>\n",
       "                        <td id=\"T_8e728_row18_col13\" class=\"data row18 col13\" >0</td>\n",
       "                        <td id=\"T_8e728_row18_col14\" class=\"data row18 col14\" >0</td>\n",
       "                        <td id=\"T_8e728_row18_col15\" class=\"data row18 col15\" >0</td>\n",
       "                        <td id=\"T_8e728_row18_col16\" class=\"data row18 col16\" >48</td>\n",
       "                        <td id=\"T_8e728_row18_col17\" class=\"data row18 col17\" >165</td>\n",
       "                        <td id=\"T_8e728_row18_col18\" class=\"data row18 col18\" >252</td>\n",
       "                        <td id=\"T_8e728_row18_col19\" class=\"data row18 col19\" >173</td>\n",
       "                        <td id=\"T_8e728_row18_col20\" class=\"data row18 col20\" >0</td>\n",
       "                        <td id=\"T_8e728_row18_col21\" class=\"data row18 col21\" >0</td>\n",
       "                        <td id=\"T_8e728_row18_col22\" class=\"data row18 col22\" >0</td>\n",
       "                        <td id=\"T_8e728_row18_col23\" class=\"data row18 col23\" >0</td>\n",
       "                        <td id=\"T_8e728_row18_col24\" class=\"data row18 col24\" >0</td>\n",
       "                        <td id=\"T_8e728_row18_col25\" class=\"data row18 col25\" >0</td>\n",
       "                        <td id=\"T_8e728_row18_col26\" class=\"data row18 col26\" >0</td>\n",
       "                        <td id=\"T_8e728_row18_col27\" class=\"data row18 col27\" >0</td>\n",
       "            </tr>\n",
       "            <tr>\n",
       "                        <th id=\"T_8e728_level0_row19\" class=\"row_heading level0 row19\" >19</th>\n",
       "                        <td id=\"T_8e728_row19_col0\" class=\"data row19 col0\" >0</td>\n",
       "                        <td id=\"T_8e728_row19_col1\" class=\"data row19 col1\" >0</td>\n",
       "                        <td id=\"T_8e728_row19_col2\" class=\"data row19 col2\" >0</td>\n",
       "                        <td id=\"T_8e728_row19_col3\" class=\"data row19 col3\" >0</td>\n",
       "                        <td id=\"T_8e728_row19_col4\" class=\"data row19 col4\" >0</td>\n",
       "                        <td id=\"T_8e728_row19_col5\" class=\"data row19 col5\" >0</td>\n",
       "                        <td id=\"T_8e728_row19_col6\" class=\"data row19 col6\" >86</td>\n",
       "                        <td id=\"T_8e728_row19_col7\" class=\"data row19 col7\" >253</td>\n",
       "                        <td id=\"T_8e728_row19_col8\" class=\"data row19 col8\" >225</td>\n",
       "                        <td id=\"T_8e728_row19_col9\" class=\"data row19 col9\" >0</td>\n",
       "                        <td id=\"T_8e728_row19_col10\" class=\"data row19 col10\" >0</td>\n",
       "                        <td id=\"T_8e728_row19_col11\" class=\"data row19 col11\" >0</td>\n",
       "                        <td id=\"T_8e728_row19_col12\" class=\"data row19 col12\" >0</td>\n",
       "                        <td id=\"T_8e728_row19_col13\" class=\"data row19 col13\" >0</td>\n",
       "                        <td id=\"T_8e728_row19_col14\" class=\"data row19 col14\" >0</td>\n",
       "                        <td id=\"T_8e728_row19_col15\" class=\"data row19 col15\" >114</td>\n",
       "                        <td id=\"T_8e728_row19_col16\" class=\"data row19 col16\" >238</td>\n",
       "                        <td id=\"T_8e728_row19_col17\" class=\"data row19 col17\" >253</td>\n",
       "                        <td id=\"T_8e728_row19_col18\" class=\"data row19 col18\" >162</td>\n",
       "                        <td id=\"T_8e728_row19_col19\" class=\"data row19 col19\" >0</td>\n",
       "                        <td id=\"T_8e728_row19_col20\" class=\"data row19 col20\" >0</td>\n",
       "                        <td id=\"T_8e728_row19_col21\" class=\"data row19 col21\" >0</td>\n",
       "                        <td id=\"T_8e728_row19_col22\" class=\"data row19 col22\" >0</td>\n",
       "                        <td id=\"T_8e728_row19_col23\" class=\"data row19 col23\" >0</td>\n",
       "                        <td id=\"T_8e728_row19_col24\" class=\"data row19 col24\" >0</td>\n",
       "                        <td id=\"T_8e728_row19_col25\" class=\"data row19 col25\" >0</td>\n",
       "                        <td id=\"T_8e728_row19_col26\" class=\"data row19 col26\" >0</td>\n",
       "                        <td id=\"T_8e728_row19_col27\" class=\"data row19 col27\" >0</td>\n",
       "            </tr>\n",
       "            <tr>\n",
       "                        <th id=\"T_8e728_level0_row20\" class=\"row_heading level0 row20\" >20</th>\n",
       "                        <td id=\"T_8e728_row20_col0\" class=\"data row20 col0\" >0</td>\n",
       "                        <td id=\"T_8e728_row20_col1\" class=\"data row20 col1\" >0</td>\n",
       "                        <td id=\"T_8e728_row20_col2\" class=\"data row20 col2\" >0</td>\n",
       "                        <td id=\"T_8e728_row20_col3\" class=\"data row20 col3\" >0</td>\n",
       "                        <td id=\"T_8e728_row20_col4\" class=\"data row20 col4\" >0</td>\n",
       "                        <td id=\"T_8e728_row20_col5\" class=\"data row20 col5\" >0</td>\n",
       "                        <td id=\"T_8e728_row20_col6\" class=\"data row20 col6\" >85</td>\n",
       "                        <td id=\"T_8e728_row20_col7\" class=\"data row20 col7\" >252</td>\n",
       "                        <td id=\"T_8e728_row20_col8\" class=\"data row20 col8\" >249</td>\n",
       "                        <td id=\"T_8e728_row20_col9\" class=\"data row20 col9\" >146</td>\n",
       "                        <td id=\"T_8e728_row20_col10\" class=\"data row20 col10\" >48</td>\n",
       "                        <td id=\"T_8e728_row20_col11\" class=\"data row20 col11\" >29</td>\n",
       "                        <td id=\"T_8e728_row20_col12\" class=\"data row20 col12\" >85</td>\n",
       "                        <td id=\"T_8e728_row20_col13\" class=\"data row20 col13\" >178</td>\n",
       "                        <td id=\"T_8e728_row20_col14\" class=\"data row20 col14\" >225</td>\n",
       "                        <td id=\"T_8e728_row20_col15\" class=\"data row20 col15\" >253</td>\n",
       "                        <td id=\"T_8e728_row20_col16\" class=\"data row20 col16\" >223</td>\n",
       "                        <td id=\"T_8e728_row20_col17\" class=\"data row20 col17\" >167</td>\n",
       "                        <td id=\"T_8e728_row20_col18\" class=\"data row20 col18\" >56</td>\n",
       "                        <td id=\"T_8e728_row20_col19\" class=\"data row20 col19\" >0</td>\n",
       "                        <td id=\"T_8e728_row20_col20\" class=\"data row20 col20\" >0</td>\n",
       "                        <td id=\"T_8e728_row20_col21\" class=\"data row20 col21\" >0</td>\n",
       "                        <td id=\"T_8e728_row20_col22\" class=\"data row20 col22\" >0</td>\n",
       "                        <td id=\"T_8e728_row20_col23\" class=\"data row20 col23\" >0</td>\n",
       "                        <td id=\"T_8e728_row20_col24\" class=\"data row20 col24\" >0</td>\n",
       "                        <td id=\"T_8e728_row20_col25\" class=\"data row20 col25\" >0</td>\n",
       "                        <td id=\"T_8e728_row20_col26\" class=\"data row20 col26\" >0</td>\n",
       "                        <td id=\"T_8e728_row20_col27\" class=\"data row20 col27\" >0</td>\n",
       "            </tr>\n",
       "            <tr>\n",
       "                        <th id=\"T_8e728_level0_row21\" class=\"row_heading level0 row21\" >21</th>\n",
       "                        <td id=\"T_8e728_row21_col0\" class=\"data row21 col0\" >0</td>\n",
       "                        <td id=\"T_8e728_row21_col1\" class=\"data row21 col1\" >0</td>\n",
       "                        <td id=\"T_8e728_row21_col2\" class=\"data row21 col2\" >0</td>\n",
       "                        <td id=\"T_8e728_row21_col3\" class=\"data row21 col3\" >0</td>\n",
       "                        <td id=\"T_8e728_row21_col4\" class=\"data row21 col4\" >0</td>\n",
       "                        <td id=\"T_8e728_row21_col5\" class=\"data row21 col5\" >0</td>\n",
       "                        <td id=\"T_8e728_row21_col6\" class=\"data row21 col6\" >85</td>\n",
       "                        <td id=\"T_8e728_row21_col7\" class=\"data row21 col7\" >252</td>\n",
       "                        <td id=\"T_8e728_row21_col8\" class=\"data row21 col8\" >252</td>\n",
       "                        <td id=\"T_8e728_row21_col9\" class=\"data row21 col9\" >252</td>\n",
       "                        <td id=\"T_8e728_row21_col10\" class=\"data row21 col10\" >229</td>\n",
       "                        <td id=\"T_8e728_row21_col11\" class=\"data row21 col11\" >215</td>\n",
       "                        <td id=\"T_8e728_row21_col12\" class=\"data row21 col12\" >252</td>\n",
       "                        <td id=\"T_8e728_row21_col13\" class=\"data row21 col13\" >252</td>\n",
       "                        <td id=\"T_8e728_row21_col14\" class=\"data row21 col14\" >252</td>\n",
       "                        <td id=\"T_8e728_row21_col15\" class=\"data row21 col15\" >196</td>\n",
       "                        <td id=\"T_8e728_row21_col16\" class=\"data row21 col16\" >130</td>\n",
       "                        <td id=\"T_8e728_row21_col17\" class=\"data row21 col17\" >0</td>\n",
       "                        <td id=\"T_8e728_row21_col18\" class=\"data row21 col18\" >0</td>\n",
       "                        <td id=\"T_8e728_row21_col19\" class=\"data row21 col19\" >0</td>\n",
       "                        <td id=\"T_8e728_row21_col20\" class=\"data row21 col20\" >0</td>\n",
       "                        <td id=\"T_8e728_row21_col21\" class=\"data row21 col21\" >0</td>\n",
       "                        <td id=\"T_8e728_row21_col22\" class=\"data row21 col22\" >0</td>\n",
       "                        <td id=\"T_8e728_row21_col23\" class=\"data row21 col23\" >0</td>\n",
       "                        <td id=\"T_8e728_row21_col24\" class=\"data row21 col24\" >0</td>\n",
       "                        <td id=\"T_8e728_row21_col25\" class=\"data row21 col25\" >0</td>\n",
       "                        <td id=\"T_8e728_row21_col26\" class=\"data row21 col26\" >0</td>\n",
       "                        <td id=\"T_8e728_row21_col27\" class=\"data row21 col27\" >0</td>\n",
       "            </tr>\n",
       "            <tr>\n",
       "                        <th id=\"T_8e728_level0_row22\" class=\"row_heading level0 row22\" >22</th>\n",
       "                        <td id=\"T_8e728_row22_col0\" class=\"data row22 col0\" >0</td>\n",
       "                        <td id=\"T_8e728_row22_col1\" class=\"data row22 col1\" >0</td>\n",
       "                        <td id=\"T_8e728_row22_col2\" class=\"data row22 col2\" >0</td>\n",
       "                        <td id=\"T_8e728_row22_col3\" class=\"data row22 col3\" >0</td>\n",
       "                        <td id=\"T_8e728_row22_col4\" class=\"data row22 col4\" >0</td>\n",
       "                        <td id=\"T_8e728_row22_col5\" class=\"data row22 col5\" >0</td>\n",
       "                        <td id=\"T_8e728_row22_col6\" class=\"data row22 col6\" >28</td>\n",
       "                        <td id=\"T_8e728_row22_col7\" class=\"data row22 col7\" >199</td>\n",
       "                        <td id=\"T_8e728_row22_col8\" class=\"data row22 col8\" >252</td>\n",
       "                        <td id=\"T_8e728_row22_col9\" class=\"data row22 col9\" >252</td>\n",
       "                        <td id=\"T_8e728_row22_col10\" class=\"data row22 col10\" >253</td>\n",
       "                        <td id=\"T_8e728_row22_col11\" class=\"data row22 col11\" >252</td>\n",
       "                        <td id=\"T_8e728_row22_col12\" class=\"data row22 col12\" >252</td>\n",
       "                        <td id=\"T_8e728_row22_col13\" class=\"data row22 col13\" >233</td>\n",
       "                        <td id=\"T_8e728_row22_col14\" class=\"data row22 col14\" >145</td>\n",
       "                        <td id=\"T_8e728_row22_col15\" class=\"data row22 col15\" >0</td>\n",
       "                        <td id=\"T_8e728_row22_col16\" class=\"data row22 col16\" >0</td>\n",
       "                        <td id=\"T_8e728_row22_col17\" class=\"data row22 col17\" >0</td>\n",
       "                        <td id=\"T_8e728_row22_col18\" class=\"data row22 col18\" >0</td>\n",
       "                        <td id=\"T_8e728_row22_col19\" class=\"data row22 col19\" >0</td>\n",
       "                        <td id=\"T_8e728_row22_col20\" class=\"data row22 col20\" >0</td>\n",
       "                        <td id=\"T_8e728_row22_col21\" class=\"data row22 col21\" >0</td>\n",
       "                        <td id=\"T_8e728_row22_col22\" class=\"data row22 col22\" >0</td>\n",
       "                        <td id=\"T_8e728_row22_col23\" class=\"data row22 col23\" >0</td>\n",
       "                        <td id=\"T_8e728_row22_col24\" class=\"data row22 col24\" >0</td>\n",
       "                        <td id=\"T_8e728_row22_col25\" class=\"data row22 col25\" >0</td>\n",
       "                        <td id=\"T_8e728_row22_col26\" class=\"data row22 col26\" >0</td>\n",
       "                        <td id=\"T_8e728_row22_col27\" class=\"data row22 col27\" >0</td>\n",
       "            </tr>\n",
       "            <tr>\n",
       "                        <th id=\"T_8e728_level0_row23\" class=\"row_heading level0 row23\" >23</th>\n",
       "                        <td id=\"T_8e728_row23_col0\" class=\"data row23 col0\" >0</td>\n",
       "                        <td id=\"T_8e728_row23_col1\" class=\"data row23 col1\" >0</td>\n",
       "                        <td id=\"T_8e728_row23_col2\" class=\"data row23 col2\" >0</td>\n",
       "                        <td id=\"T_8e728_row23_col3\" class=\"data row23 col3\" >0</td>\n",
       "                        <td id=\"T_8e728_row23_col4\" class=\"data row23 col4\" >0</td>\n",
       "                        <td id=\"T_8e728_row23_col5\" class=\"data row23 col5\" >0</td>\n",
       "                        <td id=\"T_8e728_row23_col6\" class=\"data row23 col6\" >0</td>\n",
       "                        <td id=\"T_8e728_row23_col7\" class=\"data row23 col7\" >25</td>\n",
       "                        <td id=\"T_8e728_row23_col8\" class=\"data row23 col8\" >128</td>\n",
       "                        <td id=\"T_8e728_row23_col9\" class=\"data row23 col9\" >252</td>\n",
       "                        <td id=\"T_8e728_row23_col10\" class=\"data row23 col10\" >253</td>\n",
       "                        <td id=\"T_8e728_row23_col11\" class=\"data row23 col11\" >252</td>\n",
       "                        <td id=\"T_8e728_row23_col12\" class=\"data row23 col12\" >141</td>\n",
       "                        <td id=\"T_8e728_row23_col13\" class=\"data row23 col13\" >37</td>\n",
       "                        <td id=\"T_8e728_row23_col14\" class=\"data row23 col14\" >0</td>\n",
       "                        <td id=\"T_8e728_row23_col15\" class=\"data row23 col15\" >0</td>\n",
       "                        <td id=\"T_8e728_row23_col16\" class=\"data row23 col16\" >0</td>\n",
       "                        <td id=\"T_8e728_row23_col17\" class=\"data row23 col17\" >0</td>\n",
       "                        <td id=\"T_8e728_row23_col18\" class=\"data row23 col18\" >0</td>\n",
       "                        <td id=\"T_8e728_row23_col19\" class=\"data row23 col19\" >0</td>\n",
       "                        <td id=\"T_8e728_row23_col20\" class=\"data row23 col20\" >0</td>\n",
       "                        <td id=\"T_8e728_row23_col21\" class=\"data row23 col21\" >0</td>\n",
       "                        <td id=\"T_8e728_row23_col22\" class=\"data row23 col22\" >0</td>\n",
       "                        <td id=\"T_8e728_row23_col23\" class=\"data row23 col23\" >0</td>\n",
       "                        <td id=\"T_8e728_row23_col24\" class=\"data row23 col24\" >0</td>\n",
       "                        <td id=\"T_8e728_row23_col25\" class=\"data row23 col25\" >0</td>\n",
       "                        <td id=\"T_8e728_row23_col26\" class=\"data row23 col26\" >0</td>\n",
       "                        <td id=\"T_8e728_row23_col27\" class=\"data row23 col27\" >0</td>\n",
       "            </tr>\n",
       "            <tr>\n",
       "                        <th id=\"T_8e728_level0_row24\" class=\"row_heading level0 row24\" >24</th>\n",
       "                        <td id=\"T_8e728_row24_col0\" class=\"data row24 col0\" >0</td>\n",
       "                        <td id=\"T_8e728_row24_col1\" class=\"data row24 col1\" >0</td>\n",
       "                        <td id=\"T_8e728_row24_col2\" class=\"data row24 col2\" >0</td>\n",
       "                        <td id=\"T_8e728_row24_col3\" class=\"data row24 col3\" >0</td>\n",
       "                        <td id=\"T_8e728_row24_col4\" class=\"data row24 col4\" >0</td>\n",
       "                        <td id=\"T_8e728_row24_col5\" class=\"data row24 col5\" >0</td>\n",
       "                        <td id=\"T_8e728_row24_col6\" class=\"data row24 col6\" >0</td>\n",
       "                        <td id=\"T_8e728_row24_col7\" class=\"data row24 col7\" >0</td>\n",
       "                        <td id=\"T_8e728_row24_col8\" class=\"data row24 col8\" >0</td>\n",
       "                        <td id=\"T_8e728_row24_col9\" class=\"data row24 col9\" >0</td>\n",
       "                        <td id=\"T_8e728_row24_col10\" class=\"data row24 col10\" >0</td>\n",
       "                        <td id=\"T_8e728_row24_col11\" class=\"data row24 col11\" >0</td>\n",
       "                        <td id=\"T_8e728_row24_col12\" class=\"data row24 col12\" >0</td>\n",
       "                        <td id=\"T_8e728_row24_col13\" class=\"data row24 col13\" >0</td>\n",
       "                        <td id=\"T_8e728_row24_col14\" class=\"data row24 col14\" >0</td>\n",
       "                        <td id=\"T_8e728_row24_col15\" class=\"data row24 col15\" >0</td>\n",
       "                        <td id=\"T_8e728_row24_col16\" class=\"data row24 col16\" >0</td>\n",
       "                        <td id=\"T_8e728_row24_col17\" class=\"data row24 col17\" >0</td>\n",
       "                        <td id=\"T_8e728_row24_col18\" class=\"data row24 col18\" >0</td>\n",
       "                        <td id=\"T_8e728_row24_col19\" class=\"data row24 col19\" >0</td>\n",
       "                        <td id=\"T_8e728_row24_col20\" class=\"data row24 col20\" >0</td>\n",
       "                        <td id=\"T_8e728_row24_col21\" class=\"data row24 col21\" >0</td>\n",
       "                        <td id=\"T_8e728_row24_col22\" class=\"data row24 col22\" >0</td>\n",
       "                        <td id=\"T_8e728_row24_col23\" class=\"data row24 col23\" >0</td>\n",
       "                        <td id=\"T_8e728_row24_col24\" class=\"data row24 col24\" >0</td>\n",
       "                        <td id=\"T_8e728_row24_col25\" class=\"data row24 col25\" >0</td>\n",
       "                        <td id=\"T_8e728_row24_col26\" class=\"data row24 col26\" >0</td>\n",
       "                        <td id=\"T_8e728_row24_col27\" class=\"data row24 col27\" >0</td>\n",
       "            </tr>\n",
       "            <tr>\n",
       "                        <th id=\"T_8e728_level0_row25\" class=\"row_heading level0 row25\" >25</th>\n",
       "                        <td id=\"T_8e728_row25_col0\" class=\"data row25 col0\" >0</td>\n",
       "                        <td id=\"T_8e728_row25_col1\" class=\"data row25 col1\" >0</td>\n",
       "                        <td id=\"T_8e728_row25_col2\" class=\"data row25 col2\" >0</td>\n",
       "                        <td id=\"T_8e728_row25_col3\" class=\"data row25 col3\" >0</td>\n",
       "                        <td id=\"T_8e728_row25_col4\" class=\"data row25 col4\" >0</td>\n",
       "                        <td id=\"T_8e728_row25_col5\" class=\"data row25 col5\" >0</td>\n",
       "                        <td id=\"T_8e728_row25_col6\" class=\"data row25 col6\" >0</td>\n",
       "                        <td id=\"T_8e728_row25_col7\" class=\"data row25 col7\" >0</td>\n",
       "                        <td id=\"T_8e728_row25_col8\" class=\"data row25 col8\" >0</td>\n",
       "                        <td id=\"T_8e728_row25_col9\" class=\"data row25 col9\" >0</td>\n",
       "                        <td id=\"T_8e728_row25_col10\" class=\"data row25 col10\" >0</td>\n",
       "                        <td id=\"T_8e728_row25_col11\" class=\"data row25 col11\" >0</td>\n",
       "                        <td id=\"T_8e728_row25_col12\" class=\"data row25 col12\" >0</td>\n",
       "                        <td id=\"T_8e728_row25_col13\" class=\"data row25 col13\" >0</td>\n",
       "                        <td id=\"T_8e728_row25_col14\" class=\"data row25 col14\" >0</td>\n",
       "                        <td id=\"T_8e728_row25_col15\" class=\"data row25 col15\" >0</td>\n",
       "                        <td id=\"T_8e728_row25_col16\" class=\"data row25 col16\" >0</td>\n",
       "                        <td id=\"T_8e728_row25_col17\" class=\"data row25 col17\" >0</td>\n",
       "                        <td id=\"T_8e728_row25_col18\" class=\"data row25 col18\" >0</td>\n",
       "                        <td id=\"T_8e728_row25_col19\" class=\"data row25 col19\" >0</td>\n",
       "                        <td id=\"T_8e728_row25_col20\" class=\"data row25 col20\" >0</td>\n",
       "                        <td id=\"T_8e728_row25_col21\" class=\"data row25 col21\" >0</td>\n",
       "                        <td id=\"T_8e728_row25_col22\" class=\"data row25 col22\" >0</td>\n",
       "                        <td id=\"T_8e728_row25_col23\" class=\"data row25 col23\" >0</td>\n",
       "                        <td id=\"T_8e728_row25_col24\" class=\"data row25 col24\" >0</td>\n",
       "                        <td id=\"T_8e728_row25_col25\" class=\"data row25 col25\" >0</td>\n",
       "                        <td id=\"T_8e728_row25_col26\" class=\"data row25 col26\" >0</td>\n",
       "                        <td id=\"T_8e728_row25_col27\" class=\"data row25 col27\" >0</td>\n",
       "            </tr>\n",
       "            <tr>\n",
       "                        <th id=\"T_8e728_level0_row26\" class=\"row_heading level0 row26\" >26</th>\n",
       "                        <td id=\"T_8e728_row26_col0\" class=\"data row26 col0\" >0</td>\n",
       "                        <td id=\"T_8e728_row26_col1\" class=\"data row26 col1\" >0</td>\n",
       "                        <td id=\"T_8e728_row26_col2\" class=\"data row26 col2\" >0</td>\n",
       "                        <td id=\"T_8e728_row26_col3\" class=\"data row26 col3\" >0</td>\n",
       "                        <td id=\"T_8e728_row26_col4\" class=\"data row26 col4\" >0</td>\n",
       "                        <td id=\"T_8e728_row26_col5\" class=\"data row26 col5\" >0</td>\n",
       "                        <td id=\"T_8e728_row26_col6\" class=\"data row26 col6\" >0</td>\n",
       "                        <td id=\"T_8e728_row26_col7\" class=\"data row26 col7\" >0</td>\n",
       "                        <td id=\"T_8e728_row26_col8\" class=\"data row26 col8\" >0</td>\n",
       "                        <td id=\"T_8e728_row26_col9\" class=\"data row26 col9\" >0</td>\n",
       "                        <td id=\"T_8e728_row26_col10\" class=\"data row26 col10\" >0</td>\n",
       "                        <td id=\"T_8e728_row26_col11\" class=\"data row26 col11\" >0</td>\n",
       "                        <td id=\"T_8e728_row26_col12\" class=\"data row26 col12\" >0</td>\n",
       "                        <td id=\"T_8e728_row26_col13\" class=\"data row26 col13\" >0</td>\n",
       "                        <td id=\"T_8e728_row26_col14\" class=\"data row26 col14\" >0</td>\n",
       "                        <td id=\"T_8e728_row26_col15\" class=\"data row26 col15\" >0</td>\n",
       "                        <td id=\"T_8e728_row26_col16\" class=\"data row26 col16\" >0</td>\n",
       "                        <td id=\"T_8e728_row26_col17\" class=\"data row26 col17\" >0</td>\n",
       "                        <td id=\"T_8e728_row26_col18\" class=\"data row26 col18\" >0</td>\n",
       "                        <td id=\"T_8e728_row26_col19\" class=\"data row26 col19\" >0</td>\n",
       "                        <td id=\"T_8e728_row26_col20\" class=\"data row26 col20\" >0</td>\n",
       "                        <td id=\"T_8e728_row26_col21\" class=\"data row26 col21\" >0</td>\n",
       "                        <td id=\"T_8e728_row26_col22\" class=\"data row26 col22\" >0</td>\n",
       "                        <td id=\"T_8e728_row26_col23\" class=\"data row26 col23\" >0</td>\n",
       "                        <td id=\"T_8e728_row26_col24\" class=\"data row26 col24\" >0</td>\n",
       "                        <td id=\"T_8e728_row26_col25\" class=\"data row26 col25\" >0</td>\n",
       "                        <td id=\"T_8e728_row26_col26\" class=\"data row26 col26\" >0</td>\n",
       "                        <td id=\"T_8e728_row26_col27\" class=\"data row26 col27\" >0</td>\n",
       "            </tr>\n",
       "            <tr>\n",
       "                        <th id=\"T_8e728_level0_row27\" class=\"row_heading level0 row27\" >27</th>\n",
       "                        <td id=\"T_8e728_row27_col0\" class=\"data row27 col0\" >0</td>\n",
       "                        <td id=\"T_8e728_row27_col1\" class=\"data row27 col1\" >0</td>\n",
       "                        <td id=\"T_8e728_row27_col2\" class=\"data row27 col2\" >0</td>\n",
       "                        <td id=\"T_8e728_row27_col3\" class=\"data row27 col3\" >0</td>\n",
       "                        <td id=\"T_8e728_row27_col4\" class=\"data row27 col4\" >0</td>\n",
       "                        <td id=\"T_8e728_row27_col5\" class=\"data row27 col5\" >0</td>\n",
       "                        <td id=\"T_8e728_row27_col6\" class=\"data row27 col6\" >0</td>\n",
       "                        <td id=\"T_8e728_row27_col7\" class=\"data row27 col7\" >0</td>\n",
       "                        <td id=\"T_8e728_row27_col8\" class=\"data row27 col8\" >0</td>\n",
       "                        <td id=\"T_8e728_row27_col9\" class=\"data row27 col9\" >0</td>\n",
       "                        <td id=\"T_8e728_row27_col10\" class=\"data row27 col10\" >0</td>\n",
       "                        <td id=\"T_8e728_row27_col11\" class=\"data row27 col11\" >0</td>\n",
       "                        <td id=\"T_8e728_row27_col12\" class=\"data row27 col12\" >0</td>\n",
       "                        <td id=\"T_8e728_row27_col13\" class=\"data row27 col13\" >0</td>\n",
       "                        <td id=\"T_8e728_row27_col14\" class=\"data row27 col14\" >0</td>\n",
       "                        <td id=\"T_8e728_row27_col15\" class=\"data row27 col15\" >0</td>\n",
       "                        <td id=\"T_8e728_row27_col16\" class=\"data row27 col16\" >0</td>\n",
       "                        <td id=\"T_8e728_row27_col17\" class=\"data row27 col17\" >0</td>\n",
       "                        <td id=\"T_8e728_row27_col18\" class=\"data row27 col18\" >0</td>\n",
       "                        <td id=\"T_8e728_row27_col19\" class=\"data row27 col19\" >0</td>\n",
       "                        <td id=\"T_8e728_row27_col20\" class=\"data row27 col20\" >0</td>\n",
       "                        <td id=\"T_8e728_row27_col21\" class=\"data row27 col21\" >0</td>\n",
       "                        <td id=\"T_8e728_row27_col22\" class=\"data row27 col22\" >0</td>\n",
       "                        <td id=\"T_8e728_row27_col23\" class=\"data row27 col23\" >0</td>\n",
       "                        <td id=\"T_8e728_row27_col24\" class=\"data row27 col24\" >0</td>\n",
       "                        <td id=\"T_8e728_row27_col25\" class=\"data row27 col25\" >0</td>\n",
       "                        <td id=\"T_8e728_row27_col26\" class=\"data row27 col26\" >0</td>\n",
       "                        <td id=\"T_8e728_row27_col27\" class=\"data row27 col27\" >0</td>\n",
       "            </tr>\n",
       "    </tbody></table>"
      ],
      "text/plain": [
       "<pandas.io.formats.style.Styler at 0x19f69cda488>"
      ]
     },
     "execution_count": 8,
     "metadata": {},
     "output_type": "execute_result"
    }
   ],
   "source": [
    "pd.DataFrame(digits_and_labels_train[0][0]).style.set_properties(**{'font-size':'9pt'}).background_gradient('Greys')"
   ]
  },
  {
   "cell_type": "code",
   "execution_count": 9,
   "id": "815812fb-1a95-441a-a9ad-04afe9482f5e",
   "metadata": {
    "tags": []
   },
   "outputs": [
    {
     "data": {
      "text/plain": [
       "(torch.Size([60000, 784]), torch.Size([60000]))"
      ]
     },
     "execution_count": 9,
     "metadata": {},
     "output_type": "execute_result"
    }
   ],
   "source": [
    "train_x = torch.stack([t for t, l in digits_and_labels_train]).view(-1, 28*28)\n",
    "train_y = tensor([int(l) for t, l in digits_and_labels_train])\n",
    "train_x.shape, train_y.shape"
   ]
  },
  {
   "cell_type": "code",
   "execution_count": 10,
   "id": "3f4e5519-5673-41c4-b744-a7821f0822ae",
   "metadata": {},
   "outputs": [],
   "source": [
    "train_x = train_x/255."
   ]
  },
  {
   "cell_type": "code",
   "execution_count": 11,
   "id": "7a3a4e53-6392-4a49-8b94-1f997bed6639",
   "metadata": {},
   "outputs": [],
   "source": [
    "digits_and_labels_test = [(tensor(Image.open(o)), o.parent.name) for p in (path/'testing').ls() for o in p.ls()]"
   ]
  },
  {
   "cell_type": "code",
   "execution_count": 12,
   "id": "7ef63c36-dec3-4230-958a-94b227037c68",
   "metadata": {},
   "outputs": [
    {
     "data": {
      "text/plain": [
       "(torch.Size([10000, 784]), torch.Size([10000]))"
      ]
     },
     "execution_count": 12,
     "metadata": {},
     "output_type": "execute_result"
    }
   ],
   "source": [
    "test_x = torch.stack([t for t, l in digits_and_labels_test]).view(-1, 28*28)\n",
    "test_y = tensor([int(l) for t, l in digits_and_labels_test])\n",
    "test_x.shape, test_y.shape"
   ]
  },
  {
   "cell_type": "code",
   "execution_count": 13,
   "id": "40818ef9-10ad-4a56-904b-628332d5b5a8",
   "metadata": {},
   "outputs": [],
   "source": [
    "test_x = test_x/255."
   ]
  },
  {
   "cell_type": "code",
   "execution_count": 14,
   "id": "05b97442-941e-4882-92e1-abd56d7b66ec",
   "metadata": {},
   "outputs": [],
   "source": [
    "train_dataset = list(zip(train_x, train_y))\n",
    "test_dataset = list(zip(test_x, test_y))"
   ]
  },
  {
   "cell_type": "code",
   "execution_count": null,
   "id": "72e0ce26-6f6d-40ca-9b89-ba2b647fcab6",
   "metadata": {},
   "outputs": [],
   "source": []
  },
  {
   "cell_type": "markdown",
   "id": "aadeff99-23f7-4722-aaac-98aac478a7d2",
   "metadata": {
    "tags": [],
    "toc-hr-collapsed": true
   },
   "source": [
    "## Make DataLoader"
   ]
  },
  {
   "cell_type": "code",
   "execution_count": 15,
   "id": "924f4527-0030-4d5d-86cb-8fe2f074d482",
   "metadata": {},
   "outputs": [],
   "source": [
    "train_dl = DataLoader(train_dataset, batch_size=256, shuffle=True)\n",
    "test_dl = DataLoader(test_dataset, batch_size=256)"
   ]
  },
  {
   "cell_type": "code",
   "execution_count": 16,
   "id": "c6e6d781-195e-42bc-a1d9-40a6010fdfb7",
   "metadata": {},
   "outputs": [
    {
     "data": {
      "text/plain": [
       "(torch.Size([256, 784]), torch.Size([256]))"
      ]
     },
     "execution_count": 16,
     "metadata": {},
     "output_type": "execute_result"
    }
   ],
   "source": [
    "xb, yb = first(train_dl)\n",
    "xb.shape, yb.shape"
   ]
  },
  {
   "cell_type": "markdown",
   "id": "8614cff2-c3a6-4939-bfd7-4707643a9b58",
   "metadata": {
    "tags": [],
    "toc-hr-collapsed": true
   },
   "source": [
    "## Create Loss Function"
   ]
  },
  {
   "cell_type": "markdown",
   "id": "7b2e5db5-c586-457f-bb5b-d7fbef8cb922",
   "metadata": {},
   "source": [
    "### Cross Entropy Loss"
   ]
  },
  {
   "cell_type": "code",
   "execution_count": 18,
   "id": "e6d8d4bc-273b-4df1-8d3d-d219396817fa",
   "metadata": {},
   "outputs": [],
   "source": [
    "class CrossEntropyC():\n",
    "    def __init__(self, epsilon):\n",
    "        self.epsilon = epsilon\n",
    "        self.per_example_loss = []\n",
    "        \n",
    "    def compute_loss(self, preds, targets, probs, reduce=torch.mean):\n",
    "        losses = torch.where(targets==preds, -torch.log(probs-self.epsilon), -torch.log(1-(probs-self.epsilon)))\n",
    "        self.per_example_loss.extend(list(zip(preds, targets, losses.data)))\n",
    "        return reduce(losses)"
   ]
  },
  {
   "cell_type": "markdown",
   "id": "92de53c0-7c6a-4de6-8487-28db6a8c16c7",
   "metadata": {
    "tags": [],
    "toc-hr-collapsed": true
   },
   "source": [
    "### Test Loss Function"
   ]
  },
  {
   "cell_type": "code",
   "execution_count": 17,
   "id": "715c3695-0c99-4840-9e92-7e8feca1af3e",
   "metadata": {},
   "outputs": [
    {
     "data": {
      "text/plain": [
       "(10, 10, 10)"
      ]
     },
     "execution_count": 17,
     "metadata": {},
     "output_type": "execute_result"
    }
   ],
   "source": [
    "preds = tensor([0, 1, 2, 3, 4, 5, 6, 7, 8, 9])\n",
    "targets = tensor([0, 1, 3, 2, 4, 5, 9, 8, 7, 9])\n",
    "probs = tensor([0.8, 0.7, 0.3, 0.5, 0.6, 0.2, 0.1, 0.9, 0.4, 0.9])\n",
    "len(preds), len(targets), len(probs)"
   ]
  },
  {
   "cell_type": "code",
   "execution_count": 19,
   "id": "7db0faf9-3ec0-4af3-a751-a655b0ea0428",
   "metadata": {},
   "outputs": [],
   "source": [
    "loss = CrossEntropyC(epsilon=0.00001)"
   ]
  },
  {
   "cell_type": "code",
   "execution_count": 20,
   "id": "c273c168-46e4-4143-a64d-a839eaa4ac30",
   "metadata": {},
   "outputs": [
    {
     "data": {
      "text/plain": [
       "tensor(0.6774)"
      ]
     },
     "execution_count": 20,
     "metadata": {},
     "output_type": "execute_result"
    }
   ],
   "source": [
    "loss.compute_loss(preds, targets, probs)"
   ]
  },
  {
   "cell_type": "code",
   "execution_count": 21,
   "id": "e641e9d1-f4ec-4e60-91d7-51ac91451df4",
   "metadata": {},
   "outputs": [
    {
     "data": {
      "text/plain": [
       "[(tensor(0), tensor(0), tensor(0.2232)),\n",
       " (tensor(1), tensor(1), tensor(0.3567)),\n",
       " (tensor(2), tensor(3), tensor(0.3567)),\n",
       " (tensor(3), tensor(2), tensor(0.6931)),\n",
       " (tensor(4), tensor(4), tensor(0.5108)),\n",
       " (tensor(5), tensor(5), tensor(1.6095)),\n",
       " (tensor(6), tensor(9), tensor(0.1053)),\n",
       " (tensor(7), tensor(8), tensor(2.3025)),\n",
       " (tensor(8), tensor(7), tensor(0.5108)),\n",
       " (tensor(9), tensor(9), tensor(0.1054))]"
      ]
     },
     "execution_count": 21,
     "metadata": {},
     "output_type": "execute_result"
    }
   ],
   "source": [
    "loss.per_example_loss"
   ]
  },
  {
   "cell_type": "markdown",
   "id": "be08e4b2-ad05-474a-bae9-b700edc4c02d",
   "metadata": {
    "tags": [],
    "toc-hr-collapsed": true
   },
   "source": [
    "## Create Model"
   ]
  },
  {
   "cell_type": "markdown",
   "id": "26f0d6a9-55c4-4b4a-8f2c-798f558e09a4",
   "metadata": {
    "tags": [],
    "toc-hr-collapsed": true
   },
   "source": [
    "### Softmax"
   ]
  },
  {
   "cell_type": "code",
   "execution_count": 88,
   "id": "f169af5e-1ef8-4e75-a6cc-d285ee8153a6",
   "metadata": {},
   "outputs": [],
   "source": [
    "def softmax_stable(t): \n",
    "    exps = torch.exp(t-t.max(axis=1)[0].view(-1,1))\n",
    "    return exps/(exps.sum(axis=1).view(-1,1))\n",
    "    "
   ]
  },
  {
   "cell_type": "code",
   "execution_count": 89,
   "id": "78fb88ba-6676-4cc9-9d04-96e1bde53660",
   "metadata": {
    "tags": []
   },
   "outputs": [
    {
     "data": {
      "text/plain": [
       "tensor([[10., 20.,  4.,  6., 19., 16.]])"
      ]
     },
     "execution_count": 89,
     "metadata": {},
     "output_type": "execute_result"
    }
   ],
   "source": [
    "t = tensor([10.,20.,4.,6,19,16]).view(1,-1)\n",
    "t"
   ]
  },
  {
   "cell_type": "code",
   "execution_count": 90,
   "id": "2baeb8b8-2031-4696-b2a7-2b004711afc3",
   "metadata": {},
   "outputs": [
    {
     "data": {
      "text/plain": [
       "tensor([[3.2750e-05, 7.2138e-01, 8.1180e-08, 5.9984e-07, 2.6538e-01, 1.3212e-02]])"
      ]
     },
     "execution_count": 90,
     "metadata": {},
     "output_type": "execute_result"
    }
   ],
   "source": [
    "softmax_stable(t)"
   ]
  },
  {
   "cell_type": "markdown",
   "id": "297071b0-cc77-4543-9124-72f7d248f3b1",
   "metadata": {
    "tags": [],
    "toc-hr-collapsed": true
   },
   "source": [
    "### Relu"
   ]
  },
  {
   "cell_type": "code",
   "execution_count": 47,
   "id": "567b73d9-293a-42a8-8bc1-88cd20806ae0",
   "metadata": {},
   "outputs": [],
   "source": [
    "t = tensor([-10., -20.,  4.,  6., 19., 16.])"
   ]
  },
  {
   "cell_type": "code",
   "execution_count": 48,
   "id": "bd232140-1fc3-4d86-bba8-ce4f6bcea014",
   "metadata": {},
   "outputs": [],
   "source": [
    "def relu_c(t): return t.max(tensor(0.0))    "
   ]
  },
  {
   "cell_type": "code",
   "execution_count": 49,
   "id": "54e4ae33-26b7-4de9-a285-267ecc1585c1",
   "metadata": {},
   "outputs": [
    {
     "data": {
      "text/plain": [
       "tensor([ 0.,  0.,  4.,  6., 19., 16.])"
      ]
     },
     "execution_count": 49,
     "metadata": {},
     "output_type": "execute_result"
    }
   ],
   "source": [
    "relu_c(t)"
   ]
  },
  {
   "cell_type": "markdown",
   "id": "c0f0797d-6c6f-4251-b020-6dadbeb6396f",
   "metadata": {
    "tags": [],
    "toc-hr-collapsed": true
   },
   "source": [
    "### Simple Net"
   ]
  },
  {
   "cell_type": "code",
   "execution_count": 50,
   "id": "71c46300-bee1-4184-803c-efc82d6afcde",
   "metadata": {},
   "outputs": [],
   "source": [
    "xb, yb = first(train_dl)"
   ]
  },
  {
   "cell_type": "code",
   "execution_count": 51,
   "id": "778c6624-d6bb-4236-8b6f-659e4af38fd8",
   "metadata": {},
   "outputs": [],
   "source": [
    "def init_params(size, std=1.0):\n",
    "    return (torch.randn(size)*std).requires_grad_()"
   ]
  },
  {
   "cell_type": "markdown",
   "id": "81058ba8-dd1b-4e5c-ac66-23922c2101ef",
   "metadata": {},
   "source": [
    "### The Model"
   ]
  },
  {
   "cell_type": "code",
   "execution_count": 205,
   "id": "0da6f0c8-24c9-458f-ac7f-f6131d4b4209",
   "metadata": {},
   "outputs": [],
   "source": [
    "class SimpleLinearModel():\n",
    "    \n",
    "    def __init__(self, n_layers, n_inputs:Tuple , n_outputs:Tuple, activation_fn=relu_c, output_activation_fn=softmax_stable, pretrained=False, model_filepath=None):\n",
    "        self.n_layers = n_layers\n",
    "        self.activation_fn = activation_fn\n",
    "        self.output_activation_fn = output_activation_fn\n",
    "        if pretrained and model_filepath:\n",
    "            self.parameters = self.load_model(model_filepath)\n",
    "            self.ws = self.parameters[:self.n_layers]\n",
    "            self.bs = self.parameters[self.n_layers:]\n",
    "        else:\n",
    "            self.ws = [self.init_params((i, o)) for i, o in zip(n_inputs, n_outputs)]\n",
    "            self.bs = [self.init_params(o) for o in n_outputs]\n",
    "            self.parameters = self.ws + self.bs\n",
    "\n",
    "    def init_params(self, size, std=1.0):\n",
    "        return (torch.randn(size)*std).requires_grad_()\n",
    "    \n",
    "    def forward(self, xb):\n",
    "        a = xb\n",
    "        for n in range(self.n_layers):\n",
    "            if n == self.n_layers - 1:\n",
    "                a = self.output_activation_fn(a.mm(self.ws[n]) + self.bs[n])\n",
    "            else:\n",
    "                a = self.activation_fn(a.mm(self.ws[n]) + self.bs[n])\n",
    "        self.probs , self.preds = a.max(axis=1)[0], a.max(axis=1)[1]\n",
    "        return self.probs , self.preds\n",
    "\n",
    "    def evaluate(self, yb):\n",
    "        return sum([p==t for p, t in zip(self.preds, yb)])/len(yb)\n",
    "    \n",
    "    def save_model(self, filepath='model.pkl'):\n",
    "        with open(filepath, 'wb') as f:\n",
    "            pickle.dump(self.parameters, f)\n",
    "    \n",
    "    def load_model(self, filepath):                   \n",
    "        with open(filepath, 'rb') as f:\n",
    "                   parameters = pickle.load(f)\n",
    "        return parameters \n",
    "            \n",
    "    \n",
    "\n",
    "        "
   ]
  },
  {
   "cell_type": "markdown",
   "id": "d8bf69d3-0e83-4d82-822e-87b826ee0af1",
   "metadata": {
    "tags": [],
    "toc-hr-collapsed": true
   },
   "source": [
    "### Test Model"
   ]
  },
  {
   "cell_type": "code",
   "execution_count": 92,
   "id": "fdd1bda5-bed0-4cc0-8651-d846af87b412",
   "metadata": {},
   "outputs": [],
   "source": [
    "simple_net_c = SimpleLinearModel(2, n_inputs=(28*28, 30), n_outputs=(30, 10))"
   ]
  },
  {
   "cell_type": "code",
   "execution_count": 93,
   "id": "6271998f-3bc7-4204-93c3-23bf012ffb15",
   "metadata": {},
   "outputs": [
    {
     "name": "stdout",
     "output_type": "stream",
     "text": [
      "torch.Size([784, 30])\n",
      "torch.Size([30, 10])\n",
      "torch.Size([30])\n",
      "torch.Size([10])\n"
     ]
    }
   ],
   "source": [
    "for p in simple_net_c.parameters:\n",
    "    print(p.shape)"
   ]
  },
  {
   "cell_type": "code",
   "execution_count": 94,
   "id": "f8c445ff-e433-480d-bf3d-94beafcebf6e",
   "metadata": {},
   "outputs": [
    {
     "data": {
      "text/plain": [
       "(torch.Size([784, 30]), torch.Size([30, 10]))"
      ]
     },
     "execution_count": 94,
     "metadata": {},
     "output_type": "execute_result"
    }
   ],
   "source": [
    "simple_net_c.ws[0].shape, simple_net_c.ws[1].shape"
   ]
  },
  {
   "cell_type": "code",
   "execution_count": 95,
   "id": "2a419441-20bd-4891-b9b7-be800a70941d",
   "metadata": {},
   "outputs": [
    {
     "data": {
      "text/plain": [
       "(torch.Size([30]), torch.Size([10]))"
      ]
     },
     "execution_count": 95,
     "metadata": {},
     "output_type": "execute_result"
    }
   ],
   "source": [
    "simple_net_c.bs[0].shape, simple_net_c.bs[1].shape"
   ]
  },
  {
   "cell_type": "code",
   "execution_count": 97,
   "id": "7f8b008d-f1dd-4ea1-86f3-a9010077c46e",
   "metadata": {},
   "outputs": [],
   "source": [
    "probs, preds = simple_net_c.forward(xb)\n",
    "# a = simple_net_c.forward(xb)"
   ]
  },
  {
   "cell_type": "code",
   "execution_count": 98,
   "id": "c0ec6062-1ed6-49d1-855f-3452fb51bfd2",
   "metadata": {},
   "outputs": [
    {
     "data": {
      "text/plain": [
       "(tensor([0.9971, 0.7198, 0.9972, 1.0000, 1.0000, 1.0000, 1.0000, 1.0000, 1.0000, 1.0000, 1.0000, 1.0000, 0.9949, 0.7219, 1.0000, 0.9202, 1.0000, 1.0000, 1.0000, 1.0000, 1.0000, 0.9999, 0.9807, 0.9858,\n",
       "         1.0000, 1.0000, 0.9044, 1.0000, 1.0000, 0.7179, 0.9552, 1.0000, 0.9992, 0.9710, 1.0000, 1.0000, 0.9774, 1.0000, 1.0000, 1.0000, 1.0000, 1.0000, 0.9826, 1.0000, 1.0000, 1.0000, 1.0000, 1.0000,\n",
       "         0.9820, 0.9992, 0.8965, 0.8529, 1.0000, 1.0000, 1.0000, 1.0000, 1.0000, 1.0000, 1.0000, 0.8172, 1.0000, 1.0000, 1.0000, 1.0000, 1.0000, 0.8698, 1.0000, 1.0000, 1.0000, 1.0000, 1.0000, 0.8426,\n",
       "         0.9838, 1.0000, 1.0000, 1.0000, 1.0000, 1.0000, 0.8307, 1.0000, 1.0000, 0.9667, 0.9987, 1.0000, 1.0000, 1.0000, 0.9986, 1.0000, 1.0000, 0.9667, 1.0000, 1.0000, 1.0000, 1.0000, 1.0000, 1.0000,\n",
       "         0.9926, 0.9754, 1.0000, 1.0000, 1.0000, 1.0000, 1.0000, 1.0000, 1.0000, 1.0000, 1.0000, 0.9006, 0.9372, 1.0000, 1.0000, 1.0000, 0.9993, 0.5908, 1.0000, 0.9964, 1.0000, 1.0000, 0.9476, 0.9524,\n",
       "         0.9998, 0.4781, 1.0000, 1.0000, 1.0000, 1.0000, 1.0000, 1.0000, 1.0000, 1.0000, 1.0000, 1.0000, 1.0000, 1.0000, 1.0000, 0.9604, 1.0000, 1.0000, 1.0000, 1.0000, 0.9458, 1.0000, 1.0000, 1.0000,\n",
       "         0.9993, 1.0000, 0.7022, 0.6420, 1.0000, 1.0000, 0.9942, 1.0000, 0.9566, 0.9833, 1.0000, 1.0000, 1.0000, 1.0000, 1.0000, 1.0000, 1.0000, 1.0000, 1.0000, 0.9943, 1.0000, 1.0000, 1.0000, 0.9748,\n",
       "         0.9970, 1.0000, 0.7401, 1.0000, 0.9975, 1.0000, 1.0000, 1.0000, 1.0000, 0.9890, 1.0000, 1.0000, 0.9999, 1.0000, 0.9929, 1.0000, 0.8149, 1.0000, 1.0000, 1.0000, 1.0000, 0.9999, 1.0000, 0.9994,\n",
       "         0.8048, 1.0000, 1.0000, 1.0000, 1.0000, 0.9998, 1.0000, 0.9778, 0.9932, 1.0000, 1.0000, 1.0000, 1.0000, 1.0000, 1.0000, 0.9666, 1.0000, 0.7031, 1.0000, 1.0000, 0.6409, 1.0000, 0.9450, 1.0000,\n",
       "         0.9795, 1.0000, 1.0000, 0.9815, 1.0000, 1.0000, 1.0000, 1.0000, 0.9998, 1.0000, 1.0000, 1.0000, 1.0000, 1.0000, 1.0000, 0.7970, 0.4681, 1.0000, 1.0000, 1.0000, 0.5244, 1.0000, 1.0000, 1.0000,\n",
       "         1.0000, 0.8773, 1.0000, 0.9987, 0.8555, 1.0000, 0.9997, 0.9482, 1.0000, 1.0000, 1.0000, 1.0000, 1.0000, 0.9941, 1.0000, 1.0000], grad_fn=<MaxBackward0>),\n",
       " tensor([6, 0, 8, 0, 0, 0, 0, 0, 8, 8, 0, 8, 0, 9, 0, 8, 0, 0, 0, 0, 6, 8, 0, 0, 0, 6, 9, 8, 0, 8, 0, 8, 6, 0, 8, 0, 0, 0, 0, 0, 0, 8, 6, 0, 0, 0, 0, 8, 8, 0, 0, 0, 0, 0, 0, 0, 0, 0, 0, 0, 6, 8, 0, 0,\n",
       "         8, 0, 0, 0, 8, 8, 8, 0, 0, 0, 0, 0, 8, 0, 8, 0, 0, 8, 0, 0, 0, 8, 6, 8, 8, 0, 8, 0, 0, 8, 0, 0, 7, 9, 8, 0, 8, 9, 8, 0, 8, 8, 8, 0, 5, 0, 0, 0, 0, 0, 8, 9, 0, 0, 0, 0, 9, 0, 7, 0, 8, 0, 0, 8,\n",
       "         8, 8, 0, 0, 0, 0, 8, 5, 0, 0, 8, 0, 0, 0, 0, 6, 8, 0, 0, 0, 8, 8, 0, 0, 9, 1, 0, 8, 0, 0, 0, 0, 8, 0, 0, 8, 0, 8, 6, 8, 0, 0, 0, 8, 0, 8, 0, 0, 0, 0, 6, 8, 0, 8, 0, 0, 0, 0, 0, 8, 0, 0, 0, 0,\n",
       "         6, 0, 0, 0, 8, 0, 0, 6, 0, 0, 0, 0, 0, 0, 0, 9, 0, 0, 0, 0, 0, 8, 0, 0, 0, 0, 8, 0, 0, 0, 9, 0, 0, 0, 8, 0, 9, 0, 0, 9, 0, 0, 0, 0, 0, 8, 0, 0, 0, 0, 0, 8, 1, 0, 9, 8, 8, 8, 0, 0, 0, 0, 7, 0]))"
      ]
     },
     "execution_count": 98,
     "metadata": {},
     "output_type": "execute_result"
    }
   ],
   "source": [
    "probs, preds"
   ]
  },
  {
   "cell_type": "code",
   "execution_count": 37,
   "id": "a61c241c-1b76-4436-bbaf-6fcdede7e8ac",
   "metadata": {
    "jupyter": {
     "source_hidden": true
    },
    "tags": []
   },
   "outputs": [],
   "source": [
    "# w1 = init_params((28*28, 30))\n",
    "# b1 = init_params(30)\n",
    "# w2 = init_params((30, 10))\n",
    "# b2 = init_params(10)\n",
    "\n",
    "# def simple_net(xb):\n",
    "#     res = xb.mm(w1)+ b1\n",
    "#     res = res.max(tensor(0.0))\n",
    "#     res = res.mm(w2) + b2\n",
    "#     return softmax_c(res)\n",
    "\n",
    "# outputs = simple_net(first(train_dl)[0])\n",
    "# probits = F.softmax(outputs, dim=1)\n",
    "# probs, preds = probits.max(axis=1)[0], probits.max(axis=1)[1]"
   ]
  },
  {
   "cell_type": "code",
   "execution_count": 99,
   "id": "1c3ac2a0-a6f1-4a5d-b873-118a2cc7e406",
   "metadata": {},
   "outputs": [],
   "source": [
    "loss_fn = CrossEntropyC(epsilon=0.00001)"
   ]
  },
  {
   "cell_type": "code",
   "execution_count": 100,
   "id": "a89dc7a8-bba9-4262-92f9-29137dbd3176",
   "metadata": {},
   "outputs": [
    {
     "data": {
      "text/plain": [
       "tensor(8.6249, grad_fn=<MeanBackward0>)"
      ]
     },
     "execution_count": 100,
     "metadata": {},
     "output_type": "execute_result"
    }
   ],
   "source": [
    "l = loss_fn.compute_loss(preds, yb, probs)\n",
    "l"
   ]
  },
  {
   "cell_type": "code",
   "execution_count": 101,
   "id": "183323f5-5689-4cca-b547-0f387c5a73ef",
   "metadata": {},
   "outputs": [],
   "source": [
    "l.backward()"
   ]
  },
  {
   "cell_type": "code",
   "execution_count": 102,
   "id": "1c7d5ca9-2e29-4bf3-b27c-468b8be25bd1",
   "metadata": {},
   "outputs": [
    {
     "data": {
      "text/plain": [
       "tensor([ 5.7483e-02,  3.3116e-03,  2.2102e-05, -1.8716e-06, -6.7392e-03, -9.6109e-03, -5.7587e-04, -1.6967e-02, -1.6257e-02, -1.0665e-02])"
      ]
     },
     "execution_count": 102,
     "metadata": {},
     "output_type": "execute_result"
    }
   ],
   "source": [
    "simple_net_c.parameters[3].grad"
   ]
  },
  {
   "cell_type": "code",
   "execution_count": 103,
   "id": "fb9d33d1-45cb-44ad-9ec8-22fee815a8e7",
   "metadata": {},
   "outputs": [
    {
     "data": {
      "text/plain": [
       "tensor(0.0664)"
      ]
     },
     "execution_count": 103,
     "metadata": {},
     "output_type": "execute_result"
    }
   ],
   "source": [
    "simple_net_c.evaluate(yb)"
   ]
  },
  {
   "cell_type": "code",
   "execution_count": 104,
   "id": "1bb6bc9f-fb1e-4b7a-a411-36e850250d7f",
   "metadata": {},
   "outputs": [
    {
     "data": {
      "text/plain": [
       "[(tensor(6), tensor(6), tensor(0.0030)),\n",
       " (tensor(0), tensor(6), tensor(1.2724)),\n",
       " (tensor(8), tensor(9), tensor(5.8873)),\n",
       " (tensor(0), tensor(2), tensor(11.5116)),\n",
       " (tensor(0), tensor(3), tensor(11.3677)),\n",
       " (tensor(0), tensor(1), tensor(11.5116)),\n",
       " (tensor(0), tensor(9), tensor(11.5116)),\n",
       " (tensor(0), tensor(7), tensor(11.5116)),\n",
       " (tensor(8), tensor(5), tensor(11.5116)),\n",
       " (tensor(8), tensor(0), tensor(11.5116))]"
      ]
     },
     "execution_count": 104,
     "metadata": {},
     "output_type": "execute_result"
    }
   ],
   "source": [
    "loss_fn.per_example_loss[:10]"
   ]
  },
  {
   "cell_type": "markdown",
   "id": "b653c895-61c5-4e00-a926-ca4479707e54",
   "metadata": {
    "tags": [],
    "toc-hr-collapsed": true
   },
   "source": [
    "## Create Optimizer"
   ]
  },
  {
   "cell_type": "code",
   "execution_count": 105,
   "id": "1bb96a5b-02aa-4781-952b-3abc979f4fed",
   "metadata": {},
   "outputs": [],
   "source": [
    "class GradientDescentC():\n",
    "    def __init__(self, params, lr):\n",
    "        self.params = params\n",
    "        self.lr = lr\n",
    "    \n",
    "    def step(self, *args, **kwargs):\n",
    "        for p in self.params:\n",
    "            p.data -= p.grad.data * self.lr\n",
    "    \n",
    "    def zero_grad(self, *args, **kwargs):\n",
    "        for p in self.params:\n",
    "            p.grad = None\n",
    "        "
   ]
  },
  {
   "cell_type": "markdown",
   "id": "8421ebcd-751f-4da4-badd-c0d6e51065f4",
   "metadata": {
    "tags": [],
    "toc-hr-collapsed": true
   },
   "source": [
    "## Train Loop"
   ]
  },
  {
   "cell_type": "code",
   "execution_count": 127,
   "id": "d564b566-4129-4f8d-b452-0d11057127a4",
   "metadata": {},
   "outputs": [],
   "source": [
    "def train(model, epochs, optimizer, loss_fn, lr_decay=True):\n",
    "    metrics = {'epoch': [], 'train_loss': [], 'test_loss': [], 'acc_train': [], 'acc_test': []}\n",
    "    lr_decay_steps = list(range(0, epochs, 25))\n",
    "    for i in tqdm(range(epochs)):\n",
    "        #learning rate decay\n",
    "        if lr_decay and i in lr_decay_steps[1:]:\n",
    "            lr = sgd.lr/5\n",
    "        \n",
    "        metrics['epoch'].append(i)\n",
    "        ## train\n",
    "        acc_trains = []\n",
    "        acc_tests = []\n",
    "        train_losses = []\n",
    "        test_losses = []\n",
    "        for xb, yb in train_dl:\n",
    "            probs, preds = model.forward(xb)\n",
    "            loss = loss_fn.compute_loss(preds, yb, probs)\n",
    "            loss.backward()\n",
    "            optimizer.step()\n",
    "            optimizer.zero_grad()\n",
    "            train_losses.append(loss.data)\n",
    "            acc_trains.append(model.evaluate(yb))\n",
    "        train_loss = (sum(train_losses)/len(train_losses)).data.item()\n",
    "        acc_train = (sum(acc_trains)/len(acc_trains)).data.item()\n",
    "        \n",
    "        metrics['train_loss'].append(train_loss)\n",
    "        metrics['acc_train'].append(acc_train)\n",
    "        \n",
    "        ## validate \n",
    "        for xb, yb in test_dl:\n",
    "            probs, preds = model.forward(xb)\n",
    "            acc_tests.append(model.evaluate(yb))\n",
    "            test_losses.append(loss_fn.compute_loss(preds, yb, probs))\n",
    "        test_loss = (sum(test_losses)/len(test_losses)).data.item()\n",
    "        acc_test = (sum(acc_tests)/len(acc_tests)).data.item()\n",
    "        \n",
    "#         print(pd.DataFrame({'train_loss':train_loss.data.item(), 'train_acc':acc_train.data.item(), 'test_acc':acc_test.data.item()}))\n",
    "        metrics['test_loss'].append(test_loss)\n",
    "        metrics['acc_test'].append(acc_test)\n",
    "        \n",
    "        if i >0 and (i%5==0 or (i ==epochs-1)) :\n",
    "            print({'epoch': i, 'train_loss':train_loss, 'test_loss':test_loss, 'train_acc':acc_train, 'test_acc':acc_test})\n",
    "    return metrics\n",
    "        "
   ]
  },
  {
   "cell_type": "markdown",
   "id": "31ed7597-a15c-4e94-8a81-eac076cfab40",
   "metadata": {
    "tags": []
   },
   "source": [
    "### Training without Learning Decay"
   ]
  },
  {
   "cell_type": "code",
   "execution_count": 115,
   "id": "21c842c7-b4e7-4555-9664-00b3d316f71e",
   "metadata": {},
   "outputs": [],
   "source": [
    "model = SimpleLinearModel(3, n_inputs=(28*28, 50, 25), n_outputs=(50, 25, 10))\n",
    "loss_fn = CrossEntropyC(epsilon=0.00001)\n",
    "sgd = GradientDescentC(model.parameters, lr=0.1)"
   ]
  },
  {
   "cell_type": "code",
   "execution_count": 116,
   "id": "e07a87ed-9a76-4d49-af50-b84b31c7385e",
   "metadata": {},
   "outputs": [
    {
     "data": {
      "application/vnd.jupyter.widget-view+json": {
       "model_id": "87b1cc00a4384cfaa07acb29928b4ae3",
       "version_major": 2,
       "version_minor": 0
      },
      "text/plain": [
       "  0%|          | 0/100 [00:00<?, ?it/s]"
      ]
     },
     "metadata": {},
     "output_type": "display_data"
    },
    {
     "name": "stdout",
     "output_type": "stream",
     "text": [
      "{'epoch': 5, 'train_loss': 0.43648073077201843, 'test_loss': 0.448186457157135, 'train_acc': 0.3688054084777832, 'test_acc': 0.38505858182907104}\n",
      "{'epoch': 10, 'train_loss': 0.4350285232067108, 'test_loss': 0.45321446657180786, 'train_acc': 0.4825742244720459, 'test_acc': 0.4849609434604645}\n",
      "{'epoch': 15, 'train_loss': 0.4148310124874115, 'test_loss': 0.43377742171287537, 'train_acc': 0.5471853017807007, 'test_acc': 0.542187511920929}\n",
      "{'epoch': 20, 'train_loss': 0.3774803578853607, 'test_loss': 0.3889409899711609, 'train_acc': 0.6239306330680847, 'test_acc': 0.6171875}\n",
      "{'epoch': 25, 'train_loss': 0.30884575843811035, 'test_loss': 0.3029526472091675, 'train_acc': 0.6524600982666016, 'test_acc': 0.6314452886581421}\n",
      "{'epoch': 30, 'train_loss': 0.27625390887260437, 'test_loss': 0.29117637872695923, 'train_acc': 0.6734486222267151, 'test_acc': 0.66748046875}\n",
      "{'epoch': 35, 'train_loss': 0.2556435763835907, 'test_loss': 0.28990763425827026, 'train_acc': 0.6864638924598694, 'test_acc': 0.6791015863418579}\n",
      "{'epoch': 40, 'train_loss': 0.2425982654094696, 'test_loss': 0.2530113756656647, 'train_acc': 0.6959995627403259, 'test_acc': 0.68359375}\n",
      "{'epoch': 45, 'train_loss': 0.2310166209936142, 'test_loss': 0.2545885443687439, 'train_acc': 0.7027260661125183, 'test_acc': 0.687695324420929}\n",
      "{'epoch': 50, 'train_loss': 0.31981000304222107, 'test_loss': 0.34905439615249634, 'train_acc': 0.7852615118026733, 'test_acc': 0.7694336175918579}\n",
      "{'epoch': 55, 'train_loss': 0.30517518520355225, 'test_loss': 0.33946746587753296, 'train_acc': 0.795495331287384, 'test_acc': 0.76806640625}\n",
      "{'epoch': 60, 'train_loss': 0.29430487751960754, 'test_loss': 0.3317154049873352, 'train_acc': 0.7999280095100403, 'test_acc': 0.779980480670929}\n",
      "{'epoch': 65, 'train_loss': 0.2742706537246704, 'test_loss': 0.3751523494720459, 'train_acc': 0.8056959509849548, 'test_acc': 0.7782226800918579}\n",
      "{'epoch': 70, 'train_loss': 0.29041174054145813, 'test_loss': 0.3437969386577606, 'train_acc': 0.8485483527183533, 'test_acc': 0.8370116949081421}\n",
      "{'epoch': 75, 'train_loss': 0.2706482708454132, 'test_loss': 0.28796812891960144, 'train_acc': 0.8627659678459167, 'test_acc': 0.8614257574081421}\n",
      "{'epoch': 80, 'train_loss': 0.2561349868774414, 'test_loss': 0.3254009187221527, 'train_acc': 0.8721852898597717, 'test_acc': 0.840527355670929}\n",
      "{'epoch': 85, 'train_loss': 0.2470983862876892, 'test_loss': 0.27902722358703613, 'train_acc': 0.8758921027183533, 'test_acc': 0.862011730670929}\n",
      "{'epoch': 90, 'train_loss': 0.24045616388320923, 'test_loss': 0.2868066430091858, 'train_acc': 0.8825852870941162, 'test_acc': 0.8667968511581421}\n",
      "{'epoch': 95, 'train_loss': 0.23361532390117645, 'test_loss': 0.29784655570983887, 'train_acc': 0.8884973526000977, 'test_acc': 0.8709961175918579}\n",
      "{'epoch': 99, 'train_loss': 0.22895361483097076, 'test_loss': 0.2845611274242401, 'train_acc': 0.8903313279151917, 'test_acc': 0.8697265386581421}\n"
     ]
    }
   ],
   "source": [
    "metrics = train(model, 100, optimizer=sgd, loss_fn=loss_fn, lr_decay=False)"
   ]
  },
  {
   "cell_type": "markdown",
   "id": "30757f65-4673-4b9d-ba5b-64d6b0553cae",
   "metadata": {
    "tags": []
   },
   "source": [
    "### Training with Learning Rate Decay"
   ]
  },
  {
   "cell_type": "code",
   "execution_count": 128,
   "id": "4f1c3ad1-32bd-4746-92f6-95361ff6e8f4",
   "metadata": {},
   "outputs": [],
   "source": [
    "model = SimpleLinearModel(3, n_inputs=(28*28, 50, 25), n_outputs=(50, 25, 10))\n",
    "loss_fn = CrossEntropyC(epsilon=0.00001)\n",
    "sgd = GradientDescentC(model.parameters, lr=0.1)"
   ]
  },
  {
   "cell_type": "code",
   "execution_count": 129,
   "id": "e5dc1461-be5f-403a-b915-85d4dc5a460a",
   "metadata": {},
   "outputs": [
    {
     "data": {
      "application/vnd.jupyter.widget-view+json": {
       "model_id": "6c54c1bb283642a59342f6ae7cb30356",
       "version_major": 2,
       "version_minor": 0
      },
      "text/plain": [
       "  0%|          | 0/100 [00:00<?, ?it/s]"
      ]
     },
     "metadata": {},
     "output_type": "display_data"
    },
    {
     "name": "stdout",
     "output_type": "stream",
     "text": [
      "{'epoch': 5, 'train_loss': 1.5392154455184937, 'test_loss': 1.418341875076294, 'train_acc': 0.854687511920929, 'test_acc': 0.8651367425918579}\n",
      "{'epoch': 10, 'train_loss': 1.1419862508773804, 'test_loss': 1.190634846687317, 'train_acc': 0.8919603228569031, 'test_acc': 0.8827148675918579}\n",
      "{'epoch': 15, 'train_loss': 0.9906216263771057, 'test_loss': 0.9536762237548828, 'train_acc': 0.9052526354789734, 'test_acc': 0.90869140625}\n",
      "{'epoch': 20, 'train_loss': 0.8637762665748596, 'test_loss': 0.9215826988220215, 'train_acc': 0.9172927737236023, 'test_acc': 0.9122070074081421}\n",
      "{'epoch': 25, 'train_loss': 0.7844356298446655, 'test_loss': 0.8514246940612793, 'train_acc': 0.9249556660652161, 'test_acc': 0.918749988079071}\n",
      "{'epoch': 30, 'train_loss': 0.7467063069343567, 'test_loss': 0.8274339437484741, 'train_acc': 0.9283466339111328, 'test_acc': 0.9198242425918579}\n",
      "{'epoch': 35, 'train_loss': 0.6918111443519592, 'test_loss': 0.7018330693244934, 'train_acc': 0.9330341219902039, 'test_acc': 0.9327148199081421}\n",
      "{'epoch': 40, 'train_loss': 0.6486706137657166, 'test_loss': 0.7437135577201843, 'train_acc': 0.9375166296958923, 'test_acc': 0.9273437261581421}\n",
      "{'epoch': 45, 'train_loss': 0.6180207133293152, 'test_loss': 0.6772066354751587, 'train_acc': 0.9400875568389893, 'test_acc': 0.9334961175918579}\n",
      "{'epoch': 50, 'train_loss': 0.5790557861328125, 'test_loss': 0.6911883354187012, 'train_acc': 0.9432790279388428, 'test_acc': 0.932812511920929}\n",
      "{'epoch': 55, 'train_loss': 0.5604777336120605, 'test_loss': 0.6391314268112183, 'train_acc': 0.9452294111251831, 'test_acc': 0.938183605670929}\n",
      "{'epoch': 60, 'train_loss': 0.5258802771568298, 'test_loss': 0.6104291677474976, 'train_acc': 0.9484097957611084, 'test_acc': 0.9405273199081421}\n",
      "{'epoch': 65, 'train_loss': 0.5052196383476257, 'test_loss': 0.6105000972747803, 'train_acc': 0.950875461101532, 'test_acc': 0.939746081829071}\n",
      "{'epoch': 70, 'train_loss': 0.4913143515586853, 'test_loss': 0.820844829082489, 'train_acc': 0.9518118500709534, 'test_acc': 0.919921875}\n",
      "{'epoch': 75, 'train_loss': 0.4653352200984955, 'test_loss': 0.583071231842041, 'train_acc': 0.953906238079071, 'test_acc': 0.943164050579071}\n",
      "{'epoch': 80, 'train_loss': 0.45222312211990356, 'test_loss': 0.5629583597183228, 'train_acc': 0.9554409980773926, 'test_acc': 0.945605456829071}\n",
      "{'epoch': 85, 'train_loss': 0.4318855404853821, 'test_loss': 0.5481780767440796, 'train_acc': 0.9574357271194458, 'test_acc': 0.946972668170929}\n",
      "{'epoch': 90, 'train_loss': 0.4289417862892151, 'test_loss': 0.5540891885757446, 'train_acc': 0.9573027491569519, 'test_acc': 0.9462890625}\n",
      "{'epoch': 95, 'train_loss': 0.40861788392066956, 'test_loss': 0.5222738981246948, 'train_acc': 0.9592142701148987, 'test_acc': 0.946582019329071}\n",
      "{'epoch': 99, 'train_loss': 0.39326155185699463, 'test_loss': 0.5528578758239746, 'train_acc': 0.9606271982192993, 'test_acc': 0.9437500238418579}\n"
     ]
    }
   ],
   "source": [
    "metrics = train(model, 100, optimizer=sgd, loss_fn=loss_fn, lr_decay=True)"
   ]
  },
  {
   "cell_type": "markdown",
   "id": "f3c60397-08ab-45c5-bdec-a5d02e31c1e8",
   "metadata": {},
   "source": [
    "### Save Trained Model"
   ]
  },
  {
   "cell_type": "code",
   "execution_count": 208,
   "id": "8ca4b151-cec0-4c02-b3ac-7568689f4cea",
   "metadata": {},
   "outputs": [],
   "source": [
    "model.save_model(filepath='models/mnist_simple_linear_model.pkl')"
   ]
  },
  {
   "cell_type": "markdown",
   "id": "b6ab9ba6-fb57-4804-b95c-3e8230e37add",
   "metadata": {},
   "source": [
    "### Load Model"
   ]
  },
  {
   "cell_type": "code",
   "execution_count": 209,
   "id": "a79fdb06-2cc7-43a0-aec8-82dbff65c292",
   "metadata": {},
   "outputs": [],
   "source": [
    "model = SimpleLinearModel(3, n_inputs=(28*28, 50, 25), n_outputs=(50, 25, 10), pretrained=True, model_filepath='models/mnist_simple_linear_model.pkl')"
   ]
  },
  {
   "cell_type": "code",
   "execution_count": 211,
   "id": "0ff4ebe5-1117-4cfb-845e-5c62697603c7",
   "metadata": {},
   "outputs": [],
   "source": [
    "# [x==y for x,y in zip(model.parameters, parameters)]"
   ]
  },
  {
   "cell_type": "markdown",
   "id": "b6f953e8-0506-4105-a538-9d00c927b99f",
   "metadata": {
    "tags": [],
    "toc-hr-collapsed": true
   },
   "source": [
    "## Predict"
   ]
  },
  {
   "cell_type": "code",
   "execution_count": 212,
   "id": "c8262309-4645-408d-957e-55f01780a0b4",
   "metadata": {},
   "outputs": [],
   "source": [
    "_, preds = model.forward(xb)"
   ]
  },
  {
   "cell_type": "code",
   "execution_count": 213,
   "id": "1061f5b7-a9d0-4f93-898f-3ae34ca31a27",
   "metadata": {},
   "outputs": [
    {
     "data": {
      "text/plain": [
       "tensor([6, 6, 9, 2, 3, 1, 9, 7, 5, 0, 4, 0, 4, 9, 8, 0, 4, 8, 2, 7, 1, 3, 2, 8, 3, 1, 4, 5, 6, 6, 6, 8, 5, 1, 3, 1, 7, 7, 0, 7, 9, 0, 9, 7, 9, 6, 2, 4, 1, 9, 2, 9, 5, 5, 1, 2, 5, 0, 8, 5, 6, 3, 6, 6,\n",
       "        1, 2, 0, 6, 5, 0, 2, 9, 1, 9, 8, 5, 0, 9, 0, 9, 1, 2, 4, 2, 2, 0, 3, 9, 7, 3, 2, 4, 3, 0, 6, 2, 0, 7, 6, 0, 0, 5, 0, 7, 0, 2, 3, 1, 7, 8, 1, 5, 7, 6, 6, 4, 1, 9, 5, 9, 4, 3, 0, 9, 2, 7, 8, 3,\n",
       "        2, 5, 8, 5, 0, 7, 0, 8, 8, 1, 0, 6, 2, 3, 9, 9, 4, 5, 8, 4, 2, 3, 0, 7, 7, 3, 7, 3, 2, 7, 3, 3, 4, 6, 7, 9, 9, 2, 2, 4, 4, 3, 7, 9, 5, 4, 7, 7, 1, 0, 8, 2, 5, 0, 8, 6, 6, 5, 1, 6, 3, 8, 6, 1,\n",
       "        2, 7, 5, 8, 0, 8, 1, 8, 3, 9, 4, 9, 7, 4, 2, 7, 3, 5, 8, 4, 4, 4, 8, 3, 0, 1, 0, 8, 8, 6, 4, 7, 0, 8, 4, 3, 9, 7, 2, 4, 0, 7, 7, 8, 0, 9, 7, 1, 8, 0, 7, 5, 6, 5, 7, 5, 0, 2, 1, 7, 1, 3, 8, 5])"
      ]
     },
     "execution_count": 213,
     "metadata": {},
     "output_type": "execute_result"
    }
   ],
   "source": [
    "preds"
   ]
  },
  {
   "cell_type": "code",
   "execution_count": 214,
   "id": "6728fea2-da2b-470c-9fbe-7e77567b7018",
   "metadata": {},
   "outputs": [
    {
     "data": {
      "text/plain": [
       "tensor(0.9883)"
      ]
     },
     "execution_count": 214,
     "metadata": {},
     "output_type": "execute_result"
    }
   ],
   "source": [
    "model.evaluate(yb)"
   ]
  },
  {
   "cell_type": "markdown",
   "id": "27b23ccb-f025-4d82-b101-2ba88f74afa5",
   "metadata": {
    "tags": []
   },
   "source": [
    "## Evaluate"
   ]
  },
  {
   "cell_type": "code",
   "execution_count": 141,
   "id": "3c291baf-514c-4454-9575-14ba813a3ece",
   "metadata": {},
   "outputs": [],
   "source": [
    "metrics = pd.DataFrame.from_dict(metrics, orient='index').transpose()"
   ]
  },
  {
   "cell_type": "code",
   "execution_count": 166,
   "id": "e0fbd204-3ed3-4e5e-b6ee-5e83129d03a2",
   "metadata": {},
   "outputs": [
    {
     "data": {
      "text/html": [
       "<div>\n",
       "<style scoped>\n",
       "    .dataframe tbody tr th:only-of-type {\n",
       "        vertical-align: middle;\n",
       "    }\n",
       "\n",
       "    .dataframe tbody tr th {\n",
       "        vertical-align: top;\n",
       "    }\n",
       "\n",
       "    .dataframe thead th {\n",
       "        text-align: right;\n",
       "    }\n",
       "</style>\n",
       "<table border=\"1\" class=\"dataframe\">\n",
       "  <thead>\n",
       "    <tr style=\"text-align: right;\">\n",
       "      <th></th>\n",
       "      <th>epoch</th>\n",
       "      <th>train_loss</th>\n",
       "      <th>test_loss</th>\n",
       "      <th>acc_train</th>\n",
       "      <th>acc_test</th>\n",
       "    </tr>\n",
       "  </thead>\n",
       "  <tbody>\n",
       "    <tr>\n",
       "      <th>83</th>\n",
       "      <td>83.0</td>\n",
       "      <td>0.440607</td>\n",
       "      <td>0.561062</td>\n",
       "      <td>0.956799</td>\n",
       "      <td>0.944922</td>\n",
       "    </tr>\n",
       "    <tr>\n",
       "      <th>53</th>\n",
       "      <td>53.0</td>\n",
       "      <td>0.557946</td>\n",
       "      <td>0.632479</td>\n",
       "      <td>0.945329</td>\n",
       "      <td>0.938477</td>\n",
       "    </tr>\n",
       "    <tr>\n",
       "      <th>70</th>\n",
       "      <td>70.0</td>\n",
       "      <td>0.491314</td>\n",
       "      <td>0.820845</td>\n",
       "      <td>0.951812</td>\n",
       "      <td>0.919922</td>\n",
       "    </tr>\n",
       "    <tr>\n",
       "      <th>45</th>\n",
       "      <td>45.0</td>\n",
       "      <td>0.618021</td>\n",
       "      <td>0.677207</td>\n",
       "      <td>0.940088</td>\n",
       "      <td>0.933496</td>\n",
       "    </tr>\n",
       "    <tr>\n",
       "      <th>44</th>\n",
       "      <td>44.0</td>\n",
       "      <td>0.626953</td>\n",
       "      <td>0.724009</td>\n",
       "      <td>0.939617</td>\n",
       "      <td>0.929395</td>\n",
       "    </tr>\n",
       "    <tr>\n",
       "      <th>39</th>\n",
       "      <td>39.0</td>\n",
       "      <td>0.663377</td>\n",
       "      <td>0.742327</td>\n",
       "      <td>0.935683</td>\n",
       "      <td>0.928613</td>\n",
       "    </tr>\n",
       "    <tr>\n",
       "      <th>22</th>\n",
       "      <td>22.0</td>\n",
       "      <td>0.824504</td>\n",
       "      <td>0.929128</td>\n",
       "      <td>0.921000</td>\n",
       "      <td>0.911816</td>\n",
       "    </tr>\n",
       "    <tr>\n",
       "      <th>80</th>\n",
       "      <td>80.0</td>\n",
       "      <td>0.452223</td>\n",
       "      <td>0.562958</td>\n",
       "      <td>0.955441</td>\n",
       "      <td>0.945605</td>\n",
       "    </tr>\n",
       "    <tr>\n",
       "      <th>10</th>\n",
       "      <td>10.0</td>\n",
       "      <td>1.141986</td>\n",
       "      <td>1.190635</td>\n",
       "      <td>0.891960</td>\n",
       "      <td>0.882715</td>\n",
       "    </tr>\n",
       "    <tr>\n",
       "      <th>0</th>\n",
       "      <td>0.0</td>\n",
       "      <td>7.067844</td>\n",
       "      <td>4.834762</td>\n",
       "      <td>0.348609</td>\n",
       "      <td>0.542285</td>\n",
       "    </tr>\n",
       "  </tbody>\n",
       "</table>\n",
       "</div>"
      ],
      "text/plain": [
       "    epoch  train_loss  test_loss  acc_train  acc_test\n",
       "83   83.0    0.440607   0.561062   0.956799  0.944922\n",
       "53   53.0    0.557946   0.632479   0.945329  0.938477\n",
       "70   70.0    0.491314   0.820845   0.951812  0.919922\n",
       "45   45.0    0.618021   0.677207   0.940088  0.933496\n",
       "44   44.0    0.626953   0.724009   0.939617  0.929395\n",
       "39   39.0    0.663377   0.742327   0.935683  0.928613\n",
       "22   22.0    0.824504   0.929128   0.921000  0.911816\n",
       "80   80.0    0.452223   0.562958   0.955441  0.945605\n",
       "10   10.0    1.141986   1.190635   0.891960  0.882715\n",
       "0     0.0    7.067844   4.834762   0.348609  0.542285"
      ]
     },
     "execution_count": 166,
     "metadata": {},
     "output_type": "execute_result"
    }
   ],
   "source": [
    "metrics.sample(10)"
   ]
  },
  {
   "cell_type": "code",
   "execution_count": 164,
   "id": "6267fc06-8987-46d5-b842-1673f72fe124",
   "metadata": {},
   "outputs": [
    {
     "data": {
      "image/png": "[encoded data removed]",
      "text/plain": [
       "<Figure size 432x288 with 1 Axes>"
      ]
     },
     "metadata": {
      "needs_background": "light"
     },
     "output_type": "display_data"
    }
   ],
   "source": [
    "metrics.train_loss.plot(xlabel='epochs', ylabel='train_loss', legend='train_loss')\n",
    "metrics.test_loss.plot(xlabel='epochs', ylabel='test_loss', legend='test_loss');"
   ]
  },
  {
   "cell_type": "code",
   "execution_count": 165,
   "id": "53b410b5-bba7-418e-b78e-78cabce8135e",
   "metadata": {},
   "outputs": [
    {
     "data": {
      "image/png": "[encoded data removed]",
      "text/plain": [
       "<Figure size 432x288 with 1 Axes>"
      ]
     },
     "metadata": {
      "needs_background": "light"
     },
     "output_type": "display_data"
    }
   ],
   "source": [
    "metrics.acc_train.plot(xlabel='epochs', ylabel='acc_train', legend='acc_train');\n",
    "metrics.acc_test.plot(xlabel='epochs', ylabel='acc_test', legend='acc_test');"
   ]
  },
  {
   "cell_type": "markdown",
   "id": "30283c12-609d-470a-87e5-815c1bf7f8e2",
   "metadata": {
    "tags": []
   },
   "source": [
    "## Compare Results with FastAI Learner"
   ]
  },
  {
   "cell_type": "code",
   "execution_count": 143,
   "id": "600f1785-60d7-4c6d-8e16-5a8e77c214f3",
   "metadata": {},
   "outputs": [],
   "source": [
    "dls = DataLoaders(train_dl, test_dl)"
   ]
  },
  {
   "cell_type": "code",
   "execution_count": 144,
   "id": "595f7e9e-d2b4-44c0-bc21-bed32de0c970",
   "metadata": {},
   "outputs": [],
   "source": [
    "simple_net = nn.Sequential(\n",
    "    nn.Linear(28*28, 50),\n",
    "    nn.ReLU(),\n",
    "    nn.Linear(50, 25),\n",
    "    nn.ReLU(),\n",
    "    nn.Linear(25, 10)\n",
    ")"
   ]
  },
  {
   "cell_type": "code",
   "execution_count": 145,
   "id": "08b6bd4b-5518-4a51-b795-39817e1f698c",
   "metadata": {},
   "outputs": [],
   "source": [
    "learn = Learner(dls, simple_net, opt_func=SGD, loss_func=nn.CrossEntropyLoss(), metrics=accuracy)"
   ]
  },
  {
   "cell_type": "code",
   "execution_count": 146,
   "id": "581cd292-8252-4ae6-93ef-0b9acd97b11a",
   "metadata": {},
   "outputs": [
    {
     "data": {
      "text/html": [
       "<table border=\"1\" class=\"dataframe\">\n",
       "  <thead>\n",
       "    <tr style=\"text-align: left;\">\n",
       "      <th>epoch</th>\n",
       "      <th>train_loss</th>\n",
       "      <th>valid_loss</th>\n",
       "      <th>accuracy</th>\n",
       "      <th>time</th>\n",
       "    </tr>\n",
       "  </thead>\n",
       "  <tbody>\n",
       "    <tr>\n",
       "      <td>0</td>\n",
       "      <td>0.516670</td>\n",
       "      <td>0.391799</td>\n",
       "      <td>0.889400</td>\n",
       "      <td>00:02</td>\n",
       "    </tr>\n",
       "    <tr>\n",
       "      <td>1</td>\n",
       "      <td>0.333141</td>\n",
       "      <td>0.308881</td>\n",
       "      <td>0.907600</td>\n",
       "      <td>00:01</td>\n",
       "    </tr>\n",
       "    <tr>\n",
       "      <td>2</td>\n",
       "      <td>0.278659</td>\n",
       "      <td>0.260834</td>\n",
       "      <td>0.924700</td>\n",
       "      <td>00:01</td>\n",
       "    </tr>\n",
       "    <tr>\n",
       "      <td>3</td>\n",
       "      <td>0.246330</td>\n",
       "      <td>0.253079</td>\n",
       "      <td>0.922700</td>\n",
       "      <td>00:01</td>\n",
       "    </tr>\n",
       "    <tr>\n",
       "      <td>4</td>\n",
       "      <td>0.213505</td>\n",
       "      <td>0.212498</td>\n",
       "      <td>0.937700</td>\n",
       "      <td>00:01</td>\n",
       "    </tr>\n",
       "    <tr>\n",
       "      <td>5</td>\n",
       "      <td>0.198868</td>\n",
       "      <td>0.194417</td>\n",
       "      <td>0.943100</td>\n",
       "      <td>00:01</td>\n",
       "    </tr>\n",
       "    <tr>\n",
       "      <td>6</td>\n",
       "      <td>0.181147</td>\n",
       "      <td>0.172466</td>\n",
       "      <td>0.948200</td>\n",
       "      <td>00:01</td>\n",
       "    </tr>\n",
       "    <tr>\n",
       "      <td>7</td>\n",
       "      <td>0.162241</td>\n",
       "      <td>0.169970</td>\n",
       "      <td>0.949900</td>\n",
       "      <td>00:01</td>\n",
       "    </tr>\n",
       "    <tr>\n",
       "      <td>8</td>\n",
       "      <td>0.151031</td>\n",
       "      <td>0.156515</td>\n",
       "      <td>0.951300</td>\n",
       "      <td>00:01</td>\n",
       "    </tr>\n",
       "    <tr>\n",
       "      <td>9</td>\n",
       "      <td>0.136207</td>\n",
       "      <td>0.144687</td>\n",
       "      <td>0.957500</td>\n",
       "      <td>00:01</td>\n",
       "    </tr>\n",
       "    <tr>\n",
       "      <td>10</td>\n",
       "      <td>0.127661</td>\n",
       "      <td>0.134740</td>\n",
       "      <td>0.959500</td>\n",
       "      <td>00:01</td>\n",
       "    </tr>\n",
       "    <tr>\n",
       "      <td>11</td>\n",
       "      <td>0.118989</td>\n",
       "      <td>0.120411</td>\n",
       "      <td>0.963200</td>\n",
       "      <td>00:01</td>\n",
       "    </tr>\n",
       "    <tr>\n",
       "      <td>12</td>\n",
       "      <td>0.110626</td>\n",
       "      <td>0.120152</td>\n",
       "      <td>0.965100</td>\n",
       "      <td>00:01</td>\n",
       "    </tr>\n",
       "    <tr>\n",
       "      <td>13</td>\n",
       "      <td>0.110023</td>\n",
       "      <td>0.115606</td>\n",
       "      <td>0.966000</td>\n",
       "      <td>00:01</td>\n",
       "    </tr>\n",
       "    <tr>\n",
       "      <td>14</td>\n",
       "      <td>0.101611</td>\n",
       "      <td>0.112745</td>\n",
       "      <td>0.968200</td>\n",
       "      <td>00:01</td>\n",
       "    </tr>\n",
       "    <tr>\n",
       "      <td>15</td>\n",
       "      <td>0.096183</td>\n",
       "      <td>0.106292</td>\n",
       "      <td>0.968100</td>\n",
       "      <td>00:01</td>\n",
       "    </tr>\n",
       "    <tr>\n",
       "      <td>16</td>\n",
       "      <td>0.090752</td>\n",
       "      <td>0.112421</td>\n",
       "      <td>0.965300</td>\n",
       "      <td>00:01</td>\n",
       "    </tr>\n",
       "    <tr>\n",
       "      <td>17</td>\n",
       "      <td>0.081920</td>\n",
       "      <td>0.101239</td>\n",
       "      <td>0.970000</td>\n",
       "      <td>00:01</td>\n",
       "    </tr>\n",
       "    <tr>\n",
       "      <td>18</td>\n",
       "      <td>0.080986</td>\n",
       "      <td>0.104492</td>\n",
       "      <td>0.969900</td>\n",
       "      <td>00:01</td>\n",
       "    </tr>\n",
       "    <tr>\n",
       "      <td>19</td>\n",
       "      <td>0.077949</td>\n",
       "      <td>0.117263</td>\n",
       "      <td>0.964600</td>\n",
       "      <td>00:01</td>\n",
       "    </tr>\n",
       "  </tbody>\n",
       "</table>"
      ],
      "text/plain": [
       "<IPython.core.display.HTML object>"
      ]
     },
     "metadata": {},
     "output_type": "display_data"
    }
   ],
   "source": [
    "learn.fit(20, 0.1)"
   ]
  },
  {
   "cell_type": "code",
   "execution_count": 160,
   "id": "990f6bff-aff2-49e6-84ce-f00b29cee983",
   "metadata": {},
   "outputs": [
    {
     "data": {
      "text/plain": [
       "(#3) [0.5166699290275574,0.39179864525794983,0.8894000053405762]"
      ]
     },
     "execution_count": 160,
     "metadata": {},
     "output_type": "execute_result"
    }
   ],
   "source": [
    "learn.recorder.values[0]"
   ]
  },
  {
   "cell_type": "code",
   "execution_count": 161,
   "id": "3413444a-3fce-4b82-8215-e0b0d9673569",
   "metadata": {},
   "outputs": [
    {
     "data": {
      "image/png": "[encoded data removed]",
      "text/plain": [
       "<Figure size 432x288 with 1 Axes>"
      ]
     },
     "metadata": {
      "needs_background": "light"
     },
     "output_type": "display_data"
    }
   ],
   "source": [
    "learn.recorder.plot_loss()"
   ]
  },
  {
   "cell_type": "code",
   "execution_count": null,
   "id": "c319b869-5343-451d-8901-3e762484535b",
   "metadata": {},
   "outputs": [],
   "source": []
  }
 ],
 "metadata": {
  "kernelspec": {
   "display_name": "Python 3",
   "language": "python",
   "name": "python3"
  },
  "language_info": {
   "codemirror_mode": {
    "name": "ipython",
    "version": 3
   },
   "file_extension": ".py",
   "mimetype": "text/x-python",
   "name": "python",
   "nbconvert_exporter": "python",
   "pygments_lexer": "ipython3",
   "version": "3.7.10"
  }
 },
 "nbformat": 4,
 "nbformat_minor": 5
}
