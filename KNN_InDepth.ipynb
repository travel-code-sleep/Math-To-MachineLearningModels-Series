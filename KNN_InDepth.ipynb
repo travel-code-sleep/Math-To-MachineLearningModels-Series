{
 "cells": [
  {
   "cell_type": "code",
   "execution_count": 1,
   "id": "fbf9cfb3",
   "metadata": {},
   "outputs": [
    {
     "data": {
      "text/html": [
       "<style>.container { width:95% !important; }</style>"
      ],
      "text/plain": [
       "<IPython.core.display.HTML object>"
      ]
     },
     "metadata": {},
     "output_type": "display_data"
    }
   ],
   "source": [
    "%reload_ext autoreload\n",
    "%autoreload 2\n",
    "%matplotlib inline \n",
    "%config Completer.use_jedi = False\n",
    "\n",
    "from IPython.core.display import display, HTML\n",
    "display(HTML(\"<style>.container { width:95% !important; }</style>\"))"
   ]
  },
  {
   "cell_type": "markdown",
   "id": "22b32c75",
   "metadata": {},
   "source": [
    "# Tasks \n",
    "\n",
    "- [x] Explain Simple and Optimized Implementations of the Algorithm Step by Step"
   ]
  },
  {
   "cell_type": "markdown",
   "id": "9afd2a40",
   "metadata": {},
   "source": [
    "## Create Dummy Data"
   ]
  },
  {
   "cell_type": "code",
   "execution_count": 2,
   "id": "b9765d43",
   "metadata": {},
   "outputs": [],
   "source": [
    "from drawdata import draw_scatter\n",
    "import pandas as pd\n",
    "import numpy as np\n",
    "import plotly\n",
    "import plotly.express as px\n",
    "import math\n",
    "plotly.io.renderers.default = 'iframe_connected'"
   ]
  },
  {
   "cell_type": "code",
   "execution_count": 3,
   "id": "7b96af77",
   "metadata": {},
   "outputs": [],
   "source": [
    "np.random.seed(42)"
   ]
  },
  {
   "cell_type": "code",
   "execution_count": 4,
   "id": "e2af41fe",
   "metadata": {},
   "outputs": [],
   "source": [
    "# draw_scatter()"
   ]
  },
  {
   "cell_type": "code",
   "execution_count": 5,
   "id": "457ced1d",
   "metadata": {},
   "outputs": [],
   "source": [
    "# df = pd.read_clipboard(sep=',')\n",
    "df = pd.read_csv('dummy_data.csv')"
   ]
  },
  {
   "cell_type": "code",
   "execution_count": 6,
   "id": "9fc5a0aa",
   "metadata": {},
   "outputs": [],
   "source": [
    "# df.to_csv('dummy_data.csv', index=None)"
   ]
  },
  {
   "cell_type": "code",
   "execution_count": 7,
   "id": "7ca851c7",
   "metadata": {},
   "outputs": [
    {
     "data": {
      "text/plain": [
       "b    644\n",
       "a    635\n",
       "d    613\n",
       "c    550\n",
       "Name: z, dtype: int64"
      ]
     },
     "execution_count": 7,
     "metadata": {},
     "output_type": "execute_result"
    }
   ],
   "source": [
    "df.z.value_counts()"
   ]
  },
  {
   "cell_type": "code",
   "execution_count": 8,
   "id": "1625534b",
   "metadata": {},
   "outputs": [],
   "source": [
    "df = df.sample(frac=1).reset_index(drop=True)"
   ]
  },
  {
   "cell_type": "code",
   "execution_count": 9,
   "id": "951ffae3",
   "metadata": {},
   "outputs": [],
   "source": [
    "train_dummy = df.sample(frac=.9)"
   ]
  },
  {
   "cell_type": "code",
   "execution_count": 10,
   "id": "e02cfc99",
   "metadata": {},
   "outputs": [],
   "source": [
    "test_dummy = df[~df.index.isin(train_dummy.index.tolist())]"
   ]
  },
  {
   "cell_type": "code",
   "execution_count": 11,
   "id": "80c6095a",
   "metadata": {},
   "outputs": [
    {
     "data": {
      "text/plain": [
       "((2442, 3), (2198, 3), (244, 3))"
      ]
     },
     "execution_count": 11,
     "metadata": {},
     "output_type": "execute_result"
    }
   ],
   "source": [
    "df.shape, train_dummy.shape, test_dummy.shape"
   ]
  },
  {
   "cell_type": "code",
   "execution_count": 12,
   "id": "e80d0271",
   "metadata": {},
   "outputs": [],
   "source": [
    "train_dummy.reset_index(inplace=True, drop=True)\n",
    "test_dummy.reset_index(inplace=True, drop=True)"
   ]
  },
  {
   "cell_type": "markdown",
   "id": "1a2fcec0",
   "metadata": {},
   "source": [
    "## KNN From Scratch"
   ]
  },
  {
   "cell_type": "markdown",
   "id": "fd3a8f7b",
   "metadata": {},
   "source": [
    "### Step1: Calculate the Distance"
   ]
  },
  {
   "cell_type": "code",
   "execution_count": 13,
   "id": "1d433bb8",
   "metadata": {},
   "outputs": [],
   "source": [
    "from math import sqrt, pow\n",
    "\n",
    "# calculate minkowski distance\n",
    "def minkowski_distance(r1, r2, p):\n",
    "    distance = 0.0 \n",
    "    for i in range(len(r1)):\n",
    "        distance += abs((r1[i] - r2[i])**p)\n",
    "    return distance**(1/float(p))\n"
   ]
  },
  {
   "cell_type": "code",
   "execution_count": 14,
   "id": "0326349b",
   "metadata": {},
   "outputs": [],
   "source": [
    "# calculate the Euclidean distance between two vectors\n",
    "def euclidean_distance(row1, row2):\n",
    "    distance = 0.0\n",
    "    for i in range(len(row1)):\n",
    "        distance += (row1[i] - row2[i])**2\n",
    "    return sqrt(distance)"
   ]
  },
  {
   "cell_type": "code",
   "execution_count": 15,
   "id": "9124cc62",
   "metadata": {},
   "outputs": [
    {
     "data": {
      "text/plain": [
       "array([[635.37532424, 427.78460026],\n",
       "       [109.44707085, 203.86658622],\n",
       "       [411.23549566,   2.82374635],\n",
       "       [424.12776856, 250.00197592],\n",
       "       [434.08204763,  42.97226279]])"
      ]
     },
     "execution_count": 15,
     "metadata": {},
     "output_type": "execute_result"
    }
   ],
   "source": [
    "df[['x', 'y']].head().values"
   ]
  },
  {
   "cell_type": "code",
   "execution_count": 16,
   "id": "4cf9bfc5",
   "metadata": {},
   "outputs": [],
   "source": [
    "row0 = df[['x', 'y']].head().values[0]"
   ]
  },
  {
   "cell_type": "code",
   "execution_count": 17,
   "id": "4631a150",
   "metadata": {},
   "outputs": [
    {
     "name": "stdout",
     "output_type": "stream",
     "text": [
      "0.0\n",
      "749.8462674253082\n",
      "649.1006824858641\n",
      "389.03018002663794\n",
      "586.1056140846025\n",
      "Wall time: 997 µs\n"
     ]
    }
   ],
   "source": [
    "%%time\n",
    "for r in df[['x', 'y']].head().values:\n",
    "    distance = minkowski_distance(row0, r, 1)\n",
    "    print(distance)"
   ]
  },
  {
   "cell_type": "code",
   "execution_count": 18,
   "id": "d9d6e2c0",
   "metadata": {},
   "outputs": [
    {
     "name": "stdout",
     "output_type": "stream",
     "text": [
      "0.0\n",
      "749.8462674253082\n",
      "649.1006824858641\n",
      "389.03018002663794\n",
      "586.1056140846025\n",
      "Wall time: 998 µs\n"
     ]
    }
   ],
   "source": [
    "%%time\n",
    "for r in df[['x', 'y']].head().values:\n",
    "    distance = np.linalg.norm(row0- r, ord=1)\n",
    "    print(distance)"
   ]
  },
  {
   "cell_type": "code",
   "execution_count": 19,
   "id": "df14802d",
   "metadata": {},
   "outputs": [
    {
     "data": {
      "image/png": "[encoded data removed]",
      "text/plain": [
       "<Figure size 432x288 with 1 Axes>"
      ]
     },
     "metadata": {
      "needs_background": "light"
     },
     "output_type": "display_data"
    }
   ],
   "source": [
    "df.sample(100).plot.scatter('x', 'y');"
   ]
  },
  {
   "cell_type": "code",
   "execution_count": 20,
   "id": "2a001a2e",
   "metadata": {},
   "outputs": [
    {
     "data": {
      "text/html": [
       "<iframe\n",
       "    scrolling=\"no\"\n",
       "    width=\"100%\"\n",
       "    height=\"545px\"\n",
       "    src=\"iframe_figures/figure_20.html\"\n",
       "    frameborder=\"0\"\n",
       "    allowfullscreen\n",
       "></iframe>\n"
      ]
     },
     "metadata": {},
     "output_type": "display_data"
    }
   ],
   "source": [
    "fig = px.scatter(df, x='x', y='y', color='z')\n",
    "fig"
   ]
  },
  {
   "cell_type": "markdown",
   "id": "1a977257",
   "metadata": {},
   "source": [
    "### Step2: Get Nearest Neighbours"
   ]
  },
  {
   "cell_type": "code",
   "execution_count": 21,
   "id": "8086400e",
   "metadata": {},
   "outputs": [],
   "source": [
    "# loacte similar neighbors\n",
    "def get_neighbors(train, test_row, k, p):\n",
    "    distances = []\n",
    "    for train_row in train.values:\n",
    "        dist = minkowski_distance(test_row[:-1], train_row[:-1], p)\n",
    "        distances.append((train_row, dist))\n",
    "    \n",
    "    distances.sort(key=lambda tup: tup[1])\n",
    "    neighbors = []\n",
    "    for i in range(k):\n",
    "        neighbors.append(distances[i][0])\n",
    "    return neighbors"
   ]
  },
  {
   "cell_type": "code",
   "execution_count": 22,
   "id": "e71d423d",
   "metadata": {},
   "outputs": [
    {
     "data": {
      "text/html": [
       "<div>\n",
       "<style scoped>\n",
       "    .dataframe tbody tr th:only-of-type {\n",
       "        vertical-align: middle;\n",
       "    }\n",
       "\n",
       "    .dataframe tbody tr th {\n",
       "        vertical-align: top;\n",
       "    }\n",
       "\n",
       "    .dataframe thead th {\n",
       "        text-align: right;\n",
       "    }\n",
       "</style>\n",
       "<table border=\"1\" class=\"dataframe\">\n",
       "  <thead>\n",
       "    <tr style=\"text-align: right;\">\n",
       "      <th></th>\n",
       "      <th>x</th>\n",
       "      <th>y</th>\n",
       "      <th>z</th>\n",
       "    </tr>\n",
       "  </thead>\n",
       "  <tbody>\n",
       "    <tr>\n",
       "      <th>187</th>\n",
       "      <td>148.407233</td>\n",
       "      <td>201.718932</td>\n",
       "      <td>c</td>\n",
       "    </tr>\n",
       "  </tbody>\n",
       "</table>\n",
       "</div>"
      ],
      "text/plain": [
       "              x           y  z\n",
       "187  148.407233  201.718932  c"
      ]
     },
     "execution_count": 22,
     "metadata": {},
     "output_type": "execute_result"
    }
   ],
   "source": [
    "test_dummy.sample(1)"
   ]
  },
  {
   "cell_type": "code",
   "execution_count": 23,
   "id": "a8daaf02",
   "metadata": {},
   "outputs": [
    {
     "data": {
      "text/plain": [
       "[array([385.2133816200196, 50.72923372522087, 'd'], dtype=object),\n",
       " array([381.6164658612987, 45.18528757843086, 'd'], dtype=object),\n",
       " array([387.5671433108168, 48.48194688235816, 'd'], dtype=object),\n",
       " array([388.0715888983176, 52.31334625473727, 'd'], dtype=object),\n",
       " array([377.8004505103036, 47.529381114710645, 'd'], dtype=object)]"
      ]
     },
     "execution_count": 23,
     "metadata": {},
     "output_type": "execute_result"
    }
   ],
   "source": [
    "neighbors = get_neighbors(train_dummy, test_dummy.iloc[160].values, 5, 2)\n",
    "neighbors"
   ]
  },
  {
   "cell_type": "markdown",
   "id": "c5f0570e",
   "metadata": {},
   "source": [
    "### Step3: Make Predictions"
   ]
  },
  {
   "cell_type": "code",
   "execution_count": 24,
   "id": "fde8a391",
   "metadata": {},
   "outputs": [],
   "source": [
    "def predict_classification(train, test_row, k, p):\n",
    "    neighbors = get_neighbors(train, test_row, k, p)\n",
    "    output_values = [row[-1] for row in neighbors]\n",
    "    prediction = max(set(output_values), key=output_values.count)\n",
    "    return prediction"
   ]
  },
  {
   "cell_type": "code",
   "execution_count": 25,
   "id": "8ccc6ad4",
   "metadata": {},
   "outputs": [
    {
     "data": {
      "text/plain": [
       "'d'"
      ]
     },
     "execution_count": 25,
     "metadata": {},
     "output_type": "execute_result"
    }
   ],
   "source": [
    "prediction = predict_classification(train_dummy, test_dummy.iloc[160].values, 5, 2)\n",
    "prediction"
   ]
  },
  {
   "cell_type": "markdown",
   "id": "03753397",
   "metadata": {},
   "source": [
    "### Test Accuracy"
   ]
  },
  {
   "cell_type": "code",
   "execution_count": 26,
   "id": "13ba9347",
   "metadata": {},
   "outputs": [
    {
     "name": "stdout",
     "output_type": "stream",
     "text": [
      "Wall time: 854 ms\n"
     ]
    }
   ],
   "source": [
    "%%time\n",
    "predicted_labels = []\n",
    "labels = []\n",
    "for test_row in test_dummy.values:\n",
    "    predicted_labels.append(predict_classification(train_dummy, test_row, 5, 2))\n",
    "    labels.append(test_row[-1])\n",
    "    "
   ]
  },
  {
   "cell_type": "code",
   "execution_count": 27,
   "id": "538b414a",
   "metadata": {},
   "outputs": [
    {
     "data": {
      "text/plain": [
       "(244, 244)"
      ]
     },
     "execution_count": 27,
     "metadata": {},
     "output_type": "execute_result"
    }
   ],
   "source": [
    "len(predicted_labels), len(labels)"
   ]
  },
  {
   "cell_type": "code",
   "execution_count": 28,
   "id": "d2387798",
   "metadata": {},
   "outputs": [
    {
     "data": {
      "text/plain": [
       "0.9713114754098361"
      ]
     },
     "execution_count": 28,
     "metadata": {},
     "output_type": "execute_result"
    }
   ],
   "source": [
    "sum([True if x==y else False for x,y in zip(labels, predicted_labels)])/len(test_dummy)"
   ]
  },
  {
   "cell_type": "code",
   "execution_count": 29,
   "id": "6bb85318",
   "metadata": {},
   "outputs": [
    {
     "data": {
      "text/html": [
       "<div>\n",
       "<style scoped>\n",
       "    .dataframe tbody tr th:only-of-type {\n",
       "        vertical-align: middle;\n",
       "    }\n",
       "\n",
       "    .dataframe tbody tr th {\n",
       "        vertical-align: top;\n",
       "    }\n",
       "\n",
       "    .dataframe thead th {\n",
       "        text-align: right;\n",
       "    }\n",
       "</style>\n",
       "<table border=\"1\" class=\"dataframe\">\n",
       "  <thead>\n",
       "    <tr style=\"text-align: right;\">\n",
       "      <th></th>\n",
       "      <th>x</th>\n",
       "      <th>y</th>\n",
       "      <th>z</th>\n",
       "    </tr>\n",
       "  </thead>\n",
       "  <tbody>\n",
       "    <tr>\n",
       "      <th>0</th>\n",
       "      <td>548.893697</td>\n",
       "      <td>450.063398</td>\n",
       "      <td>a</td>\n",
       "    </tr>\n",
       "    <tr>\n",
       "      <th>1</th>\n",
       "      <td>309.288837</td>\n",
       "      <td>466.872668</td>\n",
       "      <td>b</td>\n",
       "    </tr>\n",
       "    <tr>\n",
       "      <th>2</th>\n",
       "      <td>171.742823</td>\n",
       "      <td>165.825046</td>\n",
       "      <td>c</td>\n",
       "    </tr>\n",
       "    <tr>\n",
       "      <th>3</th>\n",
       "      <td>33.528848</td>\n",
       "      <td>250.071816</td>\n",
       "      <td>c</td>\n",
       "    </tr>\n",
       "    <tr>\n",
       "      <th>4</th>\n",
       "      <td>71.128670</td>\n",
       "      <td>452.495737</td>\n",
       "      <td>c</td>\n",
       "    </tr>\n",
       "    <tr>\n",
       "      <th>...</th>\n",
       "      <td>...</td>\n",
       "      <td>...</td>\n",
       "      <td>...</td>\n",
       "    </tr>\n",
       "    <tr>\n",
       "      <th>2193</th>\n",
       "      <td>21.404658</td>\n",
       "      <td>336.734646</td>\n",
       "      <td>c</td>\n",
       "    </tr>\n",
       "    <tr>\n",
       "      <th>2194</th>\n",
       "      <td>750.286876</td>\n",
       "      <td>225.061827</td>\n",
       "      <td>a</td>\n",
       "    </tr>\n",
       "    <tr>\n",
       "      <th>2195</th>\n",
       "      <td>673.429533</td>\n",
       "      <td>205.252561</td>\n",
       "      <td>a</td>\n",
       "    </tr>\n",
       "    <tr>\n",
       "      <th>2196</th>\n",
       "      <td>477.136028</td>\n",
       "      <td>24.548314</td>\n",
       "      <td>d</td>\n",
       "    </tr>\n",
       "    <tr>\n",
       "      <th>2197</th>\n",
       "      <td>645.415774</td>\n",
       "      <td>481.862782</td>\n",
       "      <td>a</td>\n",
       "    </tr>\n",
       "  </tbody>\n",
       "</table>\n",
       "<p>2198 rows × 3 columns</p>\n",
       "</div>"
      ],
      "text/plain": [
       "               x           y  z\n",
       "0     548.893697  450.063398  a\n",
       "1     309.288837  466.872668  b\n",
       "2     171.742823  165.825046  c\n",
       "3      33.528848  250.071816  c\n",
       "4      71.128670  452.495737  c\n",
       "...          ...         ... ..\n",
       "2193   21.404658  336.734646  c\n",
       "2194  750.286876  225.061827  a\n",
       "2195  673.429533  205.252561  a\n",
       "2196  477.136028   24.548314  d\n",
       "2197  645.415774  481.862782  a\n",
       "\n",
       "[2198 rows x 3 columns]"
      ]
     },
     "execution_count": 29,
     "metadata": {},
     "output_type": "execute_result"
    }
   ],
   "source": [
    "train_dummy"
   ]
  },
  {
   "cell_type": "code",
   "execution_count": null,
   "id": "3d1d62da",
   "metadata": {},
   "outputs": [],
   "source": [
    "test_labels = test_dummy.z.tolist()\n",
    "# test_labels"
   ]
  },
  {
   "cell_type": "code",
   "execution_count": 31,
   "id": "6526c18c",
   "metadata": {},
   "outputs": [
    {
     "name": "stderr",
     "output_type": "stream",
     "text": [
      "D:\\ProgramData\\Anaconda3\\lib\\site-packages\\pandas\\core\\frame.py:4308: SettingWithCopyWarning:\n",
      "\n",
      "\n",
      "A value is trying to be set on a copy of a slice from a DataFrame\n",
      "\n",
      "See the caveats in the documentation: https://pandas.pydata.org/pandas-docs/stable/user_guide/indexing.html#returning-a-view-versus-a-copy\n",
      "\n"
     ]
    }
   ],
   "source": [
    "test_dummy.drop(columns='z', inplace=True)"
   ]
  },
  {
   "cell_type": "code",
   "execution_count": 32,
   "id": "b46b9c60",
   "metadata": {},
   "outputs": [
    {
     "data": {
      "text/html": [
       "<div>\n",
       "<style scoped>\n",
       "    .dataframe tbody tr th:only-of-type {\n",
       "        vertical-align: middle;\n",
       "    }\n",
       "\n",
       "    .dataframe tbody tr th {\n",
       "        vertical-align: top;\n",
       "    }\n",
       "\n",
       "    .dataframe thead th {\n",
       "        text-align: right;\n",
       "    }\n",
       "</style>\n",
       "<table border=\"1\" class=\"dataframe\">\n",
       "  <thead>\n",
       "    <tr style=\"text-align: right;\">\n",
       "      <th></th>\n",
       "      <th>x</th>\n",
       "      <th>y</th>\n",
       "    </tr>\n",
       "  </thead>\n",
       "  <tbody>\n",
       "    <tr>\n",
       "      <th>0</th>\n",
       "      <td>508.256193</td>\n",
       "      <td>9.972351</td>\n",
       "    </tr>\n",
       "    <tr>\n",
       "      <th>1</th>\n",
       "      <td>263.178640</td>\n",
       "      <td>36.146965</td>\n",
       "    </tr>\n",
       "    <tr>\n",
       "      <th>2</th>\n",
       "      <td>-4.152166</td>\n",
       "      <td>175.740393</td>\n",
       "    </tr>\n",
       "    <tr>\n",
       "      <th>3</th>\n",
       "      <td>56.204038</td>\n",
       "      <td>255.740172</td>\n",
       "    </tr>\n",
       "    <tr>\n",
       "      <th>4</th>\n",
       "      <td>41.424772</td>\n",
       "      <td>360.160187</td>\n",
       "    </tr>\n",
       "    <tr>\n",
       "      <th>...</th>\n",
       "      <td>...</td>\n",
       "      <td>...</td>\n",
       "    </tr>\n",
       "    <tr>\n",
       "      <th>239</th>\n",
       "      <td>427.153861</td>\n",
       "      <td>17.740464</td>\n",
       "    </tr>\n",
       "    <tr>\n",
       "      <th>240</th>\n",
       "      <td>666.516298</td>\n",
       "      <td>343.719778</td>\n",
       "    </tr>\n",
       "    <tr>\n",
       "      <th>241</th>\n",
       "      <td>185.022133</td>\n",
       "      <td>481.429239</td>\n",
       "    </tr>\n",
       "    <tr>\n",
       "      <th>242</th>\n",
       "      <td>447.106788</td>\n",
       "      <td>428.200658</td>\n",
       "    </tr>\n",
       "    <tr>\n",
       "      <th>243</th>\n",
       "      <td>469.592212</td>\n",
       "      <td>194.226504</td>\n",
       "    </tr>\n",
       "  </tbody>\n",
       "</table>\n",
       "<p>244 rows × 2 columns</p>\n",
       "</div>"
      ],
      "text/plain": [
       "              x           y\n",
       "0    508.256193    9.972351\n",
       "1    263.178640   36.146965\n",
       "2     -4.152166  175.740393\n",
       "3     56.204038  255.740172\n",
       "4     41.424772  360.160187\n",
       "..          ...         ...\n",
       "239  427.153861   17.740464\n",
       "240  666.516298  343.719778\n",
       "241  185.022133  481.429239\n",
       "242  447.106788  428.200658\n",
       "243  469.592212  194.226504\n",
       "\n",
       "[244 rows x 2 columns]"
      ]
     },
     "execution_count": 32,
     "metadata": {},
     "output_type": "execute_result"
    }
   ],
   "source": [
    "test_dummy"
   ]
  },
  {
   "cell_type": "markdown",
   "id": "e7b3ba62",
   "metadata": {},
   "source": [
    "## Combine The Codes to a KNNClassifier Class"
   ]
  },
  {
   "cell_type": "code",
   "execution_count": 33,
   "id": "5ff172c5",
   "metadata": {},
   "outputs": [],
   "source": [
    "class KNNClassifier():\n",
    "    \n",
    "    def __init__(self, metric_fn='eucledean_distance', norm=2):\n",
    "        self.metric_fn = metric_fn\n",
    "        self.norm = norm\n",
    "            \n",
    "    \n",
    "    def minkowski_distance(self, row1, row2, norm):\n",
    "        distance = 0.0 \n",
    "        for i in range(len(row1)):\n",
    "            distance += abs((row1[i] - row2[i])**norm)\n",
    "        return distance**(1/float(norm))\n",
    "    \n",
    "    def get_distance_metric(self, metric_fn):\n",
    "        self.distance_metrics = {'minkowski_distance': (self.minkowski_distance, self.norm),\n",
    "                                 'euclidean_distance': (self.minkowski_distance, 2),\n",
    "                                 'manhattan_distance': (self.minkowski_distance, 1),\n",
    "                                }\n",
    "        if self.metric_fn != 'custom_metric':                        \n",
    "            return self.distance_metrics[metric_fn]\n",
    "        else:\n",
    "            return (metric_fn, None)\n",
    "    \n",
    "    \n",
    "    def get_neighbors(self, k, train, test_row, distance_metric, norm):\n",
    "        \n",
    "        distances = []\n",
    "        for train_row in train.values:\n",
    "            dist = distance_metric(test_row, train_row[:-1], norm)\n",
    "            distances.append((train_row, dist))\n",
    "            \n",
    "        distances.sort(key=lambda tup: tup[1])\n",
    "        \n",
    "        neighbors = []\n",
    "        for i in range(k):\n",
    "            neighbors.append(distances[i][0])\n",
    "        \n",
    "        return neighbors\n",
    "    \n",
    "    def predict_instance(self, k, train, test_row):\n",
    "        distance_metric, norm = self.get_distance_metric(self.metric_fn)\n",
    "        self.neighbors = self.get_neighbors(k, train, test_row, distance_metric, norm)\n",
    "        output_values = [row[-1] for row in self.neighbors]\n",
    "        self.prediction = max(set(output_values), key=output_values.count)\n",
    "        return self.prediction\n",
    "    \n",
    "    def predict_batch(self, k, train, test):\n",
    "        self.predicted_labels = []\n",
    "        for test_row in test.values:\n",
    "            self.predicted_labels.append(self.predict_instance(k, train, test_row))\n",
    "        return self.predicted_labels\n",
    "    \n",
    "    def learning_metrics(self, test_labels):\n",
    "        self.misclassified_instances = [True if x==y else False for x,y in zip(test_labels, self.predicted_labels)]\n",
    "        self.accuracy = sum(self.misclassified_instances)/len(test_labels)\n",
    "        self.error_rate = 1 - self.accuracy\n",
    "        self.misclassified_instances_indices =  [i for i, x in enumerate(self.misclassified_instances) if not x]\n",
    "        return {'accuracy': self.accuracy, 'error_rate':self.error_rate}"
   ]
  },
  {
   "cell_type": "code",
   "execution_count": 34,
   "id": "13238cd5",
   "metadata": {},
   "outputs": [],
   "source": [
    "knnclassifier = KNNClassifier(metric_fn='euclidean_distance')"
   ]
  },
  {
   "cell_type": "code",
   "execution_count": 35,
   "id": "d02e28d4",
   "metadata": {},
   "outputs": [
    {
     "data": {
      "text/plain": [
       "array([577.09984428, 317.56038476])"
      ]
     },
     "execution_count": 35,
     "metadata": {},
     "output_type": "execute_result"
    }
   ],
   "source": [
    "test_dummy.iloc[100].values"
   ]
  },
  {
   "cell_type": "code",
   "execution_count": 36,
   "id": "4b5b8f42",
   "metadata": {},
   "outputs": [
    {
     "data": {
      "text/plain": [
       "'a'"
      ]
     },
     "execution_count": 36,
     "metadata": {},
     "output_type": "execute_result"
    }
   ],
   "source": [
    "knnclassifier.predict_instance(5, train_dummy, test_dummy.iloc[100].values)"
   ]
  },
  {
   "cell_type": "code",
   "execution_count": 37,
   "id": "08700550",
   "metadata": {
    "scrolled": true
   },
   "outputs": [],
   "source": [
    "predicted_labels = knnclassifier.predict_batch(5, train_dummy, test_dummy)"
   ]
  },
  {
   "cell_type": "code",
   "execution_count": 38,
   "id": "9d4eb22d",
   "metadata": {},
   "outputs": [
    {
     "data": {
      "text/plain": [
       "{'accuracy': 0.9713114754098361, 'error_rate': 0.02868852459016391}"
      ]
     },
     "execution_count": 38,
     "metadata": {},
     "output_type": "execute_result"
    }
   ],
   "source": [
    "knnclassifier.learning_metrics(test_labels)"
   ]
  },
  {
   "cell_type": "code",
   "execution_count": 39,
   "id": "130ac77f",
   "metadata": {},
   "outputs": [
    {
     "data": {
      "text/plain": [
       "[33, 38, 40, 43, 139, 193, 230]"
      ]
     },
     "execution_count": 39,
     "metadata": {},
     "output_type": "execute_result"
    }
   ],
   "source": [
    "knnclassifier.misclassified_instances_indices"
   ]
  },
  {
   "cell_type": "code",
   "execution_count": 40,
   "id": "5733e866",
   "metadata": {},
   "outputs": [],
   "source": [
    "knnclassifier = KNNClassifier(metric_fn='minkowski_distance', norm=10)"
   ]
  },
  {
   "cell_type": "code",
   "execution_count": 41,
   "id": "8cf16bdd",
   "metadata": {},
   "outputs": [
    {
     "data": {
      "text/plain": [
       "(array([577.09984428, 317.56038476]), 'a')"
      ]
     },
     "execution_count": 41,
     "metadata": {},
     "output_type": "execute_result"
    }
   ],
   "source": [
    "test_dummy.iloc[100].values, test_labels[100]"
   ]
  },
  {
   "cell_type": "code",
   "execution_count": 42,
   "id": "144c6c29",
   "metadata": {},
   "outputs": [
    {
     "data": {
      "text/plain": [
       "'a'"
      ]
     },
     "execution_count": 42,
     "metadata": {},
     "output_type": "execute_result"
    }
   ],
   "source": [
    "knnclassifier.predict_instance(10, train_dummy, test_dummy.iloc[100].values)"
   ]
  },
  {
   "cell_type": "code",
   "execution_count": 43,
   "id": "f9872116",
   "metadata": {},
   "outputs": [],
   "source": [
    "predicted_labels = knnclassifier.predict_batch(10, train_dummy, test_dummy)"
   ]
  },
  {
   "cell_type": "code",
   "execution_count": 44,
   "id": "e697e214",
   "metadata": {},
   "outputs": [
    {
     "data": {
      "text/plain": [
       "{'accuracy': 0.9836065573770492, 'error_rate': 0.016393442622950838}"
      ]
     },
     "execution_count": 44,
     "metadata": {},
     "output_type": "execute_result"
    }
   ],
   "source": [
    "knnclassifier.learning_metrics(test_labels)"
   ]
  },
  {
   "cell_type": "code",
   "execution_count": 45,
   "id": "2dab5b36",
   "metadata": {},
   "outputs": [
    {
     "data": {
      "text/plain": [
       "0.016393442622950838"
      ]
     },
     "execution_count": 45,
     "metadata": {},
     "output_type": "execute_result"
    }
   ],
   "source": [
    "knnclassifier.error_rate"
   ]
  },
  {
   "cell_type": "code",
   "execution_count": 46,
   "id": "e1162ad3",
   "metadata": {},
   "outputs": [
    {
     "data": {
      "text/plain": [
       "0.9836065573770492"
      ]
     },
     "execution_count": 46,
     "metadata": {},
     "output_type": "execute_result"
    }
   ],
   "source": [
    "knnclassifier.accuracy"
   ]
  },
  {
   "cell_type": "code",
   "execution_count": 47,
   "id": "f6ae6f9f",
   "metadata": {},
   "outputs": [
    {
     "data": {
      "text/plain": [
       "[40, 43, 139, 193]"
      ]
     },
     "execution_count": 47,
     "metadata": {},
     "output_type": "execute_result"
    }
   ],
   "source": [
    "knnclassifier.misclassified_instances_indices"
   ]
  },
  {
   "cell_type": "markdown",
   "id": "e6734267",
   "metadata": {},
   "source": [
    "## Apply to Real Word Dataset"
   ]
  },
  {
   "cell_type": "code",
   "execution_count": 48,
   "id": "9769ea2d",
   "metadata": {},
   "outputs": [],
   "source": [
    "from sklearn import datasets"
   ]
  },
  {
   "cell_type": "code",
   "execution_count": 49,
   "id": "2767c47a",
   "metadata": {},
   "outputs": [],
   "source": [
    "iris = datasets.load_iris()"
   ]
  },
  {
   "cell_type": "code",
   "execution_count": 50,
   "id": "e271d1af",
   "metadata": {},
   "outputs": [],
   "source": [
    "df = pd.DataFrame(data=iris.data, columns=iris.feature_names)\n",
    "df['target'] = iris.target"
   ]
  },
  {
   "cell_type": "code",
   "execution_count": 51,
   "id": "71b9d836",
   "metadata": {},
   "outputs": [
    {
     "data": {
      "text/html": [
       "<div>\n",
       "<style scoped>\n",
       "    .dataframe tbody tr th:only-of-type {\n",
       "        vertical-align: middle;\n",
       "    }\n",
       "\n",
       "    .dataframe tbody tr th {\n",
       "        vertical-align: top;\n",
       "    }\n",
       "\n",
       "    .dataframe thead th {\n",
       "        text-align: right;\n",
       "    }\n",
       "</style>\n",
       "<table border=\"1\" class=\"dataframe\">\n",
       "  <thead>\n",
       "    <tr style=\"text-align: right;\">\n",
       "      <th></th>\n",
       "      <th>sepal length (cm)</th>\n",
       "      <th>sepal width (cm)</th>\n",
       "      <th>petal length (cm)</th>\n",
       "      <th>petal width (cm)</th>\n",
       "      <th>target</th>\n",
       "    </tr>\n",
       "  </thead>\n",
       "  <tbody>\n",
       "    <tr>\n",
       "      <th>0</th>\n",
       "      <td>5.1</td>\n",
       "      <td>3.5</td>\n",
       "      <td>1.4</td>\n",
       "      <td>0.2</td>\n",
       "      <td>0</td>\n",
       "    </tr>\n",
       "    <tr>\n",
       "      <th>1</th>\n",
       "      <td>4.9</td>\n",
       "      <td>3.0</td>\n",
       "      <td>1.4</td>\n",
       "      <td>0.2</td>\n",
       "      <td>0</td>\n",
       "    </tr>\n",
       "    <tr>\n",
       "      <th>2</th>\n",
       "      <td>4.7</td>\n",
       "      <td>3.2</td>\n",
       "      <td>1.3</td>\n",
       "      <td>0.2</td>\n",
       "      <td>0</td>\n",
       "    </tr>\n",
       "    <tr>\n",
       "      <th>3</th>\n",
       "      <td>4.6</td>\n",
       "      <td>3.1</td>\n",
       "      <td>1.5</td>\n",
       "      <td>0.2</td>\n",
       "      <td>0</td>\n",
       "    </tr>\n",
       "    <tr>\n",
       "      <th>4</th>\n",
       "      <td>5.0</td>\n",
       "      <td>3.6</td>\n",
       "      <td>1.4</td>\n",
       "      <td>0.2</td>\n",
       "      <td>0</td>\n",
       "    </tr>\n",
       "    <tr>\n",
       "      <th>...</th>\n",
       "      <td>...</td>\n",
       "      <td>...</td>\n",
       "      <td>...</td>\n",
       "      <td>...</td>\n",
       "      <td>...</td>\n",
       "    </tr>\n",
       "    <tr>\n",
       "      <th>145</th>\n",
       "      <td>6.7</td>\n",
       "      <td>3.0</td>\n",
       "      <td>5.2</td>\n",
       "      <td>2.3</td>\n",
       "      <td>2</td>\n",
       "    </tr>\n",
       "    <tr>\n",
       "      <th>146</th>\n",
       "      <td>6.3</td>\n",
       "      <td>2.5</td>\n",
       "      <td>5.0</td>\n",
       "      <td>1.9</td>\n",
       "      <td>2</td>\n",
       "    </tr>\n",
       "    <tr>\n",
       "      <th>147</th>\n",
       "      <td>6.5</td>\n",
       "      <td>3.0</td>\n",
       "      <td>5.2</td>\n",
       "      <td>2.0</td>\n",
       "      <td>2</td>\n",
       "    </tr>\n",
       "    <tr>\n",
       "      <th>148</th>\n",
       "      <td>6.2</td>\n",
       "      <td>3.4</td>\n",
       "      <td>5.4</td>\n",
       "      <td>2.3</td>\n",
       "      <td>2</td>\n",
       "    </tr>\n",
       "    <tr>\n",
       "      <th>149</th>\n",
       "      <td>5.9</td>\n",
       "      <td>3.0</td>\n",
       "      <td>5.1</td>\n",
       "      <td>1.8</td>\n",
       "      <td>2</td>\n",
       "    </tr>\n",
       "  </tbody>\n",
       "</table>\n",
       "<p>150 rows × 5 columns</p>\n",
       "</div>"
      ],
      "text/plain": [
       "     sepal length (cm)  sepal width (cm)  petal length (cm)  petal width (cm)  \\\n",
       "0                  5.1               3.5                1.4               0.2   \n",
       "1                  4.9               3.0                1.4               0.2   \n",
       "2                  4.7               3.2                1.3               0.2   \n",
       "3                  4.6               3.1                1.5               0.2   \n",
       "4                  5.0               3.6                1.4               0.2   \n",
       "..                 ...               ...                ...               ...   \n",
       "145                6.7               3.0                5.2               2.3   \n",
       "146                6.3               2.5                5.0               1.9   \n",
       "147                6.5               3.0                5.2               2.0   \n",
       "148                6.2               3.4                5.4               2.3   \n",
       "149                5.9               3.0                5.1               1.8   \n",
       "\n",
       "     target  \n",
       "0         0  \n",
       "1         0  \n",
       "2         0  \n",
       "3         0  \n",
       "4         0  \n",
       "..      ...  \n",
       "145       2  \n",
       "146       2  \n",
       "147       2  \n",
       "148       2  \n",
       "149       2  \n",
       "\n",
       "[150 rows x 5 columns]"
      ]
     },
     "execution_count": 51,
     "metadata": {},
     "output_type": "execute_result"
    }
   ],
   "source": [
    "df"
   ]
  },
  {
   "cell_type": "code",
   "execution_count": 52,
   "id": "f6d49594",
   "metadata": {},
   "outputs": [],
   "source": [
    "# shuffle data\n",
    "df = df.sample(frac=1).reset_index(drop=True)"
   ]
  },
  {
   "cell_type": "code",
   "execution_count": 53,
   "id": "ad7bd7d4",
   "metadata": {},
   "outputs": [],
   "source": [
    "from sklearn.model_selection import train_test_split\n",
    "from sklearn.preprocessing import StandardScaler"
   ]
  },
  {
   "cell_type": "code",
   "execution_count": 54,
   "id": "25b5cf21",
   "metadata": {},
   "outputs": [],
   "source": [
    "train = df.sample(frac=0.7)"
   ]
  },
  {
   "cell_type": "code",
   "execution_count": 55,
   "id": "63166b17",
   "metadata": {},
   "outputs": [],
   "source": [
    "test = df[~df.index.isin(train.index)]"
   ]
  },
  {
   "cell_type": "code",
   "execution_count": 56,
   "id": "16c7b129",
   "metadata": {},
   "outputs": [
    {
     "data": {
      "text/plain": [
       "((45, 5), (105, 5), (150, 5))"
      ]
     },
     "execution_count": 56,
     "metadata": {},
     "output_type": "execute_result"
    }
   ],
   "source": [
    "test.shape, train.shape, df.shape"
   ]
  },
  {
   "cell_type": "code",
   "execution_count": 57,
   "id": "8104f12d",
   "metadata": {},
   "outputs": [],
   "source": [
    "train.reset_index(drop=True, inplace=True)\n",
    "test.reset_index(drop=True, inplace=True)"
   ]
  },
  {
   "cell_type": "code",
   "execution_count": 58,
   "id": "1c55466c",
   "metadata": {},
   "outputs": [],
   "source": [
    "test_targets = test.target.tolist()"
   ]
  },
  {
   "cell_type": "code",
   "execution_count": 59,
   "id": "d9f46b15",
   "metadata": {},
   "outputs": [
    {
     "name": "stderr",
     "output_type": "stream",
     "text": [
      "D:\\ProgramData\\Anaconda3\\lib\\site-packages\\pandas\\core\\frame.py:4308: SettingWithCopyWarning:\n",
      "\n",
      "\n",
      "A value is trying to be set on a copy of a slice from a DataFrame\n",
      "\n",
      "See the caveats in the documentation: https://pandas.pydata.org/pandas-docs/stable/user_guide/indexing.html#returning-a-view-versus-a-copy\n",
      "\n"
     ]
    }
   ],
   "source": [
    "test.drop(columns='target', inplace=True)"
   ]
  },
  {
   "cell_type": "code",
   "execution_count": 60,
   "id": "0afc5b67",
   "metadata": {},
   "outputs": [],
   "source": [
    "scaler = StandardScaler()"
   ]
  },
  {
   "cell_type": "code",
   "execution_count": 61,
   "id": "1f2976a7",
   "metadata": {},
   "outputs": [],
   "source": [
    "train_standardized = pd.DataFrame(scaler.fit_transform(train.iloc[:,:-1]))"
   ]
  },
  {
   "cell_type": "code",
   "execution_count": 62,
   "id": "3b16c456",
   "metadata": {},
   "outputs": [],
   "source": [
    "train_standardized['target'] = train.target"
   ]
  },
  {
   "cell_type": "code",
   "execution_count": 63,
   "id": "9f080f48",
   "metadata": {},
   "outputs": [],
   "source": [
    "test_standardized = pd.DataFrame(scaler.transform(test))"
   ]
  },
  {
   "cell_type": "code",
   "execution_count": 64,
   "id": "f2de637e",
   "metadata": {},
   "outputs": [
    {
     "data": {
      "text/html": [
       "<div>\n",
       "<style scoped>\n",
       "    .dataframe tbody tr th:only-of-type {\n",
       "        vertical-align: middle;\n",
       "    }\n",
       "\n",
       "    .dataframe tbody tr th {\n",
       "        vertical-align: top;\n",
       "    }\n",
       "\n",
       "    .dataframe thead th {\n",
       "        text-align: right;\n",
       "    }\n",
       "</style>\n",
       "<table border=\"1\" class=\"dataframe\">\n",
       "  <thead>\n",
       "    <tr style=\"text-align: right;\">\n",
       "      <th></th>\n",
       "      <th>0</th>\n",
       "      <th>1</th>\n",
       "      <th>2</th>\n",
       "      <th>3</th>\n",
       "      <th>target</th>\n",
       "    </tr>\n",
       "  </thead>\n",
       "  <tbody>\n",
       "    <tr>\n",
       "      <th>0</th>\n",
       "      <td>0.647808</td>\n",
       "      <td>0.398829</td>\n",
       "      <td>0.394246</td>\n",
       "      <td>0.390260</td>\n",
       "      <td>1</td>\n",
       "    </tr>\n",
       "    <tr>\n",
       "      <th>1</th>\n",
       "      <td>1.018825</td>\n",
       "      <td>0.156765</td>\n",
       "      <td>0.509554</td>\n",
       "      <td>0.390260</td>\n",
       "      <td>1</td>\n",
       "    </tr>\n",
       "    <tr>\n",
       "      <th>2</th>\n",
       "      <td>-1.330951</td>\n",
       "      <td>0.882957</td>\n",
       "      <td>-1.277730</td>\n",
       "      <td>-1.356313</td>\n",
       "      <td>0</td>\n",
       "    </tr>\n",
       "    <tr>\n",
       "      <th>3</th>\n",
       "      <td>0.771480</td>\n",
       "      <td>-0.085299</td>\n",
       "      <td>0.797826</td>\n",
       "      <td>1.062019</td>\n",
       "      <td>2</td>\n",
       "    </tr>\n",
       "    <tr>\n",
       "      <th>4</th>\n",
       "      <td>1.018825</td>\n",
       "      <td>0.640893</td>\n",
       "      <td>1.086098</td>\n",
       "      <td>1.196370</td>\n",
       "      <td>2</td>\n",
       "    </tr>\n",
       "  </tbody>\n",
       "</table>\n",
       "</div>"
      ],
      "text/plain": [
       "          0         1         2         3  target\n",
       "0  0.647808  0.398829  0.394246  0.390260       1\n",
       "1  1.018825  0.156765  0.509554  0.390260       1\n",
       "2 -1.330951  0.882957 -1.277730 -1.356313       0\n",
       "3  0.771480 -0.085299  0.797826  1.062019       2\n",
       "4  1.018825  0.640893  1.086098  1.196370       2"
      ]
     },
     "execution_count": 64,
     "metadata": {},
     "output_type": "execute_result"
    }
   ],
   "source": [
    "train_standardized.head()"
   ]
  },
  {
   "cell_type": "code",
   "execution_count": 65,
   "id": "d761cce4",
   "metadata": {},
   "outputs": [
    {
     "data": {
      "text/html": [
       "<div>\n",
       "<style scoped>\n",
       "    .dataframe tbody tr th:only-of-type {\n",
       "        vertical-align: middle;\n",
       "    }\n",
       "\n",
       "    .dataframe tbody tr th {\n",
       "        vertical-align: top;\n",
       "    }\n",
       "\n",
       "    .dataframe thead th {\n",
       "        text-align: right;\n",
       "    }\n",
       "</style>\n",
       "<table border=\"1\" class=\"dataframe\">\n",
       "  <thead>\n",
       "    <tr style=\"text-align: right;\">\n",
       "      <th></th>\n",
       "      <th>0</th>\n",
       "      <th>1</th>\n",
       "      <th>2</th>\n",
       "      <th>3</th>\n",
       "    </tr>\n",
       "  </thead>\n",
       "  <tbody>\n",
       "    <tr>\n",
       "      <th>0</th>\n",
       "      <td>1.884532</td>\n",
       "      <td>-0.569427</td>\n",
       "      <td>1.316715</td>\n",
       "      <td>0.927667</td>\n",
       "    </tr>\n",
       "    <tr>\n",
       "      <th>1</th>\n",
       "      <td>0.276791</td>\n",
       "      <td>-0.085299</td>\n",
       "      <td>0.624863</td>\n",
       "      <td>0.793315</td>\n",
       "    </tr>\n",
       "    <tr>\n",
       "      <th>2</th>\n",
       "      <td>-0.341571</td>\n",
       "      <td>-0.085299</td>\n",
       "      <td>0.163628</td>\n",
       "      <td>0.121556</td>\n",
       "    </tr>\n",
       "    <tr>\n",
       "      <th>3</th>\n",
       "      <td>-0.959934</td>\n",
       "      <td>1.125021</td>\n",
       "      <td>-1.393038</td>\n",
       "      <td>-1.221961</td>\n",
       "    </tr>\n",
       "    <tr>\n",
       "      <th>4</th>\n",
       "      <td>-0.217899</td>\n",
       "      <td>-1.295619</td>\n",
       "      <td>0.682517</td>\n",
       "      <td>1.062019</td>\n",
       "    </tr>\n",
       "  </tbody>\n",
       "</table>\n",
       "</div>"
      ],
      "text/plain": [
       "          0         1         2         3\n",
       "0  1.884532 -0.569427  1.316715  0.927667\n",
       "1  0.276791 -0.085299  0.624863  0.793315\n",
       "2 -0.341571 -0.085299  0.163628  0.121556\n",
       "3 -0.959934  1.125021 -1.393038 -1.221961\n",
       "4 -0.217899 -1.295619  0.682517  1.062019"
      ]
     },
     "execution_count": 65,
     "metadata": {},
     "output_type": "execute_result"
    }
   ],
   "source": [
    "test_standardized.head()"
   ]
  },
  {
   "cell_type": "code",
   "execution_count": 66,
   "id": "fbb5329b",
   "metadata": {},
   "outputs": [],
   "source": [
    "knnclassifier = KNNClassifier(metric_fn='minkowski_distance', norm=2)"
   ]
  },
  {
   "cell_type": "code",
   "execution_count": 67,
   "id": "fc874341",
   "metadata": {},
   "outputs": [
    {
     "data": {
      "text/plain": [
       "(0   -0.959934\n",
       " 1    1.609149\n",
       " 2   -1.335384\n",
       " 3   -1.087609\n",
       " Name: 10, dtype: float64,\n",
       " 0)"
      ]
     },
     "execution_count": 67,
     "metadata": {},
     "output_type": "execute_result"
    }
   ],
   "source": [
    "test_standardized.iloc[10], test_targets[10]"
   ]
  },
  {
   "cell_type": "code",
   "execution_count": 68,
   "id": "511c2915",
   "metadata": {},
   "outputs": [
    {
     "data": {
      "text/plain": [
       "0.0"
      ]
     },
     "execution_count": 68,
     "metadata": {},
     "output_type": "execute_result"
    }
   ],
   "source": [
    "knnclassifier.predict_instance(10, train_standardized, test_standardized.iloc[10].values)"
   ]
  },
  {
   "cell_type": "code",
   "execution_count": 69,
   "id": "16dc4c9d",
   "metadata": {},
   "outputs": [],
   "source": [
    "predicted_classes = knnclassifier.predict_batch(10, train_standardized, test_standardized)"
   ]
  },
  {
   "cell_type": "code",
   "execution_count": 70,
   "id": "8da48bdc",
   "metadata": {},
   "outputs": [
    {
     "data": {
      "text/plain": [
       "{'accuracy': 1.0, 'error_rate': 0.0}"
      ]
     },
     "execution_count": 70,
     "metadata": {},
     "output_type": "execute_result"
    }
   ],
   "source": [
    "knnclassifier.learning_metrics(test_labels=test_targets)"
   ]
  },
  {
   "cell_type": "code",
   "execution_count": 71,
   "id": "9a421b97",
   "metadata": {},
   "outputs": [
    {
     "data": {
      "text/plain": [
       "[]"
      ]
     },
     "execution_count": 71,
     "metadata": {},
     "output_type": "execute_result"
    }
   ],
   "source": [
    "knnclassifier.misclassified_instances_indices"
   ]
  },
  {
   "cell_type": "code",
   "execution_count": 72,
   "id": "43801ce5",
   "metadata": {},
   "outputs": [
    {
     "name": "stderr",
     "output_type": "stream",
     "text": [
      "<ipython-input-72-fc4806014102>:1: SettingWithCopyWarning:\n",
      "\n",
      "\n",
      "A value is trying to be set on a copy of a slice from a DataFrame.\n",
      "Try using .loc[row_indexer,col_indexer] = value instead\n",
      "\n",
      "See the caveats in the documentation: https://pandas.pydata.org/pandas-docs/stable/user_guide/indexing.html#returning-a-view-versus-a-copy\n",
      "\n"
     ]
    }
   ],
   "source": [
    "test['target'] = test_targets"
   ]
  },
  {
   "cell_type": "code",
   "execution_count": 73,
   "id": "573a685c",
   "metadata": {},
   "outputs": [
    {
     "data": {
      "text/plain": [
       "Index(['sepal length (cm)', 'sepal width (cm)', 'petal length (cm)',\n",
       "       'petal width (cm)', 'target'],\n",
       "      dtype='object')"
      ]
     },
     "execution_count": 73,
     "metadata": {},
     "output_type": "execute_result"
    }
   ],
   "source": [
    "test.columns"
   ]
  },
  {
   "cell_type": "code",
   "execution_count": 74,
   "id": "f788f96c",
   "metadata": {},
   "outputs": [
    {
     "data": {
      "text/html": [
       "<iframe\n",
       "    scrolling=\"no\"\n",
       "    width=\"100%\"\n",
       "    height=\"545px\"\n",
       "    src=\"iframe_figures/figure_74.html\"\n",
       "    frameborder=\"0\"\n",
       "    allowfullscreen\n",
       "></iframe>\n"
      ]
     },
     "metadata": {},
     "output_type": "display_data"
    }
   ],
   "source": [
    "fig = px.scatter_3d(test, x='sepal length (cm)', y='sepal width (cm)', z='petal length (cm)', color='target')\n",
    "fig"
   ]
  },
  {
   "cell_type": "code",
   "execution_count": 75,
   "id": "86c3d3ba",
   "metadata": {},
   "outputs": [
    {
     "name": "stderr",
     "output_type": "stream",
     "text": [
      "<ipython-input-75-19e34d8cdd89>:1: SettingWithCopyWarning:\n",
      "\n",
      "\n",
      "A value is trying to be set on a copy of a slice from a DataFrame.\n",
      "Try using .loc[row_indexer,col_indexer] = value instead\n",
      "\n",
      "See the caveats in the documentation: https://pandas.pydata.org/pandas-docs/stable/user_guide/indexing.html#returning-a-view-versus-a-copy\n",
      "\n"
     ]
    }
   ],
   "source": [
    "test['predicted_targets'] = predicted_classes"
   ]
  },
  {
   "cell_type": "code",
   "execution_count": 76,
   "id": "55f6669a",
   "metadata": {},
   "outputs": [
    {
     "data": {
      "text/html": [
       "<iframe\n",
       "    scrolling=\"no\"\n",
       "    width=\"100%\"\n",
       "    height=\"545px\"\n",
       "    src=\"iframe_figures/figure_76.html\"\n",
       "    frameborder=\"0\"\n",
       "    allowfullscreen\n",
       "></iframe>\n"
      ]
     },
     "metadata": {},
     "output_type": "display_data"
    }
   ],
   "source": [
    "fig = px.scatter_3d(test, x='sepal length (cm)', y='sepal width (cm)', z='petal length (cm)', color='predicted_targets')\n",
    "fig"
   ]
  },
  {
   "cell_type": "code",
   "execution_count": null,
   "id": "297f2977",
   "metadata": {},
   "outputs": [],
   "source": []
  },
  {
   "cell_type": "markdown",
   "id": "e4c5fbb9",
   "metadata": {},
   "source": [
    "## Compare results to Sklearn KNN Classifier"
   ]
  },
  {
   "cell_type": "code",
   "execution_count": 77,
   "id": "fa52579f",
   "metadata": {},
   "outputs": [],
   "source": [
    "from sklearn.neighbors import KNeighborsClassifier"
   ]
  },
  {
   "cell_type": "code",
   "execution_count": 78,
   "id": "9e4bb597",
   "metadata": {},
   "outputs": [],
   "source": [
    "clf = KNeighborsClassifier(n_neighbors=10, p=2)"
   ]
  },
  {
   "cell_type": "code",
   "execution_count": 79,
   "id": "4f34b267",
   "metadata": {},
   "outputs": [
    {
     "data": {
      "text/plain": [
       "KNeighborsClassifier(n_neighbors=10)"
      ]
     },
     "execution_count": 79,
     "metadata": {},
     "output_type": "execute_result"
    }
   ],
   "source": [
    "clf.fit(train_standardized.iloc[:,:-1], train_standardized.iloc[:,-1])"
   ]
  },
  {
   "cell_type": "code",
   "execution_count": 80,
   "id": "d4346ab8",
   "metadata": {},
   "outputs": [],
   "source": [
    "y_pred_test = clf.predict(test_standardized)"
   ]
  },
  {
   "cell_type": "code",
   "execution_count": 81,
   "id": "d97dee16",
   "metadata": {},
   "outputs": [
    {
     "data": {
      "text/plain": [
       "array([2, 2, 1, 0, 2, 0, 0, 0, 1, 0, 0, 2, 1, 0, 0, 2, 1, 0, 2, 2, 1, 1,\n",
       "       0, 2, 2, 1, 1, 0, 0, 1, 2, 1, 0, 1, 1, 2, 0, 1, 1, 2, 0, 0, 2, 2,\n",
       "       0])"
      ]
     },
     "execution_count": 81,
     "metadata": {},
     "output_type": "execute_result"
    }
   ],
   "source": [
    "y_pred_test"
   ]
  },
  {
   "cell_type": "code",
   "execution_count": 82,
   "id": "56f10e9b",
   "metadata": {},
   "outputs": [],
   "source": [
    "from sklearn.metrics import accuracy_score"
   ]
  },
  {
   "cell_type": "code",
   "execution_count": 83,
   "id": "14426d08",
   "metadata": {},
   "outputs": [
    {
     "name": "stdout",
     "output_type": "stream",
     "text": [
      "1.0\n"
     ]
    }
   ],
   "source": [
    "print(accuracy_score(test_targets, y_pred_test))"
   ]
  },
  {
   "cell_type": "markdown",
   "id": "cfe30df8",
   "metadata": {},
   "source": [
    "## Effect of Neigbors on Prediction Accuracy on Iris Data"
   ]
  },
  {
   "cell_type": "code",
   "execution_count": 84,
   "id": "9d6969d9",
   "metadata": {},
   "outputs": [],
   "source": [
    "accuracies = []\n",
    "clf = KNNClassifier(metric_fn='euclidean_distance')\n",
    "\n",
    "for k in range(1,100):\n",
    "    _ = clf.predict_batch(k=k, train=train_standardized, test=test_standardized)\n",
    "    accuracies.append((k, clf.learning_metrics(test_targets)['accuracy']))\n",
    "        "
   ]
  },
  {
   "cell_type": "code",
   "execution_count": 85,
   "id": "3be40720",
   "metadata": {},
   "outputs": [
    {
     "data": {
      "text/html": [
       "<div>\n",
       "<style scoped>\n",
       "    .dataframe tbody tr th:only-of-type {\n",
       "        vertical-align: middle;\n",
       "    }\n",
       "\n",
       "    .dataframe tbody tr th {\n",
       "        vertical-align: top;\n",
       "    }\n",
       "\n",
       "    .dataframe thead th {\n",
       "        text-align: right;\n",
       "    }\n",
       "</style>\n",
       "<table border=\"1\" class=\"dataframe\">\n",
       "  <thead>\n",
       "    <tr style=\"text-align: right;\">\n",
       "      <th></th>\n",
       "      <th>k</th>\n",
       "      <th>accuracy</th>\n",
       "    </tr>\n",
       "  </thead>\n",
       "  <tbody>\n",
       "    <tr>\n",
       "      <th>0</th>\n",
       "      <td>1</td>\n",
       "      <td>0.933333</td>\n",
       "    </tr>\n",
       "    <tr>\n",
       "      <th>1</th>\n",
       "      <td>2</td>\n",
       "      <td>0.977778</td>\n",
       "    </tr>\n",
       "    <tr>\n",
       "      <th>2</th>\n",
       "      <td>3</td>\n",
       "      <td>0.977778</td>\n",
       "    </tr>\n",
       "    <tr>\n",
       "      <th>3</th>\n",
       "      <td>4</td>\n",
       "      <td>1.000000</td>\n",
       "    </tr>\n",
       "    <tr>\n",
       "      <th>4</th>\n",
       "      <td>5</td>\n",
       "      <td>1.000000</td>\n",
       "    </tr>\n",
       "  </tbody>\n",
       "</table>\n",
       "</div>"
      ],
      "text/plain": [
       "   k  accuracy\n",
       "0  1  0.933333\n",
       "1  2  0.977778\n",
       "2  3  0.977778\n",
       "3  4  1.000000\n",
       "4  5  1.000000"
      ]
     },
     "execution_count": 85,
     "metadata": {},
     "output_type": "execute_result"
    }
   ],
   "source": [
    "acc = pd.DataFrame(accuracies, columns=['k', 'accuracy'])\n",
    "acc.head()"
   ]
  },
  {
   "cell_type": "code",
   "execution_count": 86,
   "id": "884a368d",
   "metadata": {},
   "outputs": [
    {
     "data": {
      "text/html": [
       "<iframe\n",
       "    scrolling=\"no\"\n",
       "    width=\"100%\"\n",
       "    height=\"545px\"\n",
       "    src=\"iframe_figures/figure_86.html\"\n",
       "    frameborder=\"0\"\n",
       "    allowfullscreen\n",
       "></iframe>\n"
      ]
     },
     "metadata": {},
     "output_type": "display_data"
    }
   ],
   "source": [
    "fig = px.line(data_frame=acc, x='k', y='accuracy')\n",
    "fig"
   ]
  },
  {
   "cell_type": "markdown",
   "id": "ed8a67a6",
   "metadata": {},
   "source": [
    "## Custom KNN Classifier Implementation Using Numpy Optimizations"
   ]
  },
  {
   "cell_type": "code",
   "execution_count": 88,
   "id": "56bdad0b",
   "metadata": {},
   "outputs": [],
   "source": [
    "df = pd.read_excel('../datasets/diabetes.xlsx')"
   ]
  },
  {
   "cell_type": "code",
   "execution_count": 89,
   "id": "0f49f067",
   "metadata": {},
   "outputs": [
    {
     "data": {
      "text/html": [
       "<div>\n",
       "<style scoped>\n",
       "    .dataframe tbody tr th:only-of-type {\n",
       "        vertical-align: middle;\n",
       "    }\n",
       "\n",
       "    .dataframe tbody tr th {\n",
       "        vertical-align: top;\n",
       "    }\n",
       "\n",
       "    .dataframe thead th {\n",
       "        text-align: right;\n",
       "    }\n",
       "</style>\n",
       "<table border=\"1\" class=\"dataframe\">\n",
       "  <thead>\n",
       "    <tr style=\"text-align: right;\">\n",
       "      <th></th>\n",
       "      <th>Pregnancies</th>\n",
       "      <th>Glucose</th>\n",
       "      <th>BloodPressure</th>\n",
       "      <th>SkinThickness</th>\n",
       "      <th>Insulin</th>\n",
       "      <th>BMI</th>\n",
       "      <th>DiabetesPedigreeFunction</th>\n",
       "      <th>Age</th>\n",
       "      <th>Outcome</th>\n",
       "    </tr>\n",
       "  </thead>\n",
       "  <tbody>\n",
       "    <tr>\n",
       "      <th>0</th>\n",
       "      <td>6</td>\n",
       "      <td>148</td>\n",
       "      <td>72</td>\n",
       "      <td>35</td>\n",
       "      <td>0</td>\n",
       "      <td>33.6</td>\n",
       "      <td>0.627</td>\n",
       "      <td>50</td>\n",
       "      <td>1</td>\n",
       "    </tr>\n",
       "    <tr>\n",
       "      <th>1</th>\n",
       "      <td>1</td>\n",
       "      <td>85</td>\n",
       "      <td>66</td>\n",
       "      <td>29</td>\n",
       "      <td>0</td>\n",
       "      <td>26.6</td>\n",
       "      <td>0.351</td>\n",
       "      <td>31</td>\n",
       "      <td>0</td>\n",
       "    </tr>\n",
       "    <tr>\n",
       "      <th>2</th>\n",
       "      <td>8</td>\n",
       "      <td>183</td>\n",
       "      <td>64</td>\n",
       "      <td>0</td>\n",
       "      <td>0</td>\n",
       "      <td>23.3</td>\n",
       "      <td>0.672</td>\n",
       "      <td>32</td>\n",
       "      <td>1</td>\n",
       "    </tr>\n",
       "    <tr>\n",
       "      <th>3</th>\n",
       "      <td>1</td>\n",
       "      <td>89</td>\n",
       "      <td>66</td>\n",
       "      <td>23</td>\n",
       "      <td>94</td>\n",
       "      <td>28.1</td>\n",
       "      <td>0.167</td>\n",
       "      <td>21</td>\n",
       "      <td>0</td>\n",
       "    </tr>\n",
       "    <tr>\n",
       "      <th>4</th>\n",
       "      <td>0</td>\n",
       "      <td>137</td>\n",
       "      <td>40</td>\n",
       "      <td>35</td>\n",
       "      <td>168</td>\n",
       "      <td>43.1</td>\n",
       "      <td>2.288</td>\n",
       "      <td>33</td>\n",
       "      <td>1</td>\n",
       "    </tr>\n",
       "  </tbody>\n",
       "</table>\n",
       "</div>"
      ],
      "text/plain": [
       "   Pregnancies  Glucose  BloodPressure  SkinThickness  Insulin   BMI  \\\n",
       "0            6      148             72             35        0  33.6   \n",
       "1            1       85             66             29        0  26.6   \n",
       "2            8      183             64              0        0  23.3   \n",
       "3            1       89             66             23       94  28.1   \n",
       "4            0      137             40             35      168  43.1   \n",
       "\n",
       "   DiabetesPedigreeFunction  Age  Outcome  \n",
       "0                     0.627   50        1  \n",
       "1                     0.351   31        0  \n",
       "2                     0.672   32        1  \n",
       "3                     0.167   21        0  \n",
       "4                     2.288   33        1  "
      ]
     },
     "execution_count": 89,
     "metadata": {},
     "output_type": "execute_result"
    }
   ],
   "source": [
    "df.head()"
   ]
  },
  {
   "cell_type": "code",
   "execution_count": 91,
   "id": "d0d37b4e",
   "metadata": {},
   "outputs": [],
   "source": [
    "import pandas as pd\n",
    "import numpy as np\n",
    "from sklearn.model_selection import train_test_split\n",
    "from scipy.stats import mode\n",
    "from sklearn.neighbors import KNeighborsClassifier"
   ]
  },
  {
   "cell_type": "code",
   "execution_count": 92,
   "id": "c0ae795a",
   "metadata": {},
   "outputs": [],
   "source": [
    "class KNNClassifier2():\n",
    "    def __init__(self, k, norm=2):\n",
    "        self.k = k\n",
    "        self.norm = norm\n",
    "        \n",
    "    def fit(self, X_train, y_train):\n",
    "        '''just store the training data'''\n",
    "        self.X_train = X_train\n",
    "        self.y_train = y_train\n",
    "        # no. of examples, no. of features\n",
    "        self.m, self.n = self.X_train.shape\n",
    "        \n",
    "    def predict(self, X_test):\n",
    "        self.X_test = X_test\n",
    "        self.m_test, self.n_test = self.X_test.shape\n",
    "        \n",
    "        y_predict = np.zeros(self.m_test)\n",
    "        \n",
    "        for i in range(self.m_test):\n",
    "            x = self.X_test[i]\n",
    "            \n",
    "            neighbors = np.zeros(self.k)\n",
    "            \n",
    "            neighbors = self.find_neighbors(x)\n",
    "            \n",
    "            y_predict[i] = mode(neighbors)[0][0]\n",
    "        \n",
    "        return y_predict\n",
    "    \n",
    "    def find_neighbors(self, x):\n",
    "        distances = np.zeros(self.m)\n",
    "        \n",
    "        for i in range(self.m):\n",
    "            d = self.distance(x, self.X_train[i])\n",
    "            distances[i] = d\n",
    "        \n",
    "        # sort Y_train according to euclidean_distance_array and \n",
    "        # store into Y_train_sorted\n",
    "        \n",
    "        inds = distances.argsort()\n",
    "        y_train_sorted = self.y_train[inds]\n",
    "        \n",
    "        return y_train_sorted[:self.k]\n",
    "    \n",
    "    def distance(self, x, x_train):\n",
    "        return np.linalg.norm(x-x_train, ord=self.norm)\n",
    "        \n",
    "        "
   ]
  },
  {
   "cell_type": "code",
   "execution_count": 93,
   "id": "8d963090",
   "metadata": {},
   "outputs": [],
   "source": [
    "X = df.iloc[:, :-1].values\n",
    "y = df.iloc[:, -1].values"
   ]
  },
  {
   "cell_type": "code",
   "execution_count": 94,
   "id": "99facd5f",
   "metadata": {},
   "outputs": [],
   "source": [
    "X_train, X_test, y_train, y_test = train_test_split(X, y, test_size=1/3, random_state=42)"
   ]
  },
  {
   "cell_type": "code",
   "execution_count": 95,
   "id": "1b38d2bc",
   "metadata": {},
   "outputs": [],
   "source": [
    "X_train_1 = np.concatenate((X_train, y_train.reshape(-1,1)), axis=1)"
   ]
  },
  {
   "cell_type": "code",
   "execution_count": 96,
   "id": "a6954efe",
   "metadata": {},
   "outputs": [
    {
     "data": {
      "text/html": [
       "<div>\n",
       "<style scoped>\n",
       "    .dataframe tbody tr th:only-of-type {\n",
       "        vertical-align: middle;\n",
       "    }\n",
       "\n",
       "    .dataframe tbody tr th {\n",
       "        vertical-align: top;\n",
       "    }\n",
       "\n",
       "    .dataframe thead th {\n",
       "        text-align: right;\n",
       "    }\n",
       "</style>\n",
       "<table border=\"1\" class=\"dataframe\">\n",
       "  <thead>\n",
       "    <tr style=\"text-align: right;\">\n",
       "      <th></th>\n",
       "      <th>0</th>\n",
       "      <th>1</th>\n",
       "      <th>2</th>\n",
       "      <th>3</th>\n",
       "      <th>4</th>\n",
       "      <th>5</th>\n",
       "      <th>6</th>\n",
       "      <th>7</th>\n",
       "      <th>8</th>\n",
       "    </tr>\n",
       "  </thead>\n",
       "  <tbody>\n",
       "    <tr>\n",
       "      <th>0</th>\n",
       "      <td>13.0</td>\n",
       "      <td>145.0</td>\n",
       "      <td>82.0</td>\n",
       "      <td>19.0</td>\n",
       "      <td>110.0</td>\n",
       "      <td>22.2</td>\n",
       "      <td>0.245</td>\n",
       "      <td>57.0</td>\n",
       "      <td>0.0</td>\n",
       "    </tr>\n",
       "    <tr>\n",
       "      <th>1</th>\n",
       "      <td>3.0</td>\n",
       "      <td>180.0</td>\n",
       "      <td>64.0</td>\n",
       "      <td>25.0</td>\n",
       "      <td>70.0</td>\n",
       "      <td>34.0</td>\n",
       "      <td>0.271</td>\n",
       "      <td>26.0</td>\n",
       "      <td>0.0</td>\n",
       "    </tr>\n",
       "    <tr>\n",
       "      <th>2</th>\n",
       "      <td>5.0</td>\n",
       "      <td>116.0</td>\n",
       "      <td>74.0</td>\n",
       "      <td>0.0</td>\n",
       "      <td>0.0</td>\n",
       "      <td>25.6</td>\n",
       "      <td>0.201</td>\n",
       "      <td>30.0</td>\n",
       "      <td>0.0</td>\n",
       "    </tr>\n",
       "    <tr>\n",
       "      <th>3</th>\n",
       "      <td>8.0</td>\n",
       "      <td>176.0</td>\n",
       "      <td>90.0</td>\n",
       "      <td>34.0</td>\n",
       "      <td>300.0</td>\n",
       "      <td>33.7</td>\n",
       "      <td>0.467</td>\n",
       "      <td>58.0</td>\n",
       "      <td>1.0</td>\n",
       "    </tr>\n",
       "    <tr>\n",
       "      <th>4</th>\n",
       "      <td>4.0</td>\n",
       "      <td>144.0</td>\n",
       "      <td>58.0</td>\n",
       "      <td>28.0</td>\n",
       "      <td>140.0</td>\n",
       "      <td>29.5</td>\n",
       "      <td>0.287</td>\n",
       "      <td>37.0</td>\n",
       "      <td>0.0</td>\n",
       "    </tr>\n",
       "  </tbody>\n",
       "</table>\n",
       "</div>"
      ],
      "text/plain": [
       "      0      1     2     3      4     5      6     7    8\n",
       "0  13.0  145.0  82.0  19.0  110.0  22.2  0.245  57.0  0.0\n",
       "1   3.0  180.0  64.0  25.0   70.0  34.0  0.271  26.0  0.0\n",
       "2   5.0  116.0  74.0   0.0    0.0  25.6  0.201  30.0  0.0\n",
       "3   8.0  176.0  90.0  34.0  300.0  33.7  0.467  58.0  1.0\n",
       "4   4.0  144.0  58.0  28.0  140.0  29.5  0.287  37.0  0.0"
      ]
     },
     "execution_count": 96,
     "metadata": {},
     "output_type": "execute_result"
    }
   ],
   "source": [
    "X_train_df = pd.DataFrame(X_train_1)\n",
    "X_train_df.head()"
   ]
  },
  {
   "cell_type": "code",
   "execution_count": 97,
   "id": "db6c215d",
   "metadata": {},
   "outputs": [
    {
     "data": {
      "text/html": [
       "<div>\n",
       "<style scoped>\n",
       "    .dataframe tbody tr th:only-of-type {\n",
       "        vertical-align: middle;\n",
       "    }\n",
       "\n",
       "    .dataframe tbody tr th {\n",
       "        vertical-align: top;\n",
       "    }\n",
       "\n",
       "    .dataframe thead th {\n",
       "        text-align: right;\n",
       "    }\n",
       "</style>\n",
       "<table border=\"1\" class=\"dataframe\">\n",
       "  <thead>\n",
       "    <tr style=\"text-align: right;\">\n",
       "      <th></th>\n",
       "      <th>0</th>\n",
       "      <th>1</th>\n",
       "      <th>2</th>\n",
       "      <th>3</th>\n",
       "      <th>4</th>\n",
       "      <th>5</th>\n",
       "      <th>6</th>\n",
       "      <th>7</th>\n",
       "    </tr>\n",
       "  </thead>\n",
       "  <tbody>\n",
       "    <tr>\n",
       "      <th>0</th>\n",
       "      <td>5.0</td>\n",
       "      <td>95.0</td>\n",
       "      <td>72.0</td>\n",
       "      <td>33.0</td>\n",
       "      <td>0.0</td>\n",
       "      <td>37.7</td>\n",
       "      <td>0.370</td>\n",
       "      <td>27.0</td>\n",
       "    </tr>\n",
       "    <tr>\n",
       "      <th>1</th>\n",
       "      <td>4.0</td>\n",
       "      <td>110.0</td>\n",
       "      <td>92.0</td>\n",
       "      <td>0.0</td>\n",
       "      <td>0.0</td>\n",
       "      <td>37.6</td>\n",
       "      <td>0.191</td>\n",
       "      <td>30.0</td>\n",
       "    </tr>\n",
       "    <tr>\n",
       "      <th>2</th>\n",
       "      <td>0.0</td>\n",
       "      <td>137.0</td>\n",
       "      <td>40.0</td>\n",
       "      <td>35.0</td>\n",
       "      <td>168.0</td>\n",
       "      <td>43.1</td>\n",
       "      <td>2.288</td>\n",
       "      <td>33.0</td>\n",
       "    </tr>\n",
       "    <tr>\n",
       "      <th>3</th>\n",
       "      <td>0.0</td>\n",
       "      <td>101.0</td>\n",
       "      <td>65.0</td>\n",
       "      <td>28.0</td>\n",
       "      <td>0.0</td>\n",
       "      <td>24.6</td>\n",
       "      <td>0.237</td>\n",
       "      <td>22.0</td>\n",
       "    </tr>\n",
       "    <tr>\n",
       "      <th>4</th>\n",
       "      <td>5.0</td>\n",
       "      <td>44.0</td>\n",
       "      <td>62.0</td>\n",
       "      <td>0.0</td>\n",
       "      <td>0.0</td>\n",
       "      <td>25.0</td>\n",
       "      <td>0.587</td>\n",
       "      <td>36.0</td>\n",
       "    </tr>\n",
       "  </tbody>\n",
       "</table>\n",
       "</div>"
      ],
      "text/plain": [
       "     0      1     2     3      4     5      6     7\n",
       "0  5.0   95.0  72.0  33.0    0.0  37.7  0.370  27.0\n",
       "1  4.0  110.0  92.0   0.0    0.0  37.6  0.191  30.0\n",
       "2  0.0  137.0  40.0  35.0  168.0  43.1  2.288  33.0\n",
       "3  0.0  101.0  65.0  28.0    0.0  24.6  0.237  22.0\n",
       "4  5.0   44.0  62.0   0.0    0.0  25.0  0.587  36.0"
      ]
     },
     "execution_count": 97,
     "metadata": {},
     "output_type": "execute_result"
    }
   ],
   "source": [
    "X_test_df = pd.DataFrame(X_test)\n",
    "X_test_df.head()"
   ]
  },
  {
   "cell_type": "code",
   "execution_count": 98,
   "id": "b77a39bb",
   "metadata": {},
   "outputs": [],
   "source": [
    "from sklearn.preprocessing import StandardScaler"
   ]
  },
  {
   "cell_type": "code",
   "execution_count": 99,
   "id": "0b30a07a",
   "metadata": {},
   "outputs": [],
   "source": [
    "scaler = StandardScaler()"
   ]
  },
  {
   "cell_type": "code",
   "execution_count": 101,
   "id": "c78d8e93",
   "metadata": {},
   "outputs": [],
   "source": [
    "X_train_df_standardized = pd.DataFrame(scaler.fit_transform(X_train_df.iloc[:,:-1]))"
   ]
  },
  {
   "cell_type": "code",
   "execution_count": 102,
   "id": "1aca6e5a",
   "metadata": {},
   "outputs": [],
   "source": [
    "X_train_df_standardized['targets'] = X_train_df.iloc[:,-1]"
   ]
  },
  {
   "cell_type": "code",
   "execution_count": 103,
   "id": "a0377352",
   "metadata": {},
   "outputs": [
    {
     "data": {
      "text/html": [
       "<div>\n",
       "<style scoped>\n",
       "    .dataframe tbody tr th:only-of-type {\n",
       "        vertical-align: middle;\n",
       "    }\n",
       "\n",
       "    .dataframe tbody tr th {\n",
       "        vertical-align: top;\n",
       "    }\n",
       "\n",
       "    .dataframe thead th {\n",
       "        text-align: right;\n",
       "    }\n",
       "</style>\n",
       "<table border=\"1\" class=\"dataframe\">\n",
       "  <thead>\n",
       "    <tr style=\"text-align: right;\">\n",
       "      <th></th>\n",
       "      <th>0</th>\n",
       "      <th>1</th>\n",
       "      <th>2</th>\n",
       "      <th>3</th>\n",
       "      <th>4</th>\n",
       "      <th>5</th>\n",
       "      <th>6</th>\n",
       "      <th>7</th>\n",
       "      <th>targets</th>\n",
       "    </tr>\n",
       "  </thead>\n",
       "  <tbody>\n",
       "    <tr>\n",
       "      <th>0</th>\n",
       "      <td>2.479882</td>\n",
       "      <td>0.881615</td>\n",
       "      <td>0.644672</td>\n",
       "      <td>-0.149411</td>\n",
       "      <td>0.146128</td>\n",
       "      <td>-0.987948</td>\n",
       "      <td>-0.730291</td>\n",
       "      <td>2.147907</td>\n",
       "      <td>0.0</td>\n",
       "    </tr>\n",
       "    <tr>\n",
       "      <th>1</th>\n",
       "      <td>-0.331953</td>\n",
       "      <td>1.982541</td>\n",
       "      <td>-0.207005</td>\n",
       "      <td>0.219421</td>\n",
       "      <td>-0.147966</td>\n",
       "      <td>0.313386</td>\n",
       "      <td>-0.642131</td>\n",
       "      <td>-0.650767</td>\n",
       "      <td>0.0</td>\n",
       "    </tr>\n",
       "    <tr>\n",
       "      <th>2</th>\n",
       "      <td>0.230414</td>\n",
       "      <td>-0.030581</td>\n",
       "      <td>0.266149</td>\n",
       "      <td>-1.317378</td>\n",
       "      <td>-0.662631</td>\n",
       "      <td>-0.612988</td>\n",
       "      <td>-0.879486</td>\n",
       "      <td>-0.289648</td>\n",
       "      <td>0.0</td>\n",
       "    </tr>\n",
       "    <tr>\n",
       "      <th>3</th>\n",
       "      <td>1.073965</td>\n",
       "      <td>1.856721</td>\n",
       "      <td>1.023195</td>\n",
       "      <td>0.772669</td>\n",
       "      <td>1.543076</td>\n",
       "      <td>0.280302</td>\n",
       "      <td>0.022464</td>\n",
       "      <td>2.238187</td>\n",
       "      <td>1.0</td>\n",
       "    </tr>\n",
       "    <tr>\n",
       "      <th>4</th>\n",
       "      <td>-0.050769</td>\n",
       "      <td>0.850160</td>\n",
       "      <td>-0.490897</td>\n",
       "      <td>0.403837</td>\n",
       "      <td>0.366699</td>\n",
       "      <td>-0.182885</td>\n",
       "      <td>-0.587878</td>\n",
       "      <td>0.342311</td>\n",
       "      <td>0.0</td>\n",
       "    </tr>\n",
       "  </tbody>\n",
       "</table>\n",
       "</div>"
      ],
      "text/plain": [
       "          0         1         2         3         4         5         6  \\\n",
       "0  2.479882  0.881615  0.644672 -0.149411  0.146128 -0.987948 -0.730291   \n",
       "1 -0.331953  1.982541 -0.207005  0.219421 -0.147966  0.313386 -0.642131   \n",
       "2  0.230414 -0.030581  0.266149 -1.317378 -0.662631 -0.612988 -0.879486   \n",
       "3  1.073965  1.856721  1.023195  0.772669  1.543076  0.280302  0.022464   \n",
       "4 -0.050769  0.850160 -0.490897  0.403837  0.366699 -0.182885 -0.587878   \n",
       "\n",
       "          7  targets  \n",
       "0  2.147907      0.0  \n",
       "1 -0.650767      0.0  \n",
       "2 -0.289648      0.0  \n",
       "3  2.238187      1.0  \n",
       "4  0.342311      0.0  "
      ]
     },
     "execution_count": 103,
     "metadata": {},
     "output_type": "execute_result"
    }
   ],
   "source": [
    "X_train_df_standardized.head()"
   ]
  },
  {
   "cell_type": "code",
   "execution_count": 104,
   "id": "c92e3a2d",
   "metadata": {},
   "outputs": [],
   "source": [
    "X_test_df_standardized = pd.DataFrame(scaler.transform(X_test))"
   ]
  },
  {
   "cell_type": "code",
   "execution_count": 105,
   "id": "c73a9b41",
   "metadata": {},
   "outputs": [
    {
     "data": {
      "text/plain": [
       "((72, 9), (36, 8), (72,), (36,))"
      ]
     },
     "execution_count": 105,
     "metadata": {},
     "output_type": "execute_result"
    }
   ],
   "source": [
    "X_train_df_standardized.shape, X_test_df_standardized.shape, y_train.shape, y_test.shape"
   ]
  },
  {
   "cell_type": "code",
   "execution_count": 106,
   "id": "622394bf",
   "metadata": {},
   "outputs": [],
   "source": [
    "model1 = KNNClassifier(metric_fn='euclidean_distance')\n",
    "model2 = KNNClassifier2(k=5, norm=2)\n",
    "model3 = KNeighborsClassifier(n_neighbors=5)"
   ]
  },
  {
   "cell_type": "code",
   "execution_count": 107,
   "id": "d3497ed0",
   "metadata": {},
   "outputs": [
    {
     "data": {
      "text/plain": [
       "KNeighborsClassifier()"
      ]
     },
     "execution_count": 107,
     "metadata": {},
     "output_type": "execute_result"
    }
   ],
   "source": [
    "model2.fit(X_train, y_train)\n",
    "model3.fit(X_train_df_standardized.iloc[:, :-1], y_train)"
   ]
  },
  {
   "cell_type": "code",
   "execution_count": 108,
   "id": "23ab99f4",
   "metadata": {},
   "outputs": [],
   "source": [
    "y_pred1 = model1.predict_batch(5, X_train_df_standardized, X_test_df_standardized)\n",
    "y_pred2 = model2.predict(X_test)\n",
    "y_pred3 = model3.predict(X_test_df_standardized)"
   ]
  },
  {
   "cell_type": "code",
   "execution_count": 109,
   "id": "41c1abc4",
   "metadata": {},
   "outputs": [],
   "source": [
    "acc1 = accuracy_score(y_test, y_pred1)\n",
    "acc2 = accuracy_score(y_test, y_pred2)\n",
    "acc3 = accuracy_score(y_test, y_pred3)"
   ]
  },
  {
   "cell_type": "code",
   "execution_count": 110,
   "id": "9a290f10",
   "metadata": {},
   "outputs": [
    {
     "data": {
      "text/plain": [
       "(0.6388888888888888, 0.6388888888888888, 0.6388888888888888)"
      ]
     },
     "execution_count": 110,
     "metadata": {},
     "output_type": "execute_result"
    }
   ],
   "source": [
    "acc1, acc2, acc3"
   ]
  },
  {
   "cell_type": "code",
   "execution_count": 111,
   "id": "abe60ff9",
   "metadata": {},
   "outputs": [],
   "source": [
    "from sklearn.metrics import classification_report"
   ]
  },
  {
   "cell_type": "code",
   "execution_count": 112,
   "id": "f2a5c7c2",
   "metadata": {},
   "outputs": [
    {
     "name": "stdout",
     "output_type": "stream",
     "text": [
      "              precision    recall  f1-score   support\n",
      "\n",
      "           0       0.68      0.83      0.75        23\n",
      "           1       0.50      0.31      0.38        13\n",
      "\n",
      "    accuracy                           0.64        36\n",
      "   macro avg       0.59      0.57      0.56        36\n",
      "weighted avg       0.61      0.64      0.61        36\n",
      "\n"
     ]
    }
   ],
   "source": [
    "print(classification_report(y_test, y_pred1))"
   ]
  },
  {
   "cell_type": "markdown",
   "id": "246a9e60",
   "metadata": {},
   "source": [
    "## Custom KNN Regressor Implementation Using Numpy Optimizations"
   ]
  },
  {
   "cell_type": "code",
   "execution_count": 113,
   "id": "af0b3964",
   "metadata": {},
   "outputs": [],
   "source": [
    "data = datasets.load_diabetes()"
   ]
  },
  {
   "cell_type": "code",
   "execution_count": 114,
   "id": "3ff0d563",
   "metadata": {},
   "outputs": [],
   "source": [
    "df = pd.DataFrame(data.data, columns=data.feature_names)"
   ]
  },
  {
   "cell_type": "code",
   "execution_count": 115,
   "id": "6f9818fe",
   "metadata": {},
   "outputs": [],
   "source": [
    "df['target'] = data.target"
   ]
  },
  {
   "cell_type": "code",
   "execution_count": 116,
   "id": "a7d7d210",
   "metadata": {},
   "outputs": [
    {
     "data": {
      "text/html": [
       "<div>\n",
       "<style scoped>\n",
       "    .dataframe tbody tr th:only-of-type {\n",
       "        vertical-align: middle;\n",
       "    }\n",
       "\n",
       "    .dataframe tbody tr th {\n",
       "        vertical-align: top;\n",
       "    }\n",
       "\n",
       "    .dataframe thead th {\n",
       "        text-align: right;\n",
       "    }\n",
       "</style>\n",
       "<table border=\"1\" class=\"dataframe\">\n",
       "  <thead>\n",
       "    <tr style=\"text-align: right;\">\n",
       "      <th></th>\n",
       "      <th>age</th>\n",
       "      <th>sex</th>\n",
       "      <th>bmi</th>\n",
       "      <th>bp</th>\n",
       "      <th>s1</th>\n",
       "      <th>s2</th>\n",
       "      <th>s3</th>\n",
       "      <th>s4</th>\n",
       "      <th>s5</th>\n",
       "      <th>s6</th>\n",
       "      <th>target</th>\n",
       "    </tr>\n",
       "  </thead>\n",
       "  <tbody>\n",
       "    <tr>\n",
       "      <th>0</th>\n",
       "      <td>0.038076</td>\n",
       "      <td>0.050680</td>\n",
       "      <td>0.061696</td>\n",
       "      <td>0.021872</td>\n",
       "      <td>-0.044223</td>\n",
       "      <td>-0.034821</td>\n",
       "      <td>-0.043401</td>\n",
       "      <td>-0.002592</td>\n",
       "      <td>0.019908</td>\n",
       "      <td>-0.017646</td>\n",
       "      <td>151.0</td>\n",
       "    </tr>\n",
       "    <tr>\n",
       "      <th>1</th>\n",
       "      <td>-0.001882</td>\n",
       "      <td>-0.044642</td>\n",
       "      <td>-0.051474</td>\n",
       "      <td>-0.026328</td>\n",
       "      <td>-0.008449</td>\n",
       "      <td>-0.019163</td>\n",
       "      <td>0.074412</td>\n",
       "      <td>-0.039493</td>\n",
       "      <td>-0.068330</td>\n",
       "      <td>-0.092204</td>\n",
       "      <td>75.0</td>\n",
       "    </tr>\n",
       "    <tr>\n",
       "      <th>2</th>\n",
       "      <td>0.085299</td>\n",
       "      <td>0.050680</td>\n",
       "      <td>0.044451</td>\n",
       "      <td>-0.005671</td>\n",
       "      <td>-0.045599</td>\n",
       "      <td>-0.034194</td>\n",
       "      <td>-0.032356</td>\n",
       "      <td>-0.002592</td>\n",
       "      <td>0.002864</td>\n",
       "      <td>-0.025930</td>\n",
       "      <td>141.0</td>\n",
       "    </tr>\n",
       "    <tr>\n",
       "      <th>3</th>\n",
       "      <td>-0.089063</td>\n",
       "      <td>-0.044642</td>\n",
       "      <td>-0.011595</td>\n",
       "      <td>-0.036656</td>\n",
       "      <td>0.012191</td>\n",
       "      <td>0.024991</td>\n",
       "      <td>-0.036038</td>\n",
       "      <td>0.034309</td>\n",
       "      <td>0.022692</td>\n",
       "      <td>-0.009362</td>\n",
       "      <td>206.0</td>\n",
       "    </tr>\n",
       "    <tr>\n",
       "      <th>4</th>\n",
       "      <td>0.005383</td>\n",
       "      <td>-0.044642</td>\n",
       "      <td>-0.036385</td>\n",
       "      <td>0.021872</td>\n",
       "      <td>0.003935</td>\n",
       "      <td>0.015596</td>\n",
       "      <td>0.008142</td>\n",
       "      <td>-0.002592</td>\n",
       "      <td>-0.031991</td>\n",
       "      <td>-0.046641</td>\n",
       "      <td>135.0</td>\n",
       "    </tr>\n",
       "    <tr>\n",
       "      <th>...</th>\n",
       "      <td>...</td>\n",
       "      <td>...</td>\n",
       "      <td>...</td>\n",
       "      <td>...</td>\n",
       "      <td>...</td>\n",
       "      <td>...</td>\n",
       "      <td>...</td>\n",
       "      <td>...</td>\n",
       "      <td>...</td>\n",
       "      <td>...</td>\n",
       "      <td>...</td>\n",
       "    </tr>\n",
       "    <tr>\n",
       "      <th>437</th>\n",
       "      <td>0.041708</td>\n",
       "      <td>0.050680</td>\n",
       "      <td>0.019662</td>\n",
       "      <td>0.059744</td>\n",
       "      <td>-0.005697</td>\n",
       "      <td>-0.002566</td>\n",
       "      <td>-0.028674</td>\n",
       "      <td>-0.002592</td>\n",
       "      <td>0.031193</td>\n",
       "      <td>0.007207</td>\n",
       "      <td>178.0</td>\n",
       "    </tr>\n",
       "    <tr>\n",
       "      <th>438</th>\n",
       "      <td>-0.005515</td>\n",
       "      <td>0.050680</td>\n",
       "      <td>-0.015906</td>\n",
       "      <td>-0.067642</td>\n",
       "      <td>0.049341</td>\n",
       "      <td>0.079165</td>\n",
       "      <td>-0.028674</td>\n",
       "      <td>0.034309</td>\n",
       "      <td>-0.018118</td>\n",
       "      <td>0.044485</td>\n",
       "      <td>104.0</td>\n",
       "    </tr>\n",
       "    <tr>\n",
       "      <th>439</th>\n",
       "      <td>0.041708</td>\n",
       "      <td>0.050680</td>\n",
       "      <td>-0.015906</td>\n",
       "      <td>0.017282</td>\n",
       "      <td>-0.037344</td>\n",
       "      <td>-0.013840</td>\n",
       "      <td>-0.024993</td>\n",
       "      <td>-0.011080</td>\n",
       "      <td>-0.046879</td>\n",
       "      <td>0.015491</td>\n",
       "      <td>132.0</td>\n",
       "    </tr>\n",
       "    <tr>\n",
       "      <th>440</th>\n",
       "      <td>-0.045472</td>\n",
       "      <td>-0.044642</td>\n",
       "      <td>0.039062</td>\n",
       "      <td>0.001215</td>\n",
       "      <td>0.016318</td>\n",
       "      <td>0.015283</td>\n",
       "      <td>-0.028674</td>\n",
       "      <td>0.026560</td>\n",
       "      <td>0.044528</td>\n",
       "      <td>-0.025930</td>\n",
       "      <td>220.0</td>\n",
       "    </tr>\n",
       "    <tr>\n",
       "      <th>441</th>\n",
       "      <td>-0.045472</td>\n",
       "      <td>-0.044642</td>\n",
       "      <td>-0.073030</td>\n",
       "      <td>-0.081414</td>\n",
       "      <td>0.083740</td>\n",
       "      <td>0.027809</td>\n",
       "      <td>0.173816</td>\n",
       "      <td>-0.039493</td>\n",
       "      <td>-0.004220</td>\n",
       "      <td>0.003064</td>\n",
       "      <td>57.0</td>\n",
       "    </tr>\n",
       "  </tbody>\n",
       "</table>\n",
       "<p>442 rows × 11 columns</p>\n",
       "</div>"
      ],
      "text/plain": [
       "          age       sex       bmi        bp        s1        s2        s3  \\\n",
       "0    0.038076  0.050680  0.061696  0.021872 -0.044223 -0.034821 -0.043401   \n",
       "1   -0.001882 -0.044642 -0.051474 -0.026328 -0.008449 -0.019163  0.074412   \n",
       "2    0.085299  0.050680  0.044451 -0.005671 -0.045599 -0.034194 -0.032356   \n",
       "3   -0.089063 -0.044642 -0.011595 -0.036656  0.012191  0.024991 -0.036038   \n",
       "4    0.005383 -0.044642 -0.036385  0.021872  0.003935  0.015596  0.008142   \n",
       "..        ...       ...       ...       ...       ...       ...       ...   \n",
       "437  0.041708  0.050680  0.019662  0.059744 -0.005697 -0.002566 -0.028674   \n",
       "438 -0.005515  0.050680 -0.015906 -0.067642  0.049341  0.079165 -0.028674   \n",
       "439  0.041708  0.050680 -0.015906  0.017282 -0.037344 -0.013840 -0.024993   \n",
       "440 -0.045472 -0.044642  0.039062  0.001215  0.016318  0.015283 -0.028674   \n",
       "441 -0.045472 -0.044642 -0.073030 -0.081414  0.083740  0.027809  0.173816   \n",
       "\n",
       "           s4        s5        s6  target  \n",
       "0   -0.002592  0.019908 -0.017646   151.0  \n",
       "1   -0.039493 -0.068330 -0.092204    75.0  \n",
       "2   -0.002592  0.002864 -0.025930   141.0  \n",
       "3    0.034309  0.022692 -0.009362   206.0  \n",
       "4   -0.002592 -0.031991 -0.046641   135.0  \n",
       "..        ...       ...       ...     ...  \n",
       "437 -0.002592  0.031193  0.007207   178.0  \n",
       "438  0.034309 -0.018118  0.044485   104.0  \n",
       "439 -0.011080 -0.046879  0.015491   132.0  \n",
       "440  0.026560  0.044528 -0.025930   220.0  \n",
       "441 -0.039493 -0.004220  0.003064    57.0  \n",
       "\n",
       "[442 rows x 11 columns]"
      ]
     },
     "execution_count": 116,
     "metadata": {},
     "output_type": "execute_result"
    }
   ],
   "source": [
    "df"
   ]
  },
  {
   "cell_type": "code",
   "execution_count": 117,
   "id": "fc208dc0",
   "metadata": {},
   "outputs": [],
   "source": [
    "class KNNRegressor():\n",
    "    def __init__(self, k, norm=2):\n",
    "        self.k = k\n",
    "        self.norm = norm\n",
    "        \n",
    "    def fit(self, X_train, y_train):\n",
    "        '''just store the training data'''\n",
    "        self.X_train = X_train\n",
    "        self.y_train = y_train\n",
    "        # no. of examples, no. of features\n",
    "        self.m, self.n = self.X_train.shape\n",
    "    \n",
    "    def find_neighbors(self, x):\n",
    "        distances = np.zeros(self.m)\n",
    "        \n",
    "        for i in range(self.m):\n",
    "            d = self.distance(x, self.X_train[i])\n",
    "            distances[i] = d\n",
    "        \n",
    "        # sort Y_train according to euclidean_distance_array and \n",
    "        # store into Y_train_sorted\n",
    "        \n",
    "        inds = distances.argsort()\n",
    "        y_train_sorted = self.y_train[inds]\n",
    "        \n",
    "        return y_train_sorted[:self.k]\n",
    "    \n",
    "    def distance(self, x, x_train):\n",
    "        return np.linalg.norm(x-x_train, ord=self.norm)\n",
    "    \n",
    "    def predict(self, x_test):\n",
    "        self.x_test = x_test\n",
    "        self.m_test, self.n_test = self.x_test.shape\n",
    "        \n",
    "        y_predict = np.zeros(self.m_test)\n",
    "        \n",
    "        for i in range(self.m_test):\n",
    "            x = self.x_test[i]\n",
    "            \n",
    "            neighbors = np.zeros(k)\n",
    "            neighbors = self.find_neighbors(x)\n",
    "            \n",
    "            y_predict[i] = np.mean(neighbors)\n",
    "            \n",
    "        return y_predict\n",
    "            "
   ]
  },
  {
   "cell_type": "code",
   "execution_count": 118,
   "id": "d6b84ed6",
   "metadata": {},
   "outputs": [],
   "source": [
    "from sklearn.neighbors import KNeighborsRegressor"
   ]
  },
  {
   "cell_type": "code",
   "execution_count": 119,
   "id": "a238250c",
   "metadata": {},
   "outputs": [],
   "source": [
    "X = df.iloc[:, :-1].values\n",
    "y = df.iloc[:, -1].values"
   ]
  },
  {
   "cell_type": "code",
   "execution_count": 120,
   "id": "c77fcfc0",
   "metadata": {},
   "outputs": [],
   "source": [
    "X_train, X_test, y_train, y_test = train_test_split(X, y, test_size=1/3, random_state=42)"
   ]
  },
  {
   "cell_type": "code",
   "execution_count": 121,
   "id": "228a6f57",
   "metadata": {},
   "outputs": [],
   "source": [
    "model1 = KNNRegressor(k=5, norm=2)\n",
    "model2 = KNeighborsRegressor(n_neighbors=5, p=2)"
   ]
  },
  {
   "cell_type": "code",
   "execution_count": 122,
   "id": "a0899f69",
   "metadata": {},
   "outputs": [
    {
     "data": {
      "text/plain": [
       "KNeighborsRegressor()"
      ]
     },
     "execution_count": 122,
     "metadata": {},
     "output_type": "execute_result"
    }
   ],
   "source": [
    "model1.fit(X_train, y_train)\n",
    "model2.fit(X_train, y_train)"
   ]
  },
  {
   "cell_type": "code",
   "execution_count": 123,
   "id": "a5a7176c",
   "metadata": {},
   "outputs": [],
   "source": [
    "y_pred1 = model1.predict(X_test)\n",
    "y_pred2 = model2.predict(X_test)"
   ]
  },
  {
   "cell_type": "code",
   "execution_count": 124,
   "id": "d19a5a42",
   "metadata": {},
   "outputs": [],
   "source": [
    "from sklearn.metrics import mean_squared_error"
   ]
  },
  {
   "cell_type": "code",
   "execution_count": 125,
   "id": "b383e0a0",
   "metadata": {},
   "outputs": [],
   "source": [
    "err1 = mean_squared_error(y_test, y_pred1)\n",
    "err2 = mean_squared_error(y_test, y_pred2)"
   ]
  },
  {
   "cell_type": "code",
   "execution_count": 126,
   "id": "e9a5bc5d",
   "metadata": {},
   "outputs": [
    {
     "data": {
      "text/plain": [
       "(3180.2686486486487, 3180.2686486486487)"
      ]
     },
     "execution_count": 126,
     "metadata": {},
     "output_type": "execute_result"
    }
   ],
   "source": [
    "err1, err2"
   ]
  },
  {
   "cell_type": "code",
   "execution_count": 127,
   "id": "1744a0a0",
   "metadata": {},
   "outputs": [
    {
     "data": {
      "text/plain": [
       "[(219.0, 125.6), (70.0, 160.2), (202.0, 153.0), (230.0, 236.6), (111.0, 153.4)]"
      ]
     },
     "execution_count": 127,
     "metadata": {},
     "output_type": "execute_result"
    }
   ],
   "source": [
    "list(zip(y_test[:5], y_pred1[:5]))"
   ]
  },
  {
   "cell_type": "markdown",
   "id": "417c7825",
   "metadata": {},
   "source": [
    "## KNN Classifier for Digit Recognition"
   ]
  },
  {
   "cell_type": "code",
   "execution_count": 128,
   "id": "fb7b7a8e",
   "metadata": {},
   "outputs": [],
   "source": [
    "from sklearn.model_selection import train_test_split\n",
    "from sklearn.neighbors import KNeighborsClassifier\n",
    "from sklearn.metrics import classification_report, confusion_matrix\n",
    "from sklearn import datasets\n",
    "from skimage import exposure\n",
    "import matplotlib.pyplot as plt\n",
    "import numpy as np"
   ]
  },
  {
   "cell_type": "code",
   "execution_count": 129,
   "id": "a8da2e33",
   "metadata": {},
   "outputs": [],
   "source": [
    "mnist = datasets.load_digits()"
   ]
  },
  {
   "cell_type": "code",
   "execution_count": 130,
   "id": "4608057b",
   "metadata": {},
   "outputs": [],
   "source": [
    "X_train, X_test, y_train, y_test = train_test_split(np.array(mnist.data), mnist.target, test_size=0.25, random_state=42)"
   ]
  },
  {
   "cell_type": "code",
   "execution_count": 131,
   "id": "664644ac",
   "metadata": {},
   "outputs": [],
   "source": [
    "X_train, X_val, y_train, y_val = train_test_split(X_train, y_train, test_size=0.1, random_state=42)"
   ]
  },
  {
   "cell_type": "code",
   "execution_count": 132,
   "id": "f75303a7",
   "metadata": {},
   "outputs": [
    {
     "name": "stdout",
     "output_type": "stream",
     "text": [
      "training data points: 1212\n",
      "validation data points: 135\n",
      "testing data points: 450\n"
     ]
    }
   ],
   "source": [
    "print(\"training data points: {}\".format(len(y_train)))\n",
    "print(\"validation data points: {}\".format(len(y_val)))\n",
    "print(\"testing data points: {}\".format(len(y_test)))"
   ]
  },
  {
   "cell_type": "markdown",
   "id": "b35937e3",
   "metadata": {},
   "source": [
    "## Training"
   ]
  },
  {
   "cell_type": "code",
   "execution_count": 133,
   "id": "57c65965",
   "metadata": {},
   "outputs": [],
   "source": [
    "k_values = range(1, 30, 2)\n",
    "\n",
    "accuracies = []\n",
    "\n",
    "for k in range(1, 30, 2):\n",
    "    model = KNeighborsClassifier(n_neighbors=k)\n",
    "    model.fit(X_train, y_train)\n",
    "    score = model.score(X_val, y_val)\n",
    "    accuracies.append(score)"
   ]
  },
  {
   "cell_type": "code",
   "execution_count": 134,
   "id": "38f515ba",
   "metadata": {},
   "outputs": [
    {
     "data": {
      "text/html": [
       "<iframe\n",
       "    scrolling=\"no\"\n",
       "    width=\"100%\"\n",
       "    height=\"545px\"\n",
       "    src=\"iframe_figures/figure_134.html\"\n",
       "    frameborder=\"0\"\n",
       "    allowfullscreen\n",
       "></iframe>\n"
      ]
     },
     "metadata": {},
     "output_type": "display_data"
    }
   ],
   "source": [
    "acc_df = pd.DataFrame(zip(k_values, accuracies), columns=['k_values', 'accuracies'])\n",
    "fig = px.line(data_frame=acc_df, x='k_values', y='accuracies')\n",
    "fig"
   ]
  },
  {
   "cell_type": "code",
   "execution_count": 135,
   "id": "c1a40466",
   "metadata": {},
   "outputs": [],
   "source": [
    "k = 5 \n",
    "model = KNeighborsClassifier(n_neighbors=k_values[k])\n",
    "model.fit(X_train, y_train)\n",
    "predictions = model.predict(X_test)"
   ]
  },
  {
   "cell_type": "code",
   "execution_count": 136,
   "id": "a2f309ff",
   "metadata": {},
   "outputs": [
    {
     "name": "stdout",
     "output_type": "stream",
     "text": [
      "EVALUATION ON TESTING DATA\n",
      "              precision    recall  f1-score   support\n",
      "\n",
      "           0       1.00      1.00      1.00        43\n",
      "           1       0.95      1.00      0.97        37\n",
      "           2       1.00      1.00      1.00        38\n",
      "           3       1.00      0.98      0.99        46\n",
      "           4       0.98      1.00      0.99        55\n",
      "           5       0.98      0.93      0.96        59\n",
      "           6       0.98      1.00      0.99        45\n",
      "           7       1.00      1.00      1.00        41\n",
      "           8       0.97      0.95      0.96        38\n",
      "           9       0.94      0.96      0.95        48\n",
      "\n",
      "    accuracy                           0.98       450\n",
      "   macro avg       0.98      0.98      0.98       450\n",
      "weighted avg       0.98      0.98      0.98       450\n",
      "\n"
     ]
    }
   ],
   "source": [
    "print(\"EVALUATION ON TESTING DATA\")\n",
    "print(classification_report(y_test, predictions))"
   ]
  },
  {
   "cell_type": "code",
   "execution_count": 137,
   "id": "8be7e59d",
   "metadata": {},
   "outputs": [
    {
     "data": {
      "text/plain": [
       "array([[43,  0,  0,  0,  0,  0,  0,  0,  0,  0],\n",
       "       [ 0, 37,  0,  0,  0,  0,  0,  0,  0,  0],\n",
       "       [ 0,  0, 38,  0,  0,  0,  0,  0,  0,  0],\n",
       "       [ 0,  0,  0, 45,  0,  0,  0,  0,  1,  0],\n",
       "       [ 0,  0,  0,  0, 55,  0,  0,  0,  0,  0],\n",
       "       [ 0,  0,  0,  0,  0, 55,  1,  0,  0,  3],\n",
       "       [ 0,  0,  0,  0,  0,  0, 45,  0,  0,  0],\n",
       "       [ 0,  0,  0,  0,  0,  0,  0, 41,  0,  0],\n",
       "       [ 0,  2,  0,  0,  0,  0,  0,  0, 36,  0],\n",
       "       [ 0,  0,  0,  0,  1,  1,  0,  0,  0, 46]], dtype=int64)"
      ]
     },
     "execution_count": 137,
     "metadata": {},
     "output_type": "execute_result"
    }
   ],
   "source": [
    "confusion_matrix(y_test, predictions)"
   ]
  },
  {
   "cell_type": "code",
   "execution_count": 138,
   "id": "180db8f9",
   "metadata": {},
   "outputs": [
    {
     "name": "stdout",
     "output_type": "stream",
     "text": [
      "Predicted digit :  2\n"
     ]
    },
    {
     "data": {
      "image/png": "[encoded data removed]",
      "text/plain": [
       "<Figure size 432x288 with 1 Axes>"
      ]
     },
     "metadata": {
      "needs_background": "light"
     },
     "output_type": "display_data"
    },
    {
     "name": "stdout",
     "output_type": "stream",
     "text": [
      "Predicted digit :  0\n"
     ]
    },
    {
     "data": {
      "image/png": "[encoded data removed]",
      "text/plain": [
       "<Figure size 432x288 with 1 Axes>"
      ]
     },
     "metadata": {
      "needs_background": "light"
     },
     "output_type": "display_data"
    },
    {
     "name": "stdout",
     "output_type": "stream",
     "text": [
      "Predicted digit :  6\n"
     ]
    },
    {
     "data": {
      "image/png": "[encoded data removed]",
      "text/plain": [
       "<Figure size 432x288 with 1 Axes>"
      ]
     },
     "metadata": {
      "needs_background": "light"
     },
     "output_type": "display_data"
    },
    {
     "name": "stdout",
     "output_type": "stream",
     "text": [
      "Predicted digit :  3\n"
     ]
    },
    {
     "data": {
      "image/png": "[encoded data removed]",
      "text/plain": [
       "<Figure size 432x288 with 1 Axes>"
      ]
     },
     "metadata": {
      "needs_background": "light"
     },
     "output_type": "display_data"
    },
    {
     "name": "stdout",
     "output_type": "stream",
     "text": [
      "Predicted digit :  7\n"
     ]
    },
    {
     "data": {
      "image/png": "[encoded data removed]",
      "text/plain": [
       "<Figure size 432x288 with 1 Axes>"
      ]
     },
     "metadata": {
      "needs_background": "light"
     },
     "output_type": "display_data"
    }
   ],
   "source": [
    "# displaying results for a few digits\n",
    "for i in np.random.randint(0, high=len(y_test), size=(5,)):\n",
    "  # grab the image and classify it\n",
    "  image = X_test[i]\n",
    "  prediction = model.predict([image])[0]\n",
    "  \n",
    "  # show the prediction\n",
    "  imgdata = np.array(image, dtype='float')\n",
    "  pixels = imgdata.reshape((8,8))\n",
    "  plt.imshow(pixels,cmap='gray')\n",
    "  plt.annotate(prediction,(3,3),bbox={'facecolor':'white'},fontsize=16)\n",
    "  print(\"Predicted digit : \",prediction)\n",
    "  plt.show()"
   ]
  },
  {
   "cell_type": "code",
   "execution_count": 139,
   "id": "5f386a59",
   "metadata": {},
   "outputs": [
    {
     "data": {
      "text/html": [
       "<iframe\n",
       "    scrolling=\"no\"\n",
       "    width=\"100%\"\n",
       "    height=\"545px\"\n",
       "    src=\"iframe_figures/figure_139.html\"\n",
       "    frameborder=\"0\"\n",
       "    allowfullscreen\n",
       "></iframe>\n"
      ]
     },
     "metadata": {},
     "output_type": "display_data"
    }
   ],
   "source": [
    "k_values = range(1, 30, 2)\n",
    "\n",
    "accuracies = []\n",
    "\n",
    "for k in range(1, 30, 2):\n",
    "    model = KNeighborsClassifier(n_neighbors=k)\n",
    "    model.fit(X_train, y_train)\n",
    "    score = model.score(X_test, y_test)\n",
    "    accuracies.append(score)\n",
    "\n",
    "acc_df = pd.DataFrame(zip(k_values, accuracies), columns=['k_values', 'accuracies'])\n",
    "fig = px.line(data_frame=acc_df, x='k_values', y='accuracies')\n",
    "fig"
   ]
  },
  {
   "cell_type": "code",
   "execution_count": null,
   "id": "050efe40",
   "metadata": {},
   "outputs": [],
   "source": []
  },
  {
   "cell_type": "code",
   "execution_count": null,
   "id": "cbd10965",
   "metadata": {},
   "outputs": [],
   "source": []
  },
  {
   "cell_type": "code",
   "execution_count": null,
   "id": "4cb8b80b",
   "metadata": {},
   "outputs": [],
   "source": []
  },
  {
   "cell_type": "code",
   "execution_count": null,
   "id": "c3c9ed39",
   "metadata": {},
   "outputs": [],
   "source": []
  }
 ],
 "metadata": {
  "kernelspec": {
   "display_name": "Python 3",
   "language": "python",
   "name": "python3"
  },
  "language_info": {
   "codemirror_mode": {
    "name": "ipython",
    "version": 3
   },
   "file_extension": ".py",
   "mimetype": "text/x-python",
   "name": "python",
   "nbconvert_exporter": "python",
   "pygments_lexer": "ipython3",
   "version": "3.8.8"
  }
 },
 "nbformat": 4,
 "nbformat_minor": 5
}
