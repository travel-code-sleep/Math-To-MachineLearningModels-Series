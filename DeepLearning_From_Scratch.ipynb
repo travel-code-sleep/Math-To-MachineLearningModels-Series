{
 "cells": [
  {
   "cell_type": "code",
   "execution_count": 1,
   "id": "319d23cb-8f3d-42ec-b3d5-80cdc52fb12a",
   "metadata": {},
   "outputs": [
    {
     "data": {
      "text/html": [
       "<style>.container { width:95% !important; }</style>"
      ],
      "text/plain": [
       "<IPython.core.display.HTML object>"
      ]
     },
     "metadata": {},
     "output_type": "display_data"
    }
   ],
   "source": [
    "%reload_ext autoreload\n",
    "%autoreload 2\n",
    "%matplotlib inline \n",
    "%config Completer.use_jedi = False\n",
    "\n",
    "from IPython.core.display import display, HTML\n",
    "display(HTML(\"<style>.container { width:95% !important; }</style>\"))"
   ]
  },
  {
   "cell_type": "markdown",
   "id": "c779eb2f-57be-4814-81d4-7c4ba4293fde",
   "metadata": {},
   "source": [
    "# Imports"
   ]
  },
  {
   "cell_type": "code",
   "execution_count": 2,
   "id": "e5d1a0c8-a811-4772-a2f0-808a7d380816",
   "metadata": {},
   "outputs": [],
   "source": [
    "from fastai.vision.all import *\n",
    "import torch\n",
    "from pathlib import Path\n",
    "import gc\n",
    "from PIL import Image\n",
    "from fastbook import plot_function\n",
    "from tqdm import tqdm\n",
    "from tqdm.notebook import tqdm\n",
    "import pickle \n",
    "from fastbook import *"
   ]
  },
  {
   "cell_type": "markdown",
   "id": "f7102abc-5bba-431d-90e4-67a6a33a5a06",
   "metadata": {},
   "source": [
    "# Pet Classification"
   ]
  },
  {
   "cell_type": "markdown",
   "id": "e088124a-a718-4d3d-8972-fdae3aab58be",
   "metadata": {},
   "source": [
    "## Get Data"
   ]
  },
  {
   "cell_type": "code",
   "execution_count": 3,
   "id": "2f394e80-6ea3-47d8-bc81-76c8332f87c5",
   "metadata": {},
   "outputs": [],
   "source": [
    "path = untar_data(URLs.PETS, dest=Path.cwd())"
   ]
  },
  {
   "cell_type": "code",
   "execution_count": 4,
   "id": "45ca2472-f7b8-4343-9022-001c6d79f522",
   "metadata": {},
   "outputs": [
    {
     "data": {
      "text/plain": [
       "Path('D:/amit/DL_Books/deep_learning_for_coders_with_fastAI/practice_workspace/oxford-iiit-pet')"
      ]
     },
     "execution_count": 4,
     "metadata": {},
     "output_type": "execute_result"
    }
   ],
   "source": [
    "path"
   ]
  },
  {
   "cell_type": "code",
   "execution_count": 5,
   "id": "86a51800-c722-47f8-b11f-ca0acc06feed",
   "metadata": {},
   "outputs": [
    {
     "data": {
      "text/plain": [
       "(#2) [Path('D:/amit/DL_Books/deep_learning_for_coders_with_fastAI/practice_workspace/oxford-iiit-pet/annotations'),Path('D:/amit/DL_Books/deep_learning_for_coders_with_fastAI/practice_workspace/oxford-iiit-pet/images')]"
      ]
     },
     "execution_count": 5,
     "metadata": {},
     "output_type": "execute_result"
    }
   ],
   "source": [
    "path.ls()"
   ]
  },
  {
   "cell_type": "code",
   "execution_count": null,
   "id": "5bdee942-d15e-4ab8-aa68-e5debc1616d0",
   "metadata": {},
   "outputs": [],
   "source": [
    "path"
   ]
  }
 ],
 "metadata": {
  "kernelspec": {
   "display_name": "Python 3",
   "language": "python",
   "name": "python3"
  },
  "language_info": {
   "codemirror_mode": {
    "name": "ipython",
    "version": 3
   },
   "file_extension": ".py",
   "mimetype": "text/x-python",
   "name": "python",
   "nbconvert_exporter": "python",
   "pygments_lexer": "ipython3",
   "version": "3.7.10"
  }
 },
 "nbformat": 4,
 "nbformat_minor": 5
}
